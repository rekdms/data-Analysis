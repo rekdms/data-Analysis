{
 "cells": [
  {
   "cell_type": "code",
   "execution_count": 1,
   "id": "cb1021b9-ee0b-45de-8bd5-f2d86d891d64",
   "metadata": {},
   "outputs": [
    {
     "name": "stdout",
     "output_type": "stream",
     "text": [
      "Collecting plotly==5.22.0\n",
      "  Downloading plotly-5.22.0-py3-none-any.whl.metadata (7.1 kB)\n",
      "Requirement already satisfied: tenacity>=6.2.0 in /opt/anaconda3/lib/python3.13/site-packages (from plotly==5.22.0) (9.0.0)\n",
      "Requirement already satisfied: packaging in /opt/anaconda3/lib/python3.13/site-packages (from plotly==5.22.0) (24.2)\n",
      "Downloading plotly-5.22.0-py3-none-any.whl (16.4 MB)\n",
      "\u001b[2K   \u001b[90m━━━━━━━━━━━━━━━━━━━━━━━━━━━━━━━━━━━━━━━━\u001b[0m \u001b[32m16.4/16.4 MB\u001b[0m \u001b[31m51.4 MB/s\u001b[0m eta \u001b[36m0:00:00\u001b[0ma \u001b[36m0:00:01\u001b[0m\n",
      "Installing collected packages: plotly\n",
      "  Attempting uninstall: plotly\n",
      "    Found existing installation: plotly 5.24.1\n",
      "    Uninstalling plotly-5.24.1:\n",
      "      Successfully uninstalled plotly-5.24.1\n",
      "Successfully installed plotly-5.22.0\n"
     ]
    }
   ],
   "source": [
    "# !pip install plotly==5.22.0"
   ]
  },
  {
   "cell_type": "code",
   "execution_count": 2,
   "id": "526274fb-6256-4ba1-afba-89035f45145b",
   "metadata": {},
   "outputs": [
    {
     "data": {
      "application/vnd.plotly.v1+json": {
       "config": {
        "plotlyServerURL": "https://plot.ly"
       },
       "data": [
        {
         "bingroup": "x",
         "hovertemplate": "IMDB_Rating=%{x}<br>count=%{y}<extra></extra>",
         "legendgroup": "",
         "marker": {
          "color": "#636efa",
          "pattern": {
           "shape": ""
          }
         },
         "name": "",
         "nbinsx": 10,
         "orientation": "v",
         "showlegend": false,
         "type": "histogram",
         "x": {
          "bdata": "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",
          "dtype": "f8"
         },
         "xaxis": "x",
         "yaxis": "y"
        }
       ],
       "layout": {
        "barmode": "relative",
        "legend": {
         "tracegroupgap": 0
        },
        "template": {
         "data": {
          "bar": [
           {
            "error_x": {
             "color": "#2a3f5f"
            },
            "error_y": {
             "color": "#2a3f5f"
            },
            "marker": {
             "line": {
              "color": "#E5ECF6",
              "width": 0.5
             },
             "pattern": {
              "fillmode": "overlay",
              "size": 10,
              "solidity": 0.2
             }
            },
            "type": "bar"
           }
          ],
          "barpolar": [
           {
            "marker": {
             "line": {
              "color": "#E5ECF6",
              "width": 0.5
             },
             "pattern": {
              "fillmode": "overlay",
              "size": 10,
              "solidity": 0.2
             }
            },
            "type": "barpolar"
           }
          ],
          "carpet": [
           {
            "aaxis": {
             "endlinecolor": "#2a3f5f",
             "gridcolor": "white",
             "linecolor": "white",
             "minorgridcolor": "white",
             "startlinecolor": "#2a3f5f"
            },
            "baxis": {
             "endlinecolor": "#2a3f5f",
             "gridcolor": "white",
             "linecolor": "white",
             "minorgridcolor": "white",
             "startlinecolor": "#2a3f5f"
            },
            "type": "carpet"
           }
          ],
          "choropleth": [
           {
            "colorbar": {
             "outlinewidth": 0,
             "ticks": ""
            },
            "type": "choropleth"
           }
          ],
          "contour": [
           {
            "colorbar": {
             "outlinewidth": 0,
             "ticks": ""
            },
            "colorscale": [
             [
              0,
              "#0d0887"
             ],
             [
              0.1111111111111111,
              "#46039f"
             ],
             [
              0.2222222222222222,
              "#7201a8"
             ],
             [
              0.3333333333333333,
              "#9c179e"
             ],
             [
              0.4444444444444444,
              "#bd3786"
             ],
             [
              0.5555555555555556,
              "#d8576b"
             ],
             [
              0.6666666666666666,
              "#ed7953"
             ],
             [
              0.7777777777777778,
              "#fb9f3a"
             ],
             [
              0.8888888888888888,
              "#fdca26"
             ],
             [
              1,
              "#f0f921"
             ]
            ],
            "type": "contour"
           }
          ],
          "contourcarpet": [
           {
            "colorbar": {
             "outlinewidth": 0,
             "ticks": ""
            },
            "type": "contourcarpet"
           }
          ],
          "heatmap": [
           {
            "colorbar": {
             "outlinewidth": 0,
             "ticks": ""
            },
            "colorscale": [
             [
              0,
              "#0d0887"
             ],
             [
              0.1111111111111111,
              "#46039f"
             ],
             [
              0.2222222222222222,
              "#7201a8"
             ],
             [
              0.3333333333333333,
              "#9c179e"
             ],
             [
              0.4444444444444444,
              "#bd3786"
             ],
             [
              0.5555555555555556,
              "#d8576b"
             ],
             [
              0.6666666666666666,
              "#ed7953"
             ],
             [
              0.7777777777777778,
              "#fb9f3a"
             ],
             [
              0.8888888888888888,
              "#fdca26"
             ],
             [
              1,
              "#f0f921"
             ]
            ],
            "type": "heatmap"
           }
          ],
          "histogram": [
           {
            "marker": {
             "pattern": {
              "fillmode": "overlay",
              "size": 10,
              "solidity": 0.2
             }
            },
            "type": "histogram"
           }
          ],
          "histogram2d": [
           {
            "colorbar": {
             "outlinewidth": 0,
             "ticks": ""
            },
            "colorscale": [
             [
              0,
              "#0d0887"
             ],
             [
              0.1111111111111111,
              "#46039f"
             ],
             [
              0.2222222222222222,
              "#7201a8"
             ],
             [
              0.3333333333333333,
              "#9c179e"
             ],
             [
              0.4444444444444444,
              "#bd3786"
             ],
             [
              0.5555555555555556,
              "#d8576b"
             ],
             [
              0.6666666666666666,
              "#ed7953"
             ],
             [
              0.7777777777777778,
              "#fb9f3a"
             ],
             [
              0.8888888888888888,
              "#fdca26"
             ],
             [
              1,
              "#f0f921"
             ]
            ],
            "type": "histogram2d"
           }
          ],
          "histogram2dcontour": [
           {
            "colorbar": {
             "outlinewidth": 0,
             "ticks": ""
            },
            "colorscale": [
             [
              0,
              "#0d0887"
             ],
             [
              0.1111111111111111,
              "#46039f"
             ],
             [
              0.2222222222222222,
              "#7201a8"
             ],
             [
              0.3333333333333333,
              "#9c179e"
             ],
             [
              0.4444444444444444,
              "#bd3786"
             ],
             [
              0.5555555555555556,
              "#d8576b"
             ],
             [
              0.6666666666666666,
              "#ed7953"
             ],
             [
              0.7777777777777778,
              "#fb9f3a"
             ],
             [
              0.8888888888888888,
              "#fdca26"
             ],
             [
              1,
              "#f0f921"
             ]
            ],
            "type": "histogram2dcontour"
           }
          ],
          "mesh3d": [
           {
            "colorbar": {
             "outlinewidth": 0,
             "ticks": ""
            },
            "type": "mesh3d"
           }
          ],
          "parcoords": [
           {
            "line": {
             "colorbar": {
              "outlinewidth": 0,
              "ticks": ""
             }
            },
            "type": "parcoords"
           }
          ],
          "pie": [
           {
            "automargin": true,
            "type": "pie"
           }
          ],
          "scatter": [
           {
            "fillpattern": {
             "fillmode": "overlay",
             "size": 10,
             "solidity": 0.2
            },
            "type": "scatter"
           }
          ],
          "scatter3d": [
           {
            "line": {
             "colorbar": {
              "outlinewidth": 0,
              "ticks": ""
             }
            },
            "marker": {
             "colorbar": {
              "outlinewidth": 0,
              "ticks": ""
             }
            },
            "type": "scatter3d"
           }
          ],
          "scattercarpet": [
           {
            "marker": {
             "colorbar": {
              "outlinewidth": 0,
              "ticks": ""
             }
            },
            "type": "scattercarpet"
           }
          ],
          "scattergeo": [
           {
            "marker": {
             "colorbar": {
              "outlinewidth": 0,
              "ticks": ""
             }
            },
            "type": "scattergeo"
           }
          ],
          "scattergl": [
           {
            "marker": {
             "colorbar": {
              "outlinewidth": 0,
              "ticks": ""
             }
            },
            "type": "scattergl"
           }
          ],
          "scattermap": [
           {
            "marker": {
             "colorbar": {
              "outlinewidth": 0,
              "ticks": ""
             }
            },
            "type": "scattermap"
           }
          ],
          "scattermapbox": [
           {
            "marker": {
             "colorbar": {
              "outlinewidth": 0,
              "ticks": ""
             }
            },
            "type": "scattermapbox"
           }
          ],
          "scatterpolar": [
           {
            "marker": {
             "colorbar": {
              "outlinewidth": 0,
              "ticks": ""
             }
            },
            "type": "scatterpolar"
           }
          ],
          "scatterpolargl": [
           {
            "marker": {
             "colorbar": {
              "outlinewidth": 0,
              "ticks": ""
             }
            },
            "type": "scatterpolargl"
           }
          ],
          "scatterternary": [
           {
            "marker": {
             "colorbar": {
              "outlinewidth": 0,
              "ticks": ""
             }
            },
            "type": "scatterternary"
           }
          ],
          "surface": [
           {
            "colorbar": {
             "outlinewidth": 0,
             "ticks": ""
            },
            "colorscale": [
             [
              0,
              "#0d0887"
             ],
             [
              0.1111111111111111,
              "#46039f"
             ],
             [
              0.2222222222222222,
              "#7201a8"
             ],
             [
              0.3333333333333333,
              "#9c179e"
             ],
             [
              0.4444444444444444,
              "#bd3786"
             ],
             [
              0.5555555555555556,
              "#d8576b"
             ],
             [
              0.6666666666666666,
              "#ed7953"
             ],
             [
              0.7777777777777778,
              "#fb9f3a"
             ],
             [
              0.8888888888888888,
              "#fdca26"
             ],
             [
              1,
              "#f0f921"
             ]
            ],
            "type": "surface"
           }
          ],
          "table": [
           {
            "cells": {
             "fill": {
              "color": "#EBF0F8"
             },
             "line": {
              "color": "white"
             }
            },
            "header": {
             "fill": {
              "color": "#C8D4E3"
             },
             "line": {
              "color": "white"
             }
            },
            "type": "table"
           }
          ]
         },
         "layout": {
          "annotationdefaults": {
           "arrowcolor": "#2a3f5f",
           "arrowhead": 0,
           "arrowwidth": 1
          },
          "autotypenumbers": "strict",
          "coloraxis": {
           "colorbar": {
            "outlinewidth": 0,
            "ticks": ""
           }
          },
          "colorscale": {
           "diverging": [
            [
             0,
             "#8e0152"
            ],
            [
             0.1,
             "#c51b7d"
            ],
            [
             0.2,
             "#de77ae"
            ],
            [
             0.3,
             "#f1b6da"
            ],
            [
             0.4,
             "#fde0ef"
            ],
            [
             0.5,
             "#f7f7f7"
            ],
            [
             0.6,
             "#e6f5d0"
            ],
            [
             0.7,
             "#b8e186"
            ],
            [
             0.8,
             "#7fbc41"
            ],
            [
             0.9,
             "#4d9221"
            ],
            [
             1,
             "#276419"
            ]
           ],
           "sequential": [
            [
             0,
             "#0d0887"
            ],
            [
             0.1111111111111111,
             "#46039f"
            ],
            [
             0.2222222222222222,
             "#7201a8"
            ],
            [
             0.3333333333333333,
             "#9c179e"
            ],
            [
             0.4444444444444444,
             "#bd3786"
            ],
            [
             0.5555555555555556,
             "#d8576b"
            ],
            [
             0.6666666666666666,
             "#ed7953"
            ],
            [
             0.7777777777777778,
             "#fb9f3a"
            ],
            [
             0.8888888888888888,
             "#fdca26"
            ],
            [
             1,
             "#f0f921"
            ]
           ],
           "sequentialminus": [
            [
             0,
             "#0d0887"
            ],
            [
             0.1111111111111111,
             "#46039f"
            ],
            [
             0.2222222222222222,
             "#7201a8"
            ],
            [
             0.3333333333333333,
             "#9c179e"
            ],
            [
             0.4444444444444444,
             "#bd3786"
            ],
            [
             0.5555555555555556,
             "#d8576b"
            ],
            [
             0.6666666666666666,
             "#ed7953"
            ],
            [
             0.7777777777777778,
             "#fb9f3a"
            ],
            [
             0.8888888888888888,
             "#fdca26"
            ],
            [
             1,
             "#f0f921"
            ]
           ]
          },
          "colorway": [
           "#636efa",
           "#EF553B",
           "#00cc96",
           "#ab63fa",
           "#FFA15A",
           "#19d3f3",
           "#FF6692",
           "#B6E880",
           "#FF97FF",
           "#FECB52"
          ],
          "font": {
           "color": "#2a3f5f"
          },
          "geo": {
           "bgcolor": "white",
           "lakecolor": "white",
           "landcolor": "#E5ECF6",
           "showlakes": true,
           "showland": true,
           "subunitcolor": "white"
          },
          "hoverlabel": {
           "align": "left"
          },
          "hovermode": "closest",
          "mapbox": {
           "style": "light"
          },
          "paper_bgcolor": "white",
          "plot_bgcolor": "#E5ECF6",
          "polar": {
           "angularaxis": {
            "gridcolor": "white",
            "linecolor": "white",
            "ticks": ""
           },
           "bgcolor": "#E5ECF6",
           "radialaxis": {
            "gridcolor": "white",
            "linecolor": "white",
            "ticks": ""
           }
          },
          "scene": {
           "xaxis": {
            "backgroundcolor": "#E5ECF6",
            "gridcolor": "white",
            "gridwidth": 2,
            "linecolor": "white",
            "showbackground": true,
            "ticks": "",
            "zerolinecolor": "white"
           },
           "yaxis": {
            "backgroundcolor": "#E5ECF6",
            "gridcolor": "white",
            "gridwidth": 2,
            "linecolor": "white",
            "showbackground": true,
            "ticks": "",
            "zerolinecolor": "white"
           },
           "zaxis": {
            "backgroundcolor": "#E5ECF6",
            "gridcolor": "white",
            "gridwidth": 2,
            "linecolor": "white",
            "showbackground": true,
            "ticks": "",
            "zerolinecolor": "white"
           }
          },
          "shapedefaults": {
           "line": {
            "color": "#2a3f5f"
           }
          },
          "ternary": {
           "aaxis": {
            "gridcolor": "white",
            "linecolor": "white",
            "ticks": ""
           },
           "baxis": {
            "gridcolor": "white",
            "linecolor": "white",
            "ticks": ""
           },
           "bgcolor": "#E5ECF6",
           "caxis": {
            "gridcolor": "white",
            "linecolor": "white",
            "ticks": ""
           }
          },
          "title": {
           "x": 0.05
          },
          "xaxis": {
           "automargin": true,
           "gridcolor": "white",
           "linecolor": "white",
           "ticks": "",
           "title": {
            "standoff": 15
           },
           "zerolinecolor": "white",
           "zerolinewidth": 2
          },
          "yaxis": {
           "automargin": true,
           "gridcolor": "white",
           "linecolor": "white",
           "ticks": "",
           "title": {
            "standoff": 15
           },
           "zerolinecolor": "white",
           "zerolinewidth": 2
          }
         }
        },
        "title": {
         "text": "Distribution of IMDB Ratings"
        },
        "xaxis": {
         "anchor": "y",
         "domain": [
          0,
          1
         ],
         "title": {
          "text": "IMDB_Rating"
         }
        },
        "yaxis": {
         "anchor": "x",
         "domain": [
          0,
          1
         ],
         "title": {
          "text": "count"
         }
        }
       }
      },
      "image/png": "[encoded data removed]"
     },
     "metadata": {},
     "output_type": "display_data"
    }
   ],
   "source": [
    "import pandas as pd\n",
    "import plotly.express as px\n",
    "\n",
    "df = pd.read_csv('IMDB_top_1000.csv')\n",
    "\n",
    "fig = px.histogram(df, x='IMDB_Rating', nbins=10, title='Distribution of IMDB Ratings')\n",
    "fig.show()"
   ]
  },
  {
   "cell_type": "code",
   "execution_count": 3,
   "id": "21c9f779-fa09-479e-95f6-68ccf3559dc1",
   "metadata": {},
   "outputs": [
    {
     "data": {
      "application/vnd.plotly.v1+json": {
       "config": {
        "plotlyServerURL": "https://plot.ly"
       },
       "data": [
        {
         "bingroup": "x",
         "hovertemplate": "IMDB_Rating=%{x}<br>count=%{y}<extra></extra>",
         "legendgroup": "",
         "marker": {
          "color": "#636efa",
          "pattern": {
           "shape": ""
          }
         },
         "name": "",
         "nbinsx": 20,
         "orientation": "v",
         "showlegend": false,
         "type": "histogram",
         "x": {
          "bdata": "mpmZmZmZIkBmZmZmZmYiQAAAAAAAACJAAAAAAAAAIkAAAAAAAAAiQM3MzMzMzCFAzczMzMzMIUDNzMzMzMwhQJqZmZmZmSFAmpmZmZmZIUCamZmZmZkhQJqZmZmZmSFAmpmZmZmZIUBmZmZmZmYhQGZmZmZmZiFAZmZmZmZmIUBmZmZmZmYhQGZmZmZmZiFAMzMzMzMzIUAzMzMzMzMhQDMzMzMzMyFAMzMzMzMzIUAzMzMzMzMhQDMzMzMzMyFAMzMzMzMzIUAzMzMzMzMhQDMzMzMzMyFAMzMzMzMzIUAzMzMzMzMhQDMzMzMzMyFAMzMzMzMzIUAzMzMzMzMhQDMzMzMzMyFAAAAAAAAAIUAAAAAAAAAhQAAAAAAAACFAAAAAAAAAIUAAAAAAAAAhQAAAAAAAACFAAAAAAAAAIUAAAAAAAAAhQAAAAAAAACFAAAAAAAAAIUAAAAAAAAAhQAAAAAAAACFAAAAAAAAAIUAAAAAAAAAhQAAAAAAAACFAAAAAAAAAIUAAAAAAAAAhQAAAAAAAACFAAAAAAAAAIUAAAAAAAAAhQM3MzMzMzCBAzczMzMzMIEDNzMzMzMwgQM3MzMzMzCBAzczMzMzMIEDNzMzMzMwgQM3MzMzMzCBAzczMzMzMIEDNzMzMzMwgQM3MzMzMzCBAzczMzMzMIEDNzMzMzMwgQM3MzMzMzCBAzczMzMzMIEDNzMzMzMwgQM3MzMzMzCBAzczMzMzMIEDNzMzMzMwgQM3MzMzMzCBAzczMzMzMIEDNzMzMzMwgQM3MzMzMzCBAzczMzMzMIEDNzMzMzMwgQM3MzMzMzCBAzczMzMzMIEDNzMzMzMwgQM3MzMzMzCBAzczMzMzMIEDNzMzMzMwgQM3MzMzMzCBAmpmZmZmZIECamZmZmZkgQJqZmZmZmSBAmpmZmZmZIECamZmZmZkgQJqZmZmZmSBAmpmZmZmZIECamZmZmZkgQJqZmZmZmSBAmpmZmZmZIECamZmZmZkgQJqZmZmZmSBAmpmZmZmZIECamZmZmZkgQJqZmZmZmSBAmpmZmZmZIECamZmZmZkgQJqZmZmZmSBAmpmZmZmZIECamZmZmZkgQJqZmZmZmSBAmpmZmZmZIECamZmZmZkgQJqZmZmZmSBAmpmZmZmZIECamZmZmZkgQJqZmZmZmSBAmpmZmZmZIECamZmZmZkgQJqZmZmZmSBAmpmZmZmZIECamZmZmZkgQJqZmZmZmSBAmpmZmZmZIECamZmZmZkgQJqZmZmZmSBAmpmZmZmZIECamZmZmZkgQJqZmZmZmSBAmpmZmZmZIECamZmZmZkgQJqZmZmZmSBAmpmZmZmZIECamZmZmZkgQGZmZmZmZiBAZmZmZmZmIEBmZmZmZmYgQGZmZmZmZiBAZmZmZmZmIEBmZmZmZmYgQGZmZmZmZiBAZmZmZmZmIEBmZmZmZmYgQGZmZmZmZiBAZmZmZmZmIEBmZmZmZmYgQGZmZmZmZiBAZmZmZmZmIEBmZmZmZmYgQGZmZmZmZiBAZmZmZmZmIEBmZmZmZmYgQGZmZmZmZiBAZmZmZmZmIEBmZmZmZmYgQGZmZmZmZiBAZmZmZmZmIEBmZmZmZmYgQGZmZmZmZiBAZmZmZmZmIEBmZmZmZmYgQGZmZmZmZiBAZmZmZmZmIEBmZmZmZmYgQGZmZmZmZiBAZmZmZmZmIEBmZmZmZmYgQGZmZmZmZiBAZmZmZmZmIEBmZmZmZmYgQGZmZmZmZiBAZmZmZmZmIEBmZmZmZmYgQGZmZmZmZiBAZmZmZmZmIEBmZmZmZmYgQGZmZmZmZiBAZmZmZmZmIEBmZmZmZmYgQGZmZmZmZiBAZmZmZmZmIEBmZmZmZmYgQGZmZmZmZiBAZmZmZmZmIEBmZmZmZmYgQGZmZmZmZiBAZmZmZmZmIEBmZmZmZmYgQGZmZmZmZiBAZmZmZmZmIEBmZmZmZmYgQGZmZmZmZiBAZmZmZmZmIEBmZmZmZmYgQGZmZmZmZiBAZmZmZmZmIEBmZmZmZmYgQGZmZmZmZiBAZmZmZmZmIEBmZmZmZmYgQGZmZmZmZiBAMzMzMzMzIEAzMzMzMzMgQDMzMzMzMyBAMzMzMzMzIEAzMzMzMzMgQDMzMzMzMyBAMzMzMzMzIEAzMzMzMzMgQDMzMzMzMyBAMzMzMzMzIEAzMzMzMzMgQDMzMzMzMyBAMzMzMzMzIEAzMzMzMzMgQDMzMzMzMyBAMzMzMzMzIEAzMzMzMzMgQDMzMzMzMyBAMzMzMzMzIEAzMzMzMzMgQDMzMzMzMyBAMzMzMzMzIEAzMzMzMzMgQDMzMzMzMyBAMzMzMzMzIEAzMzMzMzMgQDMzMzMzMyBAMzMzMzMzIEAzMzMzMzMgQDMzMzMzMyBAMzMzMzMzIEAzMzMzMzMgQDMzMzMzMyBAMzMzMzMzIEAzMzMzMzMgQDMzMzMzMyBAMzMzMzMzIEAzMzMzMzMgQDMzMzMzMyBAMzMzMzMzIEAzMzMzMzMgQDMzMzMzMyBAMzMzMzMzIEAzMzMzMzMgQDMzMzMzMyBAMzMzMzMzIEAzMzMzMzMgQDMzMzMzMyBAMzMzMzMzIEAzMzMzMzMgQDMzMzMzMyBAMzMzMzMzIEAzMzMzMzMgQDMzMzMzMyBAMzMzMzMzIEAzMzMzMzMgQDMzMzMzMyBAMzMzMzMzIEAzMzMzMzMgQDMzMzMzMyBAMzMzMzMzIEAzMzMzMzMgQDMzMzMzMyBAMzMzMzMzIEAzMzMzMzMgQDMzMzMzMyBAMzMzMzMzIEAzMzMzMzMgQDMzMzMzMyBAMzMzMzMzIEAzMzMzMzMgQDMzMzMzMyBAMzMzMzMzIEAzMzMzMzMgQDMzMzMzMyBAMzMzMzMzIEAzMzMzMzMgQDMzMzMzMyBAMzMzMzMzIEAzMzMzMzMgQDMzMzMzMyBAMzMzMzMzIEAzMzMzMzMgQDMzMzMzMyBAMzMzMzMzIEAzMzMzMzMgQDMzMzMzMyBAMzMzMzMzIEAzMzMzMzMgQDMzMzMzMyBAMzMzMzMzIEAzMzMzMzMgQDMzMzMzMyBAMzMzMzMzIEAzMzMzMzMgQDMzMzMzMyBAMzMzMzMzIEAzMzMzMzMgQDMzMzMzMyBAMzMzMzMzIEAzMzMzMzMgQDMzMzMzMyBAMzMzMzMzIEAzMzMzMzMgQDMzMzMzMyBAMzMzMzMzIEAzMzMzMzMgQDMzMzMzMyBAMzMzMzMzIEAzMzMzMzMgQDMzMzMzMyBAMzMzMzMzIEAzMzMzMzMgQDMzMzMzMyBAMzMzMzMzIEAzMzMzMzMgQDMzMzMzMyBAMzMzMzMzIEAzMzMzMzMgQDMzMzMzMyBAMzMzMzMzIEAzMzMzMzMgQDMzMzMzMyBAMzMzMzMzIEAzMzMzMzMgQDMzMzMzMyBAMzMzMzMzIEAAAAAAAAAgQAAAAAAAACBAAAAAAAAAIEAAAAAAAAAgQAAAAAAAACBAAAAAAAAAIEAAAAAAAAAgQAAAAAAAACBAAAAAAAAAIEAAAAAAAAAgQAAAAAAAACBAAAAAAAAAIEAAAAAAAAAgQAAAAAAAACBAAAAAAAAAIEAAAAAAAAAgQAAAAAAAACBAAAAAAAAAIEAAAAAAAAAgQAAAAAAAACBAAAAAAAAAIEAAAAAAAAAgQAAAAAAAACBAAAAAAAAAIEAAAAAAAAAgQAAAAAAAACBAAAAAAAAAIEAAAAAAAAAgQAAAAAAAACBAAAAAAAAAIEAAAAAAAAAgQAAAAAAAACBAAAAAAAAAIEAAAAAAAAAgQAAAAAAAACBAAAAAAAAAIEAAAAAAAAAgQAAAAAAAACBAAAAAAAAAIEAAAAAAAAAgQAAAAAAAACBAAAAAAAAAIEAAAAAAAAAgQAAAAAAAACBAAAAAAAAAIEAAAAAAAAAgQAAAAAAAACBAAAAAAAAAIEAAAAAAAAAgQAAAAAAAACBAAAAAAAAAIEAAAAAAAAAgQAAAAAAAACBAAAAAAAAAIEAAAAAAAAAgQAAAAAAAACBAAAAAAAAAIEAAAAAAAAAgQAAAAAAAACBAAAAAAAAAIEAAAAAAAAAgQAAAAAAAACBAAAAAAAAAIEAAAAAAAAAgQAAAAAAAACBAAAAAAAAAIEAAAAAAAAAgQAAAAAAAACBAAAAAAAAAIEAAAAAAAAAgQAAAAAAAACBAAAAAAAAAIEAAAAAAAAAgQAAAAAAAACBAAAAAAAAAIEAAAAAAAAAgQAAAAAAAACBAAAAAAAAAIEAAAAAAAAAgQAAAAAAAACBAAAAAAAAAIEAAAAAAAAAgQAAAAAAAACBAAAAAAAAAIEAAAAAAAAAgQAAAAAAAACBAAAAAAAAAIEAAAAAAAAAgQAAAAAAAACBAAAAAAAAAIEAAAAAAAAAgQAAAAAAAACBAAAAAAAAAIEAAAAAAAAAgQAAAAAAAACBAAAAAAAAAIEAAAAAAAAAgQAAAAAAAACBAAAAAAAAAIEAAAAAAAAAgQAAAAAAAACBAAAAAAAAAIEAAAAAAAAAgQAAAAAAAACBAAAAAAAAAIEAAAAAAAAAgQAAAAAAAACBAAAAAAAAAIEAAAAAAAAAgQAAAAAAAACBAAAAAAAAAIEAAAAAAAAAgQAAAAAAAACBAAAAAAAAAIEAAAAAAAAAgQAAAAAAAACBAAAAAAAAAIEAAAAAAAAAgQAAAAAAAACBAAAAAAAAAIEAAAAAAAAAgQAAAAAAAACBAAAAAAAAAIEAAAAAAAAAgQAAAAAAAACBAAAAAAAAAIEAAAAAAAAAgQAAAAAAAACBAAAAAAAAAIEAAAAAAAAAgQAAAAAAAACBAAAAAAAAAIEAAAAAAAAAgQAAAAAAAACBAAAAAAAAAIEAAAAAAAAAgQAAAAAAAACBAAAAAAAAAIEAAAAAAAAAgQAAAAAAAACBAAAAAAAAAIECamZmZmZkfQJqZmZmZmR9AmpmZmZmZH0CamZmZmZkfQJqZmZmZmR9AmpmZmZmZH0CamZmZmZkfQJqZmZmZmR9AmpmZmZmZH0CamZmZmZkfQJqZmZmZmR9AmpmZmZmZH0CamZmZmZkfQJqZmZmZmR9AmpmZmZmZH0CamZmZmZkfQJqZmZmZmR9AmpmZmZmZH0CamZmZmZkfQJqZmZmZmR9AmpmZmZmZH0CamZmZmZkfQJqZmZmZmR9AmpmZmZmZH0CamZmZmZkfQJqZmZmZmR9AmpmZmZmZH0CamZmZmZkfQJqZmZmZmR9AmpmZmZmZH0CamZmZmZkfQJqZmZmZmR9AmpmZmZmZH0CamZmZmZkfQJqZmZmZmR9AmpmZmZmZH0CamZmZmZkfQJqZmZmZmR9AmpmZmZmZH0CamZmZmZkfQJqZmZmZmR9AmpmZmZmZH0CamZmZmZkfQJqZmZmZmR9AmpmZmZmZH0CamZmZmZkfQJqZmZmZmR9AmpmZmZmZH0CamZmZmZkfQJqZmZmZmR9AmpmZmZmZH0CamZmZmZkfQJqZmZmZmR9AmpmZmZmZH0CamZmZmZkfQJqZmZmZmR9AmpmZmZmZH0CamZmZmZkfQJqZmZmZmR9AmpmZmZmZH0CamZmZmZkfQJqZmZmZmR9AmpmZmZmZH0CamZmZmZkfQJqZmZmZmR9AmpmZmZmZH0CamZmZmZkfQJqZmZmZmR9AmpmZmZmZH0CamZmZmZkfQJqZmZmZmR9AmpmZmZmZH0CamZmZmZkfQJqZmZmZmR9AmpmZmZmZH0CamZmZmZkfQJqZmZmZmR9AmpmZmZmZH0CamZmZmZkfQJqZmZmZmR9AmpmZmZmZH0CamZmZmZkfQJqZmZmZmR9AmpmZmZmZH0CamZmZmZkfQJqZmZmZmR9AmpmZmZmZH0CamZmZmZkfQJqZmZmZmR9AmpmZmZmZH0CamZmZmZkfQJqZmZmZmR9AmpmZmZmZH0CamZmZmZkfQJqZmZmZmR9AmpmZmZmZH0CamZmZmZkfQJqZmZmZmR9AmpmZmZmZH0CamZmZmZkfQJqZmZmZmR9AmpmZmZmZH0CamZmZmZkfQJqZmZmZmR9AmpmZmZmZH0CamZmZmZkfQDMzMzMzMx9AMzMzMzMzH0AzMzMzMzMfQDMzMzMzMx9AMzMzMzMzH0AzMzMzMzMfQDMzMzMzMx9AMzMzMzMzH0AzMzMzMzMfQDMzMzMzMx9AMzMzMzMzH0AzMzMzMzMfQDMzMzMzMx9AMzMzMzMzH0AzMzMzMzMfQDMzMzMzMx9AMzMzMzMzH0AzMzMzMzMfQDMzMzMzMx9AMzMzMzMzH0AzMzMzMzMfQDMzMzMzMx9AMzMzMzMzH0AzMzMzMzMfQDMzMzMzMx9AMzMzMzMzH0AzMzMzMzMfQDMzMzMzMx9AMzMzMzMzH0AzMzMzMzMfQDMzMzMzMx9AMzMzMzMzH0AzMzMzMzMfQDMzMzMzMx9AMzMzMzMzH0AzMzMzMzMfQDMzMzMzMx9AMzMzMzMzH0AzMzMzMzMfQDMzMzMzMx9AMzMzMzMzH0AzMzMzMzMfQDMzMzMzMx9AMzMzMzMzH0AzMzMzMzMfQDMzMzMzMx9AMzMzMzMzH0AzMzMzMzMfQDMzMzMzMx9AMzMzMzMzH0AzMzMzMzMfQDMzMzMzMx9AMzMzMzMzH0AzMzMzMzMfQDMzMzMzMx9AMzMzMzMzH0AzMzMzMzMfQDMzMzMzMx9AMzMzMzMzH0AzMzMzMzMfQDMzMzMzMx9AMzMzMzMzH0AzMzMzMzMfQDMzMzMzMx9AMzMzMzMzH0AzMzMzMzMfQDMzMzMzMx9AMzMzMzMzH0AzMzMzMzMfQDMzMzMzMx9AMzMzMzMzH0AzMzMzMzMfQDMzMzMzMx9AMzMzMzMzH0AzMzMzMzMfQDMzMzMzMx9AMzMzMzMzH0AzMzMzMzMfQDMzMzMzMx9AMzMzMzMzH0AzMzMzMzMfQDMzMzMzMx9AMzMzMzMzH0AzMzMzMzMfQDMzMzMzMx9AMzMzMzMzH0AzMzMzMzMfQDMzMzMzMx9AMzMzMzMzH0AzMzMzMzMfQDMzMzMzMx9AMzMzMzMzH0AzMzMzMzMfQDMzMzMzMx9AMzMzMzMzH0AzMzMzMzMfQDMzMzMzMx9AMzMzMzMzH0AzMzMzMzMfQDMzMzMzMx9AMzMzMzMzH0AzMzMzMzMfQDMzMzMzMx9AMzMzMzMzH0AzMzMzMzMfQDMzMzMzMx9AMzMzMzMzH0AzMzMzMzMfQDMzMzMzMx9AMzMzMzMzH0AzMzMzMzMfQDMzMzMzMx9AMzMzMzMzH0AzMzMzMzMfQDMzMzMzMx9AMzMzMzMzH0AzMzMzMzMfQDMzMzMzMx9AMzMzMzMzH0AzMzMzMzMfQDMzMzMzMx9AMzMzMzMzH0AzMzMzMzMfQDMzMzMzMx9AMzMzMzMzH0AzMzMzMzMfQDMzMzMzMx9AMzMzMzMzH0AzMzMzMzMfQDMzMzMzMx9AMzMzMzMzH0AzMzMzMzMfQDMzMzMzMx9AMzMzMzMzH0AzMzMzMzMfQDMzMzMzMx9AMzMzMzMzH0AzMzMzMzMfQDMzMzMzMx9AMzMzMzMzH0AzMzMzMzMfQDMzMzMzMx9AMzMzMzMzH0AzMzMzMzMfQDMzMzMzMx9AMzMzMzMzH0AzMzMzMzMfQDMzMzMzMx9AMzMzMzMzH0AzMzMzMzMfQDMzMzMzMx9AzczMzMzMHkDNzMzMzMweQM3MzMzMzB5AzczMzMzMHkDNzMzMzMweQM3MzMzMzB5AzczMzMzMHkDNzMzMzMweQM3MzMzMzB5AzczMzMzMHkDNzMzMzMweQM3MzMzMzB5AzczMzMzMHkDNzMzMzMweQM3MzMzMzB5AzczMzMzMHkDNzMzMzMweQM3MzMzMzB5AzczMzMzMHkDNzMzMzMweQM3MzMzMzB5AzczMzMzMHkDNzMzMzMweQM3MzMzMzB5AzczMzMzMHkDNzMzMzMweQM3MzMzMzB5AzczMzMzMHkDNzMzMzMweQM3MzMzMzB5AzczMzMzMHkDNzMzMzMweQM3MzMzMzB5AzczMzMzMHkDNzMzMzMweQM3MzMzMzB5AzczMzMzMHkDNzMzMzMweQM3MzMzMzB5AzczMzMzMHkDNzMzMzMweQM3MzMzMzB5AzczMzMzMHkDNzMzMzMweQM3MzMzMzB5AzczMzMzMHkDNzMzMzMweQM3MzMzMzB5AzczMzMzMHkDNzMzMzMweQM3MzMzMzB5AzczMzMzMHkDNzMzMzMweQM3MzMzMzB5AzczMzMzMHkDNzMzMzMweQM3MzMzMzB5AzczMzMzMHkDNzMzMzMweQM3MzMzMzB5AzczMzMzMHkDNzMzMzMweQM3MzMzMzB5AzczMzMzMHkDNzMzMzMweQM3MzMzMzB5AzczMzMzMHkDNzMzMzMweQM3MzMzMzB5AzczMzMzMHkDNzMzMzMweQM3MzMzMzB5AzczMzMzMHkDNzMzMzMweQM3MzMzMzB5AzczMzMzMHkDNzMzMzMweQM3MzMzMzB5AzczMzMzMHkDNzMzMzMweQM3MzMzMzB5AzczMzMzMHkDNzMzMzMweQM3MzMzMzB5AzczMzMzMHkDNzMzMzMweQM3MzMzMzB5AzczMzMzMHkDNzMzMzMweQM3MzMzMzB5AzczMzMzMHkDNzMzMzMweQM3MzMzMzB5AzczMzMzMHkDNzMzMzMweQM3MzMzMzB5AzczMzMzMHkDNzMzMzMweQM3MzMzMzB5AzczMzMzMHkDNzMzMzMweQM3MzMzMzB5AzczMzMzMHkDNzMzMzMweQM3MzMzMzB5AzczMzMzMHkDNzMzMzMweQM3MzMzMzB5AzczMzMzMHkDNzMzMzMweQM3MzMzMzB5AzczMzMzMHkDNzMzMzMweQM3MzMzMzB5AzczMzMzMHkDNzMzMzMweQM3MzMzMzB5AzczMzMzMHkDNzMzMzMweQM3MzMzMzB5AzczMzMzMHkDNzMzMzMweQM3MzMzMzB5AzczMzMzMHkDNzMzMzMweQM3MzMzMzB5AzczMzMzMHkDNzMzMzMweQM3MzMzMzB5AzczMzMzMHkDNzMzMzMweQM3MzMzMzB5AzczMzMzMHkDNzMzMzMweQM3MzMzMzB5AzczMzMzMHkDNzMzMzMweQM3MzMzMzB5AzczMzMzMHkDNzMzMzMweQM3MzMzMzB5AzczMzMzMHkDNzMzMzMweQM3MzMzMzB5AzczMzMzMHkDNzMzMzMweQM3MzMzMzB5AzczMzMzMHkDNzMzMzMweQM3MzMzMzB5AzczMzMzMHkDNzMzMzMweQM3MzMzMzB5AzczMzMzMHkDNzMzMzMweQM3MzMzMzB5AzczMzMzMHkBmZmZmZmYeQGZmZmZmZh5AZmZmZmZmHkBmZmZmZmYeQGZmZmZmZh5AZmZmZmZmHkBmZmZmZmYeQGZmZmZmZh5AZmZmZmZmHkBmZmZmZmYeQGZmZmZmZh5AZmZmZmZmHkBmZmZmZmYeQGZmZmZmZh5AZmZmZmZmHkBmZmZmZmYeQGZmZmZmZh5AZmZmZmZmHkBmZmZmZmYeQGZmZmZmZh5AZmZmZmZmHkBmZmZmZmYeQGZmZmZmZh5AZmZmZmZmHkBmZmZmZmYeQGZmZmZmZh5AZmZmZmZmHkBmZmZmZmYeQGZmZmZmZh5AZmZmZmZmHkBmZmZmZmYeQGZmZmZmZh5AZmZmZmZmHkBmZmZmZmYeQGZmZmZmZh5AZmZmZmZmHkBmZmZmZmYeQGZmZmZmZh5AZmZmZmZmHkBmZmZmZmYeQGZmZmZmZh5AZmZmZmZmHkBmZmZmZmYeQGZmZmZmZh5AZmZmZmZmHkBmZmZmZmYeQGZmZmZmZh5AZmZmZmZmHkBmZmZmZmYeQGZmZmZmZh5AZmZmZmZmHkBmZmZmZmYeQGZmZmZmZh5AZmZmZmZmHkBmZmZmZmYeQGZmZmZmZh5AZmZmZmZmHkBmZmZmZmYeQGZmZmZmZh5AZmZmZmZmHkBmZmZmZmYeQGZmZmZmZh5AZmZmZmZmHkBmZmZmZmYeQGZmZmZmZh5AZmZmZmZmHkBmZmZmZmYeQGZmZmZmZh5AZmZmZmZmHkBmZmZmZmYeQGZmZmZmZh5AZmZmZmZmHkBmZmZmZmYeQGZmZmZmZh5AZmZmZmZmHkBmZmZmZmYeQGZmZmZmZh5AZmZmZmZmHkBmZmZmZmYeQGZmZmZmZh5AZmZmZmZmHkBmZmZmZmYeQGZmZmZmZh5AZmZmZmZmHkBmZmZmZmYeQGZmZmZmZh5AZmZmZmZmHkBmZmZmZmYeQGZmZmZmZh5AZmZmZmZmHkBmZmZmZmYeQGZmZmZmZh5AZmZmZmZmHkBmZmZmZmYeQGZmZmZmZh5AZmZmZmZmHkBmZmZmZmYeQGZmZmZmZh5AZmZmZmZmHkBmZmZmZmYeQGZmZmZmZh5AZmZmZmZmHkBmZmZmZmYeQGZmZmZmZh5AZmZmZmZmHkBmZmZmZmYeQGZmZmZmZh5AZmZmZmZmHkBmZmZmZmYeQGZmZmZmZh5AZmZmZmZmHkBmZmZmZmYeQGZmZmZmZh5AZmZmZmZmHkBmZmZmZmYeQGZmZmZmZh5AZmZmZmZmHkBmZmZmZmYeQGZmZmZmZh5AZmZmZmZmHkBmZmZmZmYeQGZmZmZmZh5AZmZmZmZmHkA=",
          "dtype": "f8"
         },
         "xaxis": "x",
         "yaxis": "y"
        }
       ],
       "layout": {
        "barmode": "relative",
        "legend": {
         "tracegroupgap": 0
        },
        "template": {
         "data": {
          "bar": [
           {
            "error_x": {
             "color": "#2a3f5f"
            },
            "error_y": {
             "color": "#2a3f5f"
            },
            "marker": {
             "line": {
              "color": "#E5ECF6",
              "width": 0.5
             },
             "pattern": {
              "fillmode": "overlay",
              "size": 10,
              "solidity": 0.2
             }
            },
            "type": "bar"
           }
          ],
          "barpolar": [
           {
            "marker": {
             "line": {
              "color": "#E5ECF6",
              "width": 0.5
             },
             "pattern": {
              "fillmode": "overlay",
              "size": 10,
              "solidity": 0.2
             }
            },
            "type": "barpolar"
           }
          ],
          "carpet": [
           {
            "aaxis": {
             "endlinecolor": "#2a3f5f",
             "gridcolor": "white",
             "linecolor": "white",
             "minorgridcolor": "white",
             "startlinecolor": "#2a3f5f"
            },
            "baxis": {
             "endlinecolor": "#2a3f5f",
             "gridcolor": "white",
             "linecolor": "white",
             "minorgridcolor": "white",
             "startlinecolor": "#2a3f5f"
            },
            "type": "carpet"
           }
          ],
          "choropleth": [
           {
            "colorbar": {
             "outlinewidth": 0,
             "ticks": ""
            },
            "type": "choropleth"
           }
          ],
          "contour": [
           {
            "colorbar": {
             "outlinewidth": 0,
             "ticks": ""
            },
            "colorscale": [
             [
              0,
              "#0d0887"
             ],
             [
              0.1111111111111111,
              "#46039f"
             ],
             [
              0.2222222222222222,
              "#7201a8"
             ],
             [
              0.3333333333333333,
              "#9c179e"
             ],
             [
              0.4444444444444444,
              "#bd3786"
             ],
             [
              0.5555555555555556,
              "#d8576b"
             ],
             [
              0.6666666666666666,
              "#ed7953"
             ],
             [
              0.7777777777777778,
              "#fb9f3a"
             ],
             [
              0.8888888888888888,
              "#fdca26"
             ],
             [
              1,
              "#f0f921"
             ]
            ],
            "type": "contour"
           }
          ],
          "contourcarpet": [
           {
            "colorbar": {
             "outlinewidth": 0,
             "ticks": ""
            },
            "type": "contourcarpet"
           }
          ],
          "heatmap": [
           {
            "colorbar": {
             "outlinewidth": 0,
             "ticks": ""
            },
            "colorscale": [
             [
              0,
              "#0d0887"
             ],
             [
              0.1111111111111111,
              "#46039f"
             ],
             [
              0.2222222222222222,
              "#7201a8"
             ],
             [
              0.3333333333333333,
              "#9c179e"
             ],
             [
              0.4444444444444444,
              "#bd3786"
             ],
             [
              0.5555555555555556,
              "#d8576b"
             ],
             [
              0.6666666666666666,
              "#ed7953"
             ],
             [
              0.7777777777777778,
              "#fb9f3a"
             ],
             [
              0.8888888888888888,
              "#fdca26"
             ],
             [
              1,
              "#f0f921"
             ]
            ],
            "type": "heatmap"
           }
          ],
          "histogram": [
           {
            "marker": {
             "pattern": {
              "fillmode": "overlay",
              "size": 10,
              "solidity": 0.2
             }
            },
            "type": "histogram"
           }
          ],
          "histogram2d": [
           {
            "colorbar": {
             "outlinewidth": 0,
             "ticks": ""
            },
            "colorscale": [
             [
              0,
              "#0d0887"
             ],
             [
              0.1111111111111111,
              "#46039f"
             ],
             [
              0.2222222222222222,
              "#7201a8"
             ],
             [
              0.3333333333333333,
              "#9c179e"
             ],
             [
              0.4444444444444444,
              "#bd3786"
             ],
             [
              0.5555555555555556,
              "#d8576b"
             ],
             [
              0.6666666666666666,
              "#ed7953"
             ],
             [
              0.7777777777777778,
              "#fb9f3a"
             ],
             [
              0.8888888888888888,
              "#fdca26"
             ],
             [
              1,
              "#f0f921"
             ]
            ],
            "type": "histogram2d"
           }
          ],
          "histogram2dcontour": [
           {
            "colorbar": {
             "outlinewidth": 0,
             "ticks": ""
            },
            "colorscale": [
             [
              0,
              "#0d0887"
             ],
             [
              0.1111111111111111,
              "#46039f"
             ],
             [
              0.2222222222222222,
              "#7201a8"
             ],
             [
              0.3333333333333333,
              "#9c179e"
             ],
             [
              0.4444444444444444,
              "#bd3786"
             ],
             [
              0.5555555555555556,
              "#d8576b"
             ],
             [
              0.6666666666666666,
              "#ed7953"
             ],
             [
              0.7777777777777778,
              "#fb9f3a"
             ],
             [
              0.8888888888888888,
              "#fdca26"
             ],
             [
              1,
              "#f0f921"
             ]
            ],
            "type": "histogram2dcontour"
           }
          ],
          "mesh3d": [
           {
            "colorbar": {
             "outlinewidth": 0,
             "ticks": ""
            },
            "type": "mesh3d"
           }
          ],
          "parcoords": [
           {
            "line": {
             "colorbar": {
              "outlinewidth": 0,
              "ticks": ""
             }
            },
            "type": "parcoords"
           }
          ],
          "pie": [
           {
            "automargin": true,
            "type": "pie"
           }
          ],
          "scatter": [
           {
            "fillpattern": {
             "fillmode": "overlay",
             "size": 10,
             "solidity": 0.2
            },
            "type": "scatter"
           }
          ],
          "scatter3d": [
           {
            "line": {
             "colorbar": {
              "outlinewidth": 0,
              "ticks": ""
             }
            },
            "marker": {
             "colorbar": {
              "outlinewidth": 0,
              "ticks": ""
             }
            },
            "type": "scatter3d"
           }
          ],
          "scattercarpet": [
           {
            "marker": {
             "colorbar": {
              "outlinewidth": 0,
              "ticks": ""
             }
            },
            "type": "scattercarpet"
           }
          ],
          "scattergeo": [
           {
            "marker": {
             "colorbar": {
              "outlinewidth": 0,
              "ticks": ""
             }
            },
            "type": "scattergeo"
           }
          ],
          "scattergl": [
           {
            "marker": {
             "colorbar": {
              "outlinewidth": 0,
              "ticks": ""
             }
            },
            "type": "scattergl"
           }
          ],
          "scattermap": [
           {
            "marker": {
             "colorbar": {
              "outlinewidth": 0,
              "ticks": ""
             }
            },
            "type": "scattermap"
           }
          ],
          "scattermapbox": [
           {
            "marker": {
             "colorbar": {
              "outlinewidth": 0,
              "ticks": ""
             }
            },
            "type": "scattermapbox"
           }
          ],
          "scatterpolar": [
           {
            "marker": {
             "colorbar": {
              "outlinewidth": 0,
              "ticks": ""
             }
            },
            "type": "scatterpolar"
           }
          ],
          "scatterpolargl": [
           {
            "marker": {
             "colorbar": {
              "outlinewidth": 0,
              "ticks": ""
             }
            },
            "type": "scatterpolargl"
           }
          ],
          "scatterternary": [
           {
            "marker": {
             "colorbar": {
              "outlinewidth": 0,
              "ticks": ""
             }
            },
            "type": "scatterternary"
           }
          ],
          "surface": [
           {
            "colorbar": {
             "outlinewidth": 0,
             "ticks": ""
            },
            "colorscale": [
             [
              0,
              "#0d0887"
             ],
             [
              0.1111111111111111,
              "#46039f"
             ],
             [
              0.2222222222222222,
              "#7201a8"
             ],
             [
              0.3333333333333333,
              "#9c179e"
             ],
             [
              0.4444444444444444,
              "#bd3786"
             ],
             [
              0.5555555555555556,
              "#d8576b"
             ],
             [
              0.6666666666666666,
              "#ed7953"
             ],
             [
              0.7777777777777778,
              "#fb9f3a"
             ],
             [
              0.8888888888888888,
              "#fdca26"
             ],
             [
              1,
              "#f0f921"
             ]
            ],
            "type": "surface"
           }
          ],
          "table": [
           {
            "cells": {
             "fill": {
              "color": "#EBF0F8"
             },
             "line": {
              "color": "white"
             }
            },
            "header": {
             "fill": {
              "color": "#C8D4E3"
             },
             "line": {
              "color": "white"
             }
            },
            "type": "table"
           }
          ]
         },
         "layout": {
          "annotationdefaults": {
           "arrowcolor": "#2a3f5f",
           "arrowhead": 0,
           "arrowwidth": 1
          },
          "autotypenumbers": "strict",
          "coloraxis": {
           "colorbar": {
            "outlinewidth": 0,
            "ticks": ""
           }
          },
          "colorscale": {
           "diverging": [
            [
             0,
             "#8e0152"
            ],
            [
             0.1,
             "#c51b7d"
            ],
            [
             0.2,
             "#de77ae"
            ],
            [
             0.3,
             "#f1b6da"
            ],
            [
             0.4,
             "#fde0ef"
            ],
            [
             0.5,
             "#f7f7f7"
            ],
            [
             0.6,
             "#e6f5d0"
            ],
            [
             0.7,
             "#b8e186"
            ],
            [
             0.8,
             "#7fbc41"
            ],
            [
             0.9,
             "#4d9221"
            ],
            [
             1,
             "#276419"
            ]
           ],
           "sequential": [
            [
             0,
             "#0d0887"
            ],
            [
             0.1111111111111111,
             "#46039f"
            ],
            [
             0.2222222222222222,
             "#7201a8"
            ],
            [
             0.3333333333333333,
             "#9c179e"
            ],
            [
             0.4444444444444444,
             "#bd3786"
            ],
            [
             0.5555555555555556,
             "#d8576b"
            ],
            [
             0.6666666666666666,
             "#ed7953"
            ],
            [
             0.7777777777777778,
             "#fb9f3a"
            ],
            [
             0.8888888888888888,
             "#fdca26"
            ],
            [
             1,
             "#f0f921"
            ]
           ],
           "sequentialminus": [
            [
             0,
             "#0d0887"
            ],
            [
             0.1111111111111111,
             "#46039f"
            ],
            [
             0.2222222222222222,
             "#7201a8"
            ],
            [
             0.3333333333333333,
             "#9c179e"
            ],
            [
             0.4444444444444444,
             "#bd3786"
            ],
            [
             0.5555555555555556,
             "#d8576b"
            ],
            [
             0.6666666666666666,
             "#ed7953"
            ],
            [
             0.7777777777777778,
             "#fb9f3a"
            ],
            [
             0.8888888888888888,
             "#fdca26"
            ],
            [
             1,
             "#f0f921"
            ]
           ]
          },
          "colorway": [
           "#636efa",
           "#EF553B",
           "#00cc96",
           "#ab63fa",
           "#FFA15A",
           "#19d3f3",
           "#FF6692",
           "#B6E880",
           "#FF97FF",
           "#FECB52"
          ],
          "font": {
           "color": "#2a3f5f"
          },
          "geo": {
           "bgcolor": "white",
           "lakecolor": "white",
           "landcolor": "#E5ECF6",
           "showlakes": true,
           "showland": true,
           "subunitcolor": "white"
          },
          "hoverlabel": {
           "align": "left"
          },
          "hovermode": "closest",
          "mapbox": {
           "style": "light"
          },
          "paper_bgcolor": "white",
          "plot_bgcolor": "#E5ECF6",
          "polar": {
           "angularaxis": {
            "gridcolor": "white",
            "linecolor": "white",
            "ticks": ""
           },
           "bgcolor": "#E5ECF6",
           "radialaxis": {
            "gridcolor": "white",
            "linecolor": "white",
            "ticks": ""
           }
          },
          "scene": {
           "xaxis": {
            "backgroundcolor": "#E5ECF6",
            "gridcolor": "white",
            "gridwidth": 2,
            "linecolor": "white",
            "showbackground": true,
            "ticks": "",
            "zerolinecolor": "white"
           },
           "yaxis": {
            "backgroundcolor": "#E5ECF6",
            "gridcolor": "white",
            "gridwidth": 2,
            "linecolor": "white",
            "showbackground": true,
            "ticks": "",
            "zerolinecolor": "white"
           },
           "zaxis": {
            "backgroundcolor": "#E5ECF6",
            "gridcolor": "white",
            "gridwidth": 2,
            "linecolor": "white",
            "showbackground": true,
            "ticks": "",
            "zerolinecolor": "white"
           }
          },
          "shapedefaults": {
           "line": {
            "color": "#2a3f5f"
           }
          },
          "ternary": {
           "aaxis": {
            "gridcolor": "white",
            "linecolor": "white",
            "ticks": ""
           },
           "baxis": {
            "gridcolor": "white",
            "linecolor": "white",
            "ticks": ""
           },
           "bgcolor": "#E5ECF6",
           "caxis": {
            "gridcolor": "white",
            "linecolor": "white",
            "ticks": ""
           }
          },
          "title": {
           "x": 0.05
          },
          "xaxis": {
           "automargin": true,
           "gridcolor": "white",
           "linecolor": "white",
           "ticks": "",
           "title": {
            "standoff": 15
           },
           "zerolinecolor": "white",
           "zerolinewidth": 2
          },
          "yaxis": {
           "automargin": true,
           "gridcolor": "white",
           "linecolor": "white",
           "ticks": "",
           "title": {
            "standoff": 15
           },
           "zerolinecolor": "white",
           "zerolinewidth": 2
          }
         }
        },
        "title": {
         "text": "Distribution of IMDB Ratings"
        },
        "xaxis": {
         "anchor": "y",
         "domain": [
          0,
          1
         ],
         "title": {
          "text": "IMDB_Rating"
         }
        },
        "yaxis": {
         "anchor": "x",
         "domain": [
          0,
          1
         ],
         "title": {
          "text": "count"
         }
        }
       }
      },
      "image/png": "[encoded data removed]"
     },
     "metadata": {},
     "output_type": "display_data"
    }
   ],
   "source": [
    "fig = px.histogram(df, x='IMDB_Rating', nbins=20, title='Distribution of IMDB Ratings')\n",
    "fig.show()"
   ]
  },
  {
   "cell_type": "code",
   "execution_count": 4,
   "id": "5c046017-e90e-486e-98bb-4bcf3ee0c49f",
   "metadata": {},
   "outputs": [
    {
     "data": {
      "application/vnd.plotly.v1+json": {
       "config": {
        "plotlyServerURL": "https://plot.ly"
       },
       "data": [
        {
         "bingroup": "x",
         "hovertemplate": "IMDB_Rating=%{x}<br>count=%{y}<extra></extra>",
         "legendgroup": "",
         "marker": {
          "color": "#636efa",
          "pattern": {
           "shape": ""
          }
         },
         "name": "",
         "nbinsx": 20,
         "orientation": "v",
         "showlegend": false,
         "type": "histogram",
         "x": {
          "bdata": "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",
          "dtype": "f8"
         },
         "xaxis": "x",
         "yaxis": "y"
        }
       ],
       "layout": {
        "barmode": "relative",
        "legend": {
         "tracegroupgap": 0
        },
        "template": {
         "data": {
          "bar": [
           {
            "error_x": {
             "color": "#2a3f5f"
            },
            "error_y": {
             "color": "#2a3f5f"
            },
            "marker": {
             "line": {
              "color": "#E5ECF6",
              "width": 0.5
             },
             "pattern": {
              "fillmode": "overlay",
              "size": 10,
              "solidity": 0.2
             }
            },
            "type": "bar"
           }
          ],
          "barpolar": [
           {
            "marker": {
             "line": {
              "color": "#E5ECF6",
              "width": 0.5
             },
             "pattern": {
              "fillmode": "overlay",
              "size": 10,
              "solidity": 0.2
             }
            },
            "type": "barpolar"
           }
          ],
          "carpet": [
           {
            "aaxis": {
             "endlinecolor": "#2a3f5f",
             "gridcolor": "white",
             "linecolor": "white",
             "minorgridcolor": "white",
             "startlinecolor": "#2a3f5f"
            },
            "baxis": {
             "endlinecolor": "#2a3f5f",
             "gridcolor": "white",
             "linecolor": "white",
             "minorgridcolor": "white",
             "startlinecolor": "#2a3f5f"
            },
            "type": "carpet"
           }
          ],
          "choropleth": [
           {
            "colorbar": {
             "outlinewidth": 0,
             "ticks": ""
            },
            "type": "choropleth"
           }
          ],
          "contour": [
           {
            "colorbar": {
             "outlinewidth": 0,
             "ticks": ""
            },
            "colorscale": [
             [
              0,
              "#0d0887"
             ],
             [
              0.1111111111111111,
              "#46039f"
             ],
             [
              0.2222222222222222,
              "#7201a8"
             ],
             [
              0.3333333333333333,
              "#9c179e"
             ],
             [
              0.4444444444444444,
              "#bd3786"
             ],
             [
              0.5555555555555556,
              "#d8576b"
             ],
             [
              0.6666666666666666,
              "#ed7953"
             ],
             [
              0.7777777777777778,
              "#fb9f3a"
             ],
             [
              0.8888888888888888,
              "#fdca26"
             ],
             [
              1,
              "#f0f921"
             ]
            ],
            "type": "contour"
           }
          ],
          "contourcarpet": [
           {
            "colorbar": {
             "outlinewidth": 0,
             "ticks": ""
            },
            "type": "contourcarpet"
           }
          ],
          "heatmap": [
           {
            "colorbar": {
             "outlinewidth": 0,
             "ticks": ""
            },
            "colorscale": [
             [
              0,
              "#0d0887"
             ],
             [
              0.1111111111111111,
              "#46039f"
             ],
             [
              0.2222222222222222,
              "#7201a8"
             ],
             [
              0.3333333333333333,
              "#9c179e"
             ],
             [
              0.4444444444444444,
              "#bd3786"
             ],
             [
              0.5555555555555556,
              "#d8576b"
             ],
             [
              0.6666666666666666,
              "#ed7953"
             ],
             [
              0.7777777777777778,
              "#fb9f3a"
             ],
             [
              0.8888888888888888,
              "#fdca26"
             ],
             [
              1,
              "#f0f921"
             ]
            ],
            "type": "heatmap"
           }
          ],
          "histogram": [
           {
            "marker": {
             "pattern": {
              "fillmode": "overlay",
              "size": 10,
              "solidity": 0.2
             }
            },
            "type": "histogram"
           }
          ],
          "histogram2d": [
           {
            "colorbar": {
             "outlinewidth": 0,
             "ticks": ""
            },
            "colorscale": [
             [
              0,
              "#0d0887"
             ],
             [
              0.1111111111111111,
              "#46039f"
             ],
             [
              0.2222222222222222,
              "#7201a8"
             ],
             [
              0.3333333333333333,
              "#9c179e"
             ],
             [
              0.4444444444444444,
              "#bd3786"
             ],
             [
              0.5555555555555556,
              "#d8576b"
             ],
             [
              0.6666666666666666,
              "#ed7953"
             ],
             [
              0.7777777777777778,
              "#fb9f3a"
             ],
             [
              0.8888888888888888,
              "#fdca26"
             ],
             [
              1,
              "#f0f921"
             ]
            ],
            "type": "histogram2d"
           }
          ],
          "histogram2dcontour": [
           {
            "colorbar": {
             "outlinewidth": 0,
             "ticks": ""
            },
            "colorscale": [
             [
              0,
              "#0d0887"
             ],
             [
              0.1111111111111111,
              "#46039f"
             ],
             [
              0.2222222222222222,
              "#7201a8"
             ],
             [
              0.3333333333333333,
              "#9c179e"
             ],
             [
              0.4444444444444444,
              "#bd3786"
             ],
             [
              0.5555555555555556,
              "#d8576b"
             ],
             [
              0.6666666666666666,
              "#ed7953"
             ],
             [
              0.7777777777777778,
              "#fb9f3a"
             ],
             [
              0.8888888888888888,
              "#fdca26"
             ],
             [
              1,
              "#f0f921"
             ]
            ],
            "type": "histogram2dcontour"
           }
          ],
          "mesh3d": [
           {
            "colorbar": {
             "outlinewidth": 0,
             "ticks": ""
            },
            "type": "mesh3d"
           }
          ],
          "parcoords": [
           {
            "line": {
             "colorbar": {
              "outlinewidth": 0,
              "ticks": ""
             }
            },
            "type": "parcoords"
           }
          ],
          "pie": [
           {
            "automargin": true,
            "type": "pie"
           }
          ],
          "scatter": [
           {
            "fillpattern": {
             "fillmode": "overlay",
             "size": 10,
             "solidity": 0.2
            },
            "type": "scatter"
           }
          ],
          "scatter3d": [
           {
            "line": {
             "colorbar": {
              "outlinewidth": 0,
              "ticks": ""
             }
            },
            "marker": {
             "colorbar": {
              "outlinewidth": 0,
              "ticks": ""
             }
            },
            "type": "scatter3d"
           }
          ],
          "scattercarpet": [
           {
            "marker": {
             "colorbar": {
              "outlinewidth": 0,
              "ticks": ""
             }
            },
            "type": "scattercarpet"
           }
          ],
          "scattergeo": [
           {
            "marker": {
             "colorbar": {
              "outlinewidth": 0,
              "ticks": ""
             }
            },
            "type": "scattergeo"
           }
          ],
          "scattergl": [
           {
            "marker": {
             "colorbar": {
              "outlinewidth": 0,
              "ticks": ""
             }
            },
            "type": "scattergl"
           }
          ],
          "scattermap": [
           {
            "marker": {
             "colorbar": {
              "outlinewidth": 0,
              "ticks": ""
             }
            },
            "type": "scattermap"
           }
          ],
          "scattermapbox": [
           {
            "marker": {
             "colorbar": {
              "outlinewidth": 0,
              "ticks": ""
             }
            },
            "type": "scattermapbox"
           }
          ],
          "scatterpolar": [
           {
            "marker": {
             "colorbar": {
              "outlinewidth": 0,
              "ticks": ""
             }
            },
            "type": "scatterpolar"
           }
          ],
          "scatterpolargl": [
           {
            "marker": {
             "colorbar": {
              "outlinewidth": 0,
              "ticks": ""
             }
            },
            "type": "scatterpolargl"
           }
          ],
          "scatterternary": [
           {
            "marker": {
             "colorbar": {
              "outlinewidth": 0,
              "ticks": ""
             }
            },
            "type": "scatterternary"
           }
          ],
          "surface": [
           {
            "colorbar": {
             "outlinewidth": 0,
             "ticks": ""
            },
            "colorscale": [
             [
              0,
              "#0d0887"
             ],
             [
              0.1111111111111111,
              "#46039f"
             ],
             [
              0.2222222222222222,
              "#7201a8"
             ],
             [
              0.3333333333333333,
              "#9c179e"
             ],
             [
              0.4444444444444444,
              "#bd3786"
             ],
             [
              0.5555555555555556,
              "#d8576b"
             ],
             [
              0.6666666666666666,
              "#ed7953"
             ],
             [
              0.7777777777777778,
              "#fb9f3a"
             ],
             [
              0.8888888888888888,
              "#fdca26"
             ],
             [
              1,
              "#f0f921"
             ]
            ],
            "type": "surface"
           }
          ],
          "table": [
           {
            "cells": {
             "fill": {
              "color": "#EBF0F8"
             },
             "line": {
              "color": "white"
             }
            },
            "header": {
             "fill": {
              "color": "#C8D4E3"
             },
             "line": {
              "color": "white"
             }
            },
            "type": "table"
           }
          ]
         },
         "layout": {
          "annotationdefaults": {
           "arrowcolor": "#2a3f5f",
           "arrowhead": 0,
           "arrowwidth": 1
          },
          "autotypenumbers": "strict",
          "coloraxis": {
           "colorbar": {
            "outlinewidth": 0,
            "ticks": ""
           }
          },
          "colorscale": {
           "diverging": [
            [
             0,
             "#8e0152"
            ],
            [
             0.1,
             "#c51b7d"
            ],
            [
             0.2,
             "#de77ae"
            ],
            [
             0.3,
             "#f1b6da"
            ],
            [
             0.4,
             "#fde0ef"
            ],
            [
             0.5,
             "#f7f7f7"
            ],
            [
             0.6,
             "#e6f5d0"
            ],
            [
             0.7,
             "#b8e186"
            ],
            [
             0.8,
             "#7fbc41"
            ],
            [
             0.9,
             "#4d9221"
            ],
            [
             1,
             "#276419"
            ]
           ],
           "sequential": [
            [
             0,
             "#0d0887"
            ],
            [
             0.1111111111111111,
             "#46039f"
            ],
            [
             0.2222222222222222,
             "#7201a8"
            ],
            [
             0.3333333333333333,
             "#9c179e"
            ],
            [
             0.4444444444444444,
             "#bd3786"
            ],
            [
             0.5555555555555556,
             "#d8576b"
            ],
            [
             0.6666666666666666,
             "#ed7953"
            ],
            [
             0.7777777777777778,
             "#fb9f3a"
            ],
            [
             0.8888888888888888,
             "#fdca26"
            ],
            [
             1,
             "#f0f921"
            ]
           ],
           "sequentialminus": [
            [
             0,
             "#0d0887"
            ],
            [
             0.1111111111111111,
             "#46039f"
            ],
            [
             0.2222222222222222,
             "#7201a8"
            ],
            [
             0.3333333333333333,
             "#9c179e"
            ],
            [
             0.4444444444444444,
             "#bd3786"
            ],
            [
             0.5555555555555556,
             "#d8576b"
            ],
            [
             0.6666666666666666,
             "#ed7953"
            ],
            [
             0.7777777777777778,
             "#fb9f3a"
            ],
            [
             0.8888888888888888,
             "#fdca26"
            ],
            [
             1,
             "#f0f921"
            ]
           ]
          },
          "colorway": [
           "#636efa",
           "#EF553B",
           "#00cc96",
           "#ab63fa",
           "#FFA15A",
           "#19d3f3",
           "#FF6692",
           "#B6E880",
           "#FF97FF",
           "#FECB52"
          ],
          "font": {
           "color": "#2a3f5f"
          },
          "geo": {
           "bgcolor": "white",
           "lakecolor": "white",
           "landcolor": "#E5ECF6",
           "showlakes": true,
           "showland": true,
           "subunitcolor": "white"
          },
          "hoverlabel": {
           "align": "left"
          },
          "hovermode": "closest",
          "mapbox": {
           "style": "light"
          },
          "paper_bgcolor": "white",
          "plot_bgcolor": "#E5ECF6",
          "polar": {
           "angularaxis": {
            "gridcolor": "white",
            "linecolor": "white",
            "ticks": ""
           },
           "bgcolor": "#E5ECF6",
           "radialaxis": {
            "gridcolor": "white",
            "linecolor": "white",
            "ticks": ""
           }
          },
          "scene": {
           "xaxis": {
            "backgroundcolor": "#E5ECF6",
            "gridcolor": "white",
            "gridwidth": 2,
            "linecolor": "white",
            "showbackground": true,
            "ticks": "",
            "zerolinecolor": "white"
           },
           "yaxis": {
            "backgroundcolor": "#E5ECF6",
            "gridcolor": "white",
            "gridwidth": 2,
            "linecolor": "white",
            "showbackground": true,
            "ticks": "",
            "zerolinecolor": "white"
           },
           "zaxis": {
            "backgroundcolor": "#E5ECF6",
            "gridcolor": "white",
            "gridwidth": 2,
            "linecolor": "white",
            "showbackground": true,
            "ticks": "",
            "zerolinecolor": "white"
           }
          },
          "shapedefaults": {
           "line": {
            "color": "#2a3f5f"
           }
          },
          "ternary": {
           "aaxis": {
            "gridcolor": "white",
            "linecolor": "white",
            "ticks": ""
           },
           "baxis": {
            "gridcolor": "white",
            "linecolor": "white",
            "ticks": ""
           },
           "bgcolor": "#E5ECF6",
           "caxis": {
            "gridcolor": "white",
            "linecolor": "white",
            "ticks": ""
           }
          },
          "title": {
           "x": 0.05
          },
          "xaxis": {
           "automargin": true,
           "gridcolor": "white",
           "linecolor": "white",
           "ticks": "",
           "title": {
            "standoff": 15
           },
           "zerolinecolor": "white",
           "zerolinewidth": 2
          },
          "yaxis": {
           "automargin": true,
           "gridcolor": "white",
           "linecolor": "white",
           "ticks": "",
           "title": {
            "standoff": 15
           },
           "zerolinecolor": "white",
           "zerolinewidth": 2
          }
         }
        },
        "title": {
         "text": "영화 평점 분포"
        },
        "xaxis": {
         "anchor": "y",
         "domain": [
          0,
          1
         ],
         "title": {
          "text": "IMDB_Rating"
         }
        },
        "yaxis": {
         "anchor": "x",
         "domain": [
          0,
          1
         ],
         "title": {
          "text": "count"
         }
        }
       }
      },
      "image/png": "[encoded data removed]"
     },
     "metadata": {},
     "output_type": "display_data"
    }
   ],
   "source": [
    "fig = px.histogram(df, x='IMDB_Rating', nbins=20, title='영화 평점 분포')\n",
    "fig.show()"
   ]
  },
  {
   "cell_type": "code",
   "execution_count": 4,
   "id": "a84ec367-b051-48c1-be56-095d8be3154b",
   "metadata": {},
   "outputs": [
    {
     "name": "stdout",
     "output_type": "stream",
     "text": [
      "계약년월\n",
      "200601     29068.814370\n",
      "200602     27090.504284\n",
      "200603     34771.351206\n",
      "200604     33552.132698\n",
      "200605     31048.278935\n",
      "              ...      \n",
      "202401    107280.048659\n",
      "202402    109225.535129\n",
      "202403    110198.172174\n",
      "202404    111750.157827\n",
      "202405    100597.782875\n",
      "Name: 거래금액(만원), Length: 221, dtype: float64\n"
     ]
    }
   ],
   "source": [
    "import pandas as pd\n",
    "df = pd.read_csv('seoul_apartment.csv')\n",
    "monthly_prices = df.groupby('계약년월')['거래금액(만원)'].mean()\n",
    "print(monthly_prices)"
   ]
  },
  {
   "cell_type": "code",
   "execution_count": 5,
   "id": "3a47f2ed-e0d7-4842-afa8-99df7c05c65f",
   "metadata": {},
   "outputs": [
    {
     "name": "stdout",
     "output_type": "stream",
     "text": [
      "Index([200601, 200602, 200603, 200604, 200605, 200606, 200607, 200608, 200609,\n",
      "       200610,\n",
      "       ...\n",
      "       202308, 202309, 202310, 202311, 202312, 202401, 202402, 202403, 202404,\n",
      "       202405],\n",
      "      dtype='int64', name='계약년월', length=221)\n",
      "[ 29068.81436973  27090.50428397  34771.35120643  33552.1326982\n",
      "  31048.27893519  29508.9894296   27978.6700929   29279.83749483\n",
      "  32759.54112585  37838.24235502  31357.21476859  31986.10037777\n",
      "  27591.53643303  28255.07424406  24385.17523409  24845.25314861\n",
      "  26209.72096774  28781.53479682  28828.53949904  28055.97651083\n",
      "  29139.01780341  30064.0788887   31507.60323802  31436.26078388\n",
      "  31525.96687727  31458.95374936  32809.21649485  35875.38885763\n",
      "  37033.71599843  37738.62929746  41438.0250941   41837.4650242\n",
      "  44274.03971708  44811.77483444  48236.80586713  50673.28044766\n",
      "  54944.29450783  50049.0094243   51764.52648266  51913.30416918\n",
      "  50156.82357153  50648.20156863  49409.29365181  49240.32618297\n",
      "  48308.9823924   46531.25013333  47704.17702571  52129.56917914\n",
      "  53295.22137718  49963.6732387   46982.531179    44944.00191278\n",
      "  45475.72332389  46641.11839027  49722.18008186  48347.40914976\n",
      "  46525.36902213  48033.36678272  52080.4073894   53087.79882389\n",
      "  46869.44481746  44762.80683333  44772.78814815  44769.69041096\n",
      "  46373.11823176  45331.06615845  46761.03114106  42771.62761417\n",
      "  44038.23460058  45412.40639041  46580.89817456  48066.35281385\n",
      "  42880.85595967  43353.17569286  42848.66461159  45625.96708786\n",
      "  46225.28513825  42766.20968372  43835.21254682  40712.02582691\n",
      "  44754.69575542  45003.22896242  46079.6826679   45595.62783863\n",
      "  46511.91259866  46733.52595078  45685.42850596  44385.88940368\n",
      "  44129.49105588  44220.2676304   40516.33050847  40854.22550867\n",
      "  42397.07440066  43548.89623865  45751.8052022   46429.46564885\n",
      "  47402.7656702   45688.0034906   44444.43324183  45038.15810861\n",
      "  44534.91227339  45202.84970549  46095.68471683  46781.19631491\n",
      "  46116.72048168  45457.41473332  45489.17087968  45134.6389817\n",
      "  45358.72763336  45374.18467183  46092.19975482  46930.18707166\n",
      "  47853.17415288  46936.12677239  47349.85525721  46582.67059631\n",
      "  48002.26121453  51143.55121675  53945.94938117  50910.98110883\n",
      "  48433.18289263  47380.81426975  48821.7033202   53674.84560229\n",
      "  55951.14901273  54805.56054452  52811.52029084  55457.98020521\n",
      "  56595.7304494   55977.80225756  52337.03471017  55295.30583786\n",
      "  53889.16760225  55226.85395608  56189.27444134  59183.04690171\n",
      "  62659.61992446  57827.60996497  62106.33489744  57002.10859817\n",
      "  65443.93495698  65066.27274171  71934.41253841  71572.54767755\n",
      "  70558.14194882  61459.88634879  58712.26620002  59818.98733615\n",
      "  58975.80837051  60160.81073877  69875.47119898  71496.21876872\n",
      "  70357.93848077  65114.88417223  64103.07275804  60588.95725959\n",
      "  61676.87006961  62789.0213205   70576.83473266  77348.09812931\n",
      "  86204.28953937  86422.37808932  86759.94837541  80421.44656085\n",
      "  85981.53412167  84903.48311307  83710.94262865  75480.47174907\n",
      "  65713.99861624  68939.91336427  66651.71705844  71429.82010749\n",
      "  80994.22988702  86744.70846796  86301.65132521  94991.35008699\n",
      "  94805.52821556  89810.23727332  98426.24574321 104144.01149128\n",
      " 100584.12012769 100408.9994995   97313.95339856 105159.95846645\n",
      "  98408.90089197  96943.12830002 104233.20183486 107484.10680304\n",
      " 112376.75187433 108547.34060183 107780.55539972 107204.26208651\n",
      "  96166.54068241  95100.45911215  99447.64047936 115778.46488841\n",
      " 104760.52682927 101358.33566434 104517.37971014  78862.08684864\n",
      "  83475.01832061  83866.11284722  81103.07217848  84793.71600877\n",
      "  97604.76592891  98725.31274587  97896.53249273 104394.32731105\n",
      " 107523.7124018  108719.08279302 111527.76571276 113082.69144981\n",
      " 111165.36057143 106767.60423588 103625.45055526 104101.30560087\n",
      " 107280.048659   109225.53512881 110198.17217433 111750.15782665\n",
      " 100597.78287462]\n"
     ]
    }
   ],
   "source": [
    "print(monthly_prices.index)\n",
    "print(monthly_prices.values)"
   ]
  },
  {
   "cell_type": "code",
   "execution_count": 8,
   "id": "86a6a2a0-a2a5-450c-93e0-126d5582df01",
   "metadata": {},
   "outputs": [
    {
     "data": {
      "application/vnd.plotly.v1+json": {
       "config": {
        "plotlyServerURL": "https://plot.ly"
       },
       "data": [
        {
         "hovertemplate": "계약년월=%{x}<br>y=%{y}<extra></extra>",
         "legendgroup": "",
         "line": {
          "color": "#636efa",
          "dash": "solid"
         },
         "marker": {
          "symbol": "circle"
         },
         "mode": "lines",
         "name": "",
         "orientation": "v",
         "showlegend": false,
         "type": "scatter",
         "x": {
          "bdata": "mQ8DAJoPAwCbDwMAnA8DAJ0PAwCeDwMAnw8DAKAPAwChDwMAog8DAKMPAwCkDwMA/Q8DAP4PAwD/DwMAABADAAEQAwACEAMAAxADAAQQAwAFEAMABhADAAcQAwAIEAMAYRADAGIQAwBjEAMAZBADAGUQAwBmEAMAZxADAGgQAwBpEAMAahADAGsQAwBsEAMAxRADAMYQAwDHEAMAyBADAMkQAwDKEAMAyxADAMwQAwDNEAMAzhADAM8QAwDQEAMAKREDACoRAwArEQMALBEDAC0RAwAuEQMALxEDADARAwAxEQMAMhEDADMRAwA0EQMAjREDAI4RAwCPEQMAkBEDAJERAwCSEQMAkxEDAJQRAwCVEQMAlhEDAJcRAwCYEQMA8REDAPIRAwDzEQMA9BEDAPURAwD2EQMA9xEDAPgRAwD5EQMA+hEDAPsRAwD8EQMAVRIDAFYSAwBXEgMAWBIDAFkSAwBaEgMAWxIDAFwSAwBdEgMAXhIDAF8SAwBgEgMAuRIDALoSAwC7EgMAvBIDAL0SAwC+EgMAvxIDAMASAwDBEgMAwhIDAMMSAwDEEgMAHRMDAB4TAwAfEwMAIBMDACETAwAiEwMAIxMDACQTAwAlEwMAJhMDACcTAwAoEwMAgRMDAIITAwCDEwMAhBMDAIUTAwCGEwMAhxMDAIgTAwCJEwMAihMDAIsTAwCMEwMA5RMDAOYTAwDnEwMA6BMDAOkTAwDqEwMA6xMDAOwTAwDtEwMA7hMDAO8TAwDwEwMASRQDAEoUAwBLFAMATBQDAE0UAwBOFAMATxQDAFAUAwBRFAMAUhQDAFMUAwBUFAMArRQDAK4UAwCvFAMAsBQDALEUAwCyFAMAsxQDALQUAwC1FAMAthQDALcUAwC4FAMAERUDABIVAwATFQMAFBUDABUVAwAWFQMAFxUDABgVAwAZFQMAGhUDABsVAwAcFQMAdRUDAHYVAwB3FQMAeBUDAHkVAwB6FQMAexUDAHwVAwB9FQMAfhUDAH8VAwCAFQMA2RUDANoVAwDbFQMA3BUDAN0VAwDeFQMA3xUDAOAVAwDhFQMA4hUDAOMVAwDkFQMAPRYDAD4WAwA/FgMAQBYDAEEWAwBCFgMAQxYDAEQWAwBFFgMARhYDAEcWAwBIFgMAoRYDAKIWAwCjFgMApBYDAKUWAwA=",
          "dtype": "i4"
         },
         "xaxis": "x",
         "y": {
          "bdata": "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",
          "dtype": "f8"
         },
         "yaxis": "y"
        }
       ],
       "layout": {
        "legend": {
         "tracegroupgap": 0
        },
        "template": {
         "data": {
          "bar": [
           {
            "error_x": {
             "color": "#2a3f5f"
            },
            "error_y": {
             "color": "#2a3f5f"
            },
            "marker": {
             "line": {
              "color": "#E5ECF6",
              "width": 0.5
             },
             "pattern": {
              "fillmode": "overlay",
              "size": 10,
              "solidity": 0.2
             }
            },
            "type": "bar"
           }
          ],
          "barpolar": [
           {
            "marker": {
             "line": {
              "color": "#E5ECF6",
              "width": 0.5
             },
             "pattern": {
              "fillmode": "overlay",
              "size": 10,
              "solidity": 0.2
             }
            },
            "type": "barpolar"
           }
          ],
          "carpet": [
           {
            "aaxis": {
             "endlinecolor": "#2a3f5f",
             "gridcolor": "white",
             "linecolor": "white",
             "minorgridcolor": "white",
             "startlinecolor": "#2a3f5f"
            },
            "baxis": {
             "endlinecolor": "#2a3f5f",
             "gridcolor": "white",
             "linecolor": "white",
             "minorgridcolor": "white",
             "startlinecolor": "#2a3f5f"
            },
            "type": "carpet"
           }
          ],
          "choropleth": [
           {
            "colorbar": {
             "outlinewidth": 0,
             "ticks": ""
            },
            "type": "choropleth"
           }
          ],
          "contour": [
           {
            "colorbar": {
             "outlinewidth": 0,
             "ticks": ""
            },
            "colorscale": [
             [
              0,
              "#0d0887"
             ],
             [
              0.1111111111111111,
              "#46039f"
             ],
             [
              0.2222222222222222,
              "#7201a8"
             ],
             [
              0.3333333333333333,
              "#9c179e"
             ],
             [
              0.4444444444444444,
              "#bd3786"
             ],
             [
              0.5555555555555556,
              "#d8576b"
             ],
             [
              0.6666666666666666,
              "#ed7953"
             ],
             [
              0.7777777777777778,
              "#fb9f3a"
             ],
             [
              0.8888888888888888,
              "#fdca26"
             ],
             [
              1,
              "#f0f921"
             ]
            ],
            "type": "contour"
           }
          ],
          "contourcarpet": [
           {
            "colorbar": {
             "outlinewidth": 0,
             "ticks": ""
            },
            "type": "contourcarpet"
           }
          ],
          "heatmap": [
           {
            "colorbar": {
             "outlinewidth": 0,
             "ticks": ""
            },
            "colorscale": [
             [
              0,
              "#0d0887"
             ],
             [
              0.1111111111111111,
              "#46039f"
             ],
             [
              0.2222222222222222,
              "#7201a8"
             ],
             [
              0.3333333333333333,
              "#9c179e"
             ],
             [
              0.4444444444444444,
              "#bd3786"
             ],
             [
              0.5555555555555556,
              "#d8576b"
             ],
             [
              0.6666666666666666,
              "#ed7953"
             ],
             [
              0.7777777777777778,
              "#fb9f3a"
             ],
             [
              0.8888888888888888,
              "#fdca26"
             ],
             [
              1,
              "#f0f921"
             ]
            ],
            "type": "heatmap"
           }
          ],
          "histogram": [
           {
            "marker": {
             "pattern": {
              "fillmode": "overlay",
              "size": 10,
              "solidity": 0.2
             }
            },
            "type": "histogram"
           }
          ],
          "histogram2d": [
           {
            "colorbar": {
             "outlinewidth": 0,
             "ticks": ""
            },
            "colorscale": [
             [
              0,
              "#0d0887"
             ],
             [
              0.1111111111111111,
              "#46039f"
             ],
             [
              0.2222222222222222,
              "#7201a8"
             ],
             [
              0.3333333333333333,
              "#9c179e"
             ],
             [
              0.4444444444444444,
              "#bd3786"
             ],
             [
              0.5555555555555556,
              "#d8576b"
             ],
             [
              0.6666666666666666,
              "#ed7953"
             ],
             [
              0.7777777777777778,
              "#fb9f3a"
             ],
             [
              0.8888888888888888,
              "#fdca26"
             ],
             [
              1,
              "#f0f921"
             ]
            ],
            "type": "histogram2d"
           }
          ],
          "histogram2dcontour": [
           {
            "colorbar": {
             "outlinewidth": 0,
             "ticks": ""
            },
            "colorscale": [
             [
              0,
              "#0d0887"
             ],
             [
              0.1111111111111111,
              "#46039f"
             ],
             [
              0.2222222222222222,
              "#7201a8"
             ],
             [
              0.3333333333333333,
              "#9c179e"
             ],
             [
              0.4444444444444444,
              "#bd3786"
             ],
             [
              0.5555555555555556,
              "#d8576b"
             ],
             [
              0.6666666666666666,
              "#ed7953"
             ],
             [
              0.7777777777777778,
              "#fb9f3a"
             ],
             [
              0.8888888888888888,
              "#fdca26"
             ],
             [
              1,
              "#f0f921"
             ]
            ],
            "type": "histogram2dcontour"
           }
          ],
          "mesh3d": [
           {
            "colorbar": {
             "outlinewidth": 0,
             "ticks": ""
            },
            "type": "mesh3d"
           }
          ],
          "parcoords": [
           {
            "line": {
             "colorbar": {
              "outlinewidth": 0,
              "ticks": ""
             }
            },
            "type": "parcoords"
           }
          ],
          "pie": [
           {
            "automargin": true,
            "type": "pie"
           }
          ],
          "scatter": [
           {
            "fillpattern": {
             "fillmode": "overlay",
             "size": 10,
             "solidity": 0.2
            },
            "type": "scatter"
           }
          ],
          "scatter3d": [
           {
            "line": {
             "colorbar": {
              "outlinewidth": 0,
              "ticks": ""
             }
            },
            "marker": {
             "colorbar": {
              "outlinewidth": 0,
              "ticks": ""
             }
            },
            "type": "scatter3d"
           }
          ],
          "scattercarpet": [
           {
            "marker": {
             "colorbar": {
              "outlinewidth": 0,
              "ticks": ""
             }
            },
            "type": "scattercarpet"
           }
          ],
          "scattergeo": [
           {
            "marker": {
             "colorbar": {
              "outlinewidth": 0,
              "ticks": ""
             }
            },
            "type": "scattergeo"
           }
          ],
          "scattergl": [
           {
            "marker": {
             "colorbar": {
              "outlinewidth": 0,
              "ticks": ""
             }
            },
            "type": "scattergl"
           }
          ],
          "scattermap": [
           {
            "marker": {
             "colorbar": {
              "outlinewidth": 0,
              "ticks": ""
             }
            },
            "type": "scattermap"
           }
          ],
          "scattermapbox": [
           {
            "marker": {
             "colorbar": {
              "outlinewidth": 0,
              "ticks": ""
             }
            },
            "type": "scattermapbox"
           }
          ],
          "scatterpolar": [
           {
            "marker": {
             "colorbar": {
              "outlinewidth": 0,
              "ticks": ""
             }
            },
            "type": "scatterpolar"
           }
          ],
          "scatterpolargl": [
           {
            "marker": {
             "colorbar": {
              "outlinewidth": 0,
              "ticks": ""
             }
            },
            "type": "scatterpolargl"
           }
          ],
          "scatterternary": [
           {
            "marker": {
             "colorbar": {
              "outlinewidth": 0,
              "ticks": ""
             }
            },
            "type": "scatterternary"
           }
          ],
          "surface": [
           {
            "colorbar": {
             "outlinewidth": 0,
             "ticks": ""
            },
            "colorscale": [
             [
              0,
              "#0d0887"
             ],
             [
              0.1111111111111111,
              "#46039f"
             ],
             [
              0.2222222222222222,
              "#7201a8"
             ],
             [
              0.3333333333333333,
              "#9c179e"
             ],
             [
              0.4444444444444444,
              "#bd3786"
             ],
             [
              0.5555555555555556,
              "#d8576b"
             ],
             [
              0.6666666666666666,
              "#ed7953"
             ],
             [
              0.7777777777777778,
              "#fb9f3a"
             ],
             [
              0.8888888888888888,
              "#fdca26"
             ],
             [
              1,
              "#f0f921"
             ]
            ],
            "type": "surface"
           }
          ],
          "table": [
           {
            "cells": {
             "fill": {
              "color": "#EBF0F8"
             },
             "line": {
              "color": "white"
             }
            },
            "header": {
             "fill": {
              "color": "#C8D4E3"
             },
             "line": {
              "color": "white"
             }
            },
            "type": "table"
           }
          ]
         },
         "layout": {
          "annotationdefaults": {
           "arrowcolor": "#2a3f5f",
           "arrowhead": 0,
           "arrowwidth": 1
          },
          "autotypenumbers": "strict",
          "coloraxis": {
           "colorbar": {
            "outlinewidth": 0,
            "ticks": ""
           }
          },
          "colorscale": {
           "diverging": [
            [
             0,
             "#8e0152"
            ],
            [
             0.1,
             "#c51b7d"
            ],
            [
             0.2,
             "#de77ae"
            ],
            [
             0.3,
             "#f1b6da"
            ],
            [
             0.4,
             "#fde0ef"
            ],
            [
             0.5,
             "#f7f7f7"
            ],
            [
             0.6,
             "#e6f5d0"
            ],
            [
             0.7,
             "#b8e186"
            ],
            [
             0.8,
             "#7fbc41"
            ],
            [
             0.9,
             "#4d9221"
            ],
            [
             1,
             "#276419"
            ]
           ],
           "sequential": [
            [
             0,
             "#0d0887"
            ],
            [
             0.1111111111111111,
             "#46039f"
            ],
            [
             0.2222222222222222,
             "#7201a8"
            ],
            [
             0.3333333333333333,
             "#9c179e"
            ],
            [
             0.4444444444444444,
             "#bd3786"
            ],
            [
             0.5555555555555556,
             "#d8576b"
            ],
            [
             0.6666666666666666,
             "#ed7953"
            ],
            [
             0.7777777777777778,
             "#fb9f3a"
            ],
            [
             0.8888888888888888,
             "#fdca26"
            ],
            [
             1,
             "#f0f921"
            ]
           ],
           "sequentialminus": [
            [
             0,
             "#0d0887"
            ],
            [
             0.1111111111111111,
             "#46039f"
            ],
            [
             0.2222222222222222,
             "#7201a8"
            ],
            [
             0.3333333333333333,
             "#9c179e"
            ],
            [
             0.4444444444444444,
             "#bd3786"
            ],
            [
             0.5555555555555556,
             "#d8576b"
            ],
            [
             0.6666666666666666,
             "#ed7953"
            ],
            [
             0.7777777777777778,
             "#fb9f3a"
            ],
            [
             0.8888888888888888,
             "#fdca26"
            ],
            [
             1,
             "#f0f921"
            ]
           ]
          },
          "colorway": [
           "#636efa",
           "#EF553B",
           "#00cc96",
           "#ab63fa",
           "#FFA15A",
           "#19d3f3",
           "#FF6692",
           "#B6E880",
           "#FF97FF",
           "#FECB52"
          ],
          "font": {
           "color": "#2a3f5f"
          },
          "geo": {
           "bgcolor": "white",
           "lakecolor": "white",
           "landcolor": "#E5ECF6",
           "showlakes": true,
           "showland": true,
           "subunitcolor": "white"
          },
          "hoverlabel": {
           "align": "left"
          },
          "hovermode": "closest",
          "mapbox": {
           "style": "light"
          },
          "paper_bgcolor": "white",
          "plot_bgcolor": "#E5ECF6",
          "polar": {
           "angularaxis": {
            "gridcolor": "white",
            "linecolor": "white",
            "ticks": ""
           },
           "bgcolor": "#E5ECF6",
           "radialaxis": {
            "gridcolor": "white",
            "linecolor": "white",
            "ticks": ""
           }
          },
          "scene": {
           "xaxis": {
            "backgroundcolor": "#E5ECF6",
            "gridcolor": "white",
            "gridwidth": 2,
            "linecolor": "white",
            "showbackground": true,
            "ticks": "",
            "zerolinecolor": "white"
           },
           "yaxis": {
            "backgroundcolor": "#E5ECF6",
            "gridcolor": "white",
            "gridwidth": 2,
            "linecolor": "white",
            "showbackground": true,
            "ticks": "",
            "zerolinecolor": "white"
           },
           "zaxis": {
            "backgroundcolor": "#E5ECF6",
            "gridcolor": "white",
            "gridwidth": 2,
            "linecolor": "white",
            "showbackground": true,
            "ticks": "",
            "zerolinecolor": "white"
           }
          },
          "shapedefaults": {
           "line": {
            "color": "#2a3f5f"
           }
          },
          "ternary": {
           "aaxis": {
            "gridcolor": "white",
            "linecolor": "white",
            "ticks": ""
           },
           "baxis": {
            "gridcolor": "white",
            "linecolor": "white",
            "ticks": ""
           },
           "bgcolor": "#E5ECF6",
           "caxis": {
            "gridcolor": "white",
            "linecolor": "white",
            "ticks": ""
           }
          },
          "title": {
           "x": 0.05
          },
          "xaxis": {
           "automargin": true,
           "gridcolor": "white",
           "linecolor": "white",
           "ticks": "",
           "title": {
            "standoff": 15
           },
           "zerolinecolor": "white",
           "zerolinewidth": 2
          },
          "yaxis": {
           "automargin": true,
           "gridcolor": "white",
           "linecolor": "white",
           "ticks": "",
           "title": {
            "standoff": 15
           },
           "zerolinecolor": "white",
           "zerolinewidth": 2
          }
         }
        },
        "title": {
         "text": "Monthly Average Apartment Prices in Seoul"
        },
        "xaxis": {
         "anchor": "y",
         "domain": [
          0,
          1
         ],
         "title": {
          "text": "계약년월"
         }
        },
        "yaxis": {
         "anchor": "x",
         "domain": [
          0,
          1
         ],
         "title": {
          "text": "y"
         }
        }
       }
      },
      "image/png": "[encoded data removed]"
     },
     "metadata": {},
     "output_type": "display_data"
    }
   ],
   "source": [
    "import plotly.express as px\n",
    "fig = px.line(\n",
    "    monthly_prices,\n",
    "    x=monthly_prices.index,\n",
    "    y=monthly_prices.values,\n",
    "    title=\"Monthly Average Apartment Prices in Seoul\"\n",
    ")\n",
    "fig.show()"
   ]
  },
  {
   "cell_type": "code",
   "execution_count": 9,
   "id": "36009c89-8e50-4470-b24d-5c08b0baf94c",
   "metadata": {},
   "outputs": [
    {
     "data": {
      "application/vnd.plotly.v1+json": {
       "config": {
        "plotlyServerURL": "https://plot.ly"
       },
       "data": [
        {
         "hovertemplate": "계약년월=%{x}<br>y=%{y}<extra></extra>",
         "legendgroup": "",
         "line": {
          "color": "#636efa",
          "dash": "solid"
         },
         "marker": {
          "symbol": "circle"
         },
         "mode": "lines",
         "name": "",
         "orientation": "v",
         "showlegend": false,
         "type": "scatter",
         "x": [
          "200601",
          "200602",
          "200603",
          "200604",
          "200605",
          "200606",
          "200607",
          "200608",
          "200609",
          "200610",
          "200611",
          "200612",
          "200701",
          "200702",
          "200703",
          "200704",
          "200705",
          "200706",
          "200707",
          "200708",
          "200709",
          "200710",
          "200711",
          "200712",
          "200801",
          "200802",
          "200803",
          "200804",
          "200805",
          "200806",
          "200807",
          "200808",
          "200809",
          "200810",
          "200811",
          "200812",
          "200901",
          "200902",
          "200903",
          "200904",
          "200905",
          "200906",
          "200907",
          "200908",
          "200909",
          "200910",
          "200911",
          "200912",
          "201001",
          "201002",
          "201003",
          "201004",
          "201005",
          "201006",
          "201007",
          "201008",
          "201009",
          "201010",
          "201011",
          "201012",
          "201101",
          "201102",
          "201103",
          "201104",
          "201105",
          "201106",
          "201107",
          "201108",
          "201109",
          "201110",
          "201111",
          "201112",
          "201201",
          "201202",
          "201203",
          "201204",
          "201205",
          "201206",
          "201207",
          "201208",
          "201209",
          "201210",
          "201211",
          "201212",
          "201301",
          "201302",
          "201303",
          "201304",
          "201305",
          "201306",
          "201307",
          "201308",
          "201309",
          "201310",
          "201311",
          "201312",
          "201401",
          "201402",
          "201403",
          "201404",
          "201405",
          "201406",
          "201407",
          "201408",
          "201409",
          "201410",
          "201411",
          "201412",
          "201501",
          "201502",
          "201503",
          "201504",
          "201505",
          "201506",
          "201507",
          "201508",
          "201509",
          "201510",
          "201511",
          "201512",
          "201601",
          "201602",
          "201603",
          "201604",
          "201605",
          "201606",
          "201607",
          "201608",
          "201609",
          "201610",
          "201611",
          "201612",
          "201701",
          "201702",
          "201703",
          "201704",
          "201705",
          "201706",
          "201707",
          "201708",
          "201709",
          "201710",
          "201711",
          "201712",
          "201801",
          "201802",
          "201803",
          "201804",
          "201805",
          "201806",
          "201807",
          "201808",
          "201809",
          "201810",
          "201811",
          "201812",
          "201901",
          "201902",
          "201903",
          "201904",
          "201905",
          "201906",
          "201907",
          "201908",
          "201909",
          "201910",
          "201911",
          "201912",
          "202001",
          "202002",
          "202003",
          "202004",
          "202005",
          "202006",
          "202007",
          "202008",
          "202009",
          "202010",
          "202011",
          "202012",
          "202101",
          "202102",
          "202103",
          "202104",
          "202105",
          "202106",
          "202107",
          "202108",
          "202109",
          "202110",
          "202111",
          "202112",
          "202201",
          "202202",
          "202203",
          "202204",
          "202205",
          "202206",
          "202207",
          "202208",
          "202209",
          "202210",
          "202211",
          "202212",
          "202301",
          "202302",
          "202303",
          "202304",
          "202305",
          "202306",
          "202307",
          "202308",
          "202309",
          "202310",
          "202311",
          "202312",
          "202401",
          "202402",
          "202403",
          "202404",
          "202405"
         ],
         "xaxis": "x",
         "y": {
          "bdata": "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",
          "dtype": "f8"
         },
         "yaxis": "y"
        }
       ],
       "layout": {
        "legend": {
         "tracegroupgap": 0
        },
        "template": {
         "data": {
          "bar": [
           {
            "error_x": {
             "color": "#2a3f5f"
            },
            "error_y": {
             "color": "#2a3f5f"
            },
            "marker": {
             "line": {
              "color": "#E5ECF6",
              "width": 0.5
             },
             "pattern": {
              "fillmode": "overlay",
              "size": 10,
              "solidity": 0.2
             }
            },
            "type": "bar"
           }
          ],
          "barpolar": [
           {
            "marker": {
             "line": {
              "color": "#E5ECF6",
              "width": 0.5
             },
             "pattern": {
              "fillmode": "overlay",
              "size": 10,
              "solidity": 0.2
             }
            },
            "type": "barpolar"
           }
          ],
          "carpet": [
           {
            "aaxis": {
             "endlinecolor": "#2a3f5f",
             "gridcolor": "white",
             "linecolor": "white",
             "minorgridcolor": "white",
             "startlinecolor": "#2a3f5f"
            },
            "baxis": {
             "endlinecolor": "#2a3f5f",
             "gridcolor": "white",
             "linecolor": "white",
             "minorgridcolor": "white",
             "startlinecolor": "#2a3f5f"
            },
            "type": "carpet"
           }
          ],
          "choropleth": [
           {
            "colorbar": {
             "outlinewidth": 0,
             "ticks": ""
            },
            "type": "choropleth"
           }
          ],
          "contour": [
           {
            "colorbar": {
             "outlinewidth": 0,
             "ticks": ""
            },
            "colorscale": [
             [
              0,
              "#0d0887"
             ],
             [
              0.1111111111111111,
              "#46039f"
             ],
             [
              0.2222222222222222,
              "#7201a8"
             ],
             [
              0.3333333333333333,
              "#9c179e"
             ],
             [
              0.4444444444444444,
              "#bd3786"
             ],
             [
              0.5555555555555556,
              "#d8576b"
             ],
             [
              0.6666666666666666,
              "#ed7953"
             ],
             [
              0.7777777777777778,
              "#fb9f3a"
             ],
             [
              0.8888888888888888,
              "#fdca26"
             ],
             [
              1,
              "#f0f921"
             ]
            ],
            "type": "contour"
           }
          ],
          "contourcarpet": [
           {
            "colorbar": {
             "outlinewidth": 0,
             "ticks": ""
            },
            "type": "contourcarpet"
           }
          ],
          "heatmap": [
           {
            "colorbar": {
             "outlinewidth": 0,
             "ticks": ""
            },
            "colorscale": [
             [
              0,
              "#0d0887"
             ],
             [
              0.1111111111111111,
              "#46039f"
             ],
             [
              0.2222222222222222,
              "#7201a8"
             ],
             [
              0.3333333333333333,
              "#9c179e"
             ],
             [
              0.4444444444444444,
              "#bd3786"
             ],
             [
              0.5555555555555556,
              "#d8576b"
             ],
             [
              0.6666666666666666,
              "#ed7953"
             ],
             [
              0.7777777777777778,
              "#fb9f3a"
             ],
             [
              0.8888888888888888,
              "#fdca26"
             ],
             [
              1,
              "#f0f921"
             ]
            ],
            "type": "heatmap"
           }
          ],
          "histogram": [
           {
            "marker": {
             "pattern": {
              "fillmode": "overlay",
              "size": 10,
              "solidity": 0.2
             }
            },
            "type": "histogram"
           }
          ],
          "histogram2d": [
           {
            "colorbar": {
             "outlinewidth": 0,
             "ticks": ""
            },
            "colorscale": [
             [
              0,
              "#0d0887"
             ],
             [
              0.1111111111111111,
              "#46039f"
             ],
             [
              0.2222222222222222,
              "#7201a8"
             ],
             [
              0.3333333333333333,
              "#9c179e"
             ],
             [
              0.4444444444444444,
              "#bd3786"
             ],
             [
              0.5555555555555556,
              "#d8576b"
             ],
             [
              0.6666666666666666,
              "#ed7953"
             ],
             [
              0.7777777777777778,
              "#fb9f3a"
             ],
             [
              0.8888888888888888,
              "#fdca26"
             ],
             [
              1,
              "#f0f921"
             ]
            ],
            "type": "histogram2d"
           }
          ],
          "histogram2dcontour": [
           {
            "colorbar": {
             "outlinewidth": 0,
             "ticks": ""
            },
            "colorscale": [
             [
              0,
              "#0d0887"
             ],
             [
              0.1111111111111111,
              "#46039f"
             ],
             [
              0.2222222222222222,
              "#7201a8"
             ],
             [
              0.3333333333333333,
              "#9c179e"
             ],
             [
              0.4444444444444444,
              "#bd3786"
             ],
             [
              0.5555555555555556,
              "#d8576b"
             ],
             [
              0.6666666666666666,
              "#ed7953"
             ],
             [
              0.7777777777777778,
              "#fb9f3a"
             ],
             [
              0.8888888888888888,
              "#fdca26"
             ],
             [
              1,
              "#f0f921"
             ]
            ],
            "type": "histogram2dcontour"
           }
          ],
          "mesh3d": [
           {
            "colorbar": {
             "outlinewidth": 0,
             "ticks": ""
            },
            "type": "mesh3d"
           }
          ],
          "parcoords": [
           {
            "line": {
             "colorbar": {
              "outlinewidth": 0,
              "ticks": ""
             }
            },
            "type": "parcoords"
           }
          ],
          "pie": [
           {
            "automargin": true,
            "type": "pie"
           }
          ],
          "scatter": [
           {
            "fillpattern": {
             "fillmode": "overlay",
             "size": 10,
             "solidity": 0.2
            },
            "type": "scatter"
           }
          ],
          "scatter3d": [
           {
            "line": {
             "colorbar": {
              "outlinewidth": 0,
              "ticks": ""
             }
            },
            "marker": {
             "colorbar": {
              "outlinewidth": 0,
              "ticks": ""
             }
            },
            "type": "scatter3d"
           }
          ],
          "scattercarpet": [
           {
            "marker": {
             "colorbar": {
              "outlinewidth": 0,
              "ticks": ""
             }
            },
            "type": "scattercarpet"
           }
          ],
          "scattergeo": [
           {
            "marker": {
             "colorbar": {
              "outlinewidth": 0,
              "ticks": ""
             }
            },
            "type": "scattergeo"
           }
          ],
          "scattergl": [
           {
            "marker": {
             "colorbar": {
              "outlinewidth": 0,
              "ticks": ""
             }
            },
            "type": "scattergl"
           }
          ],
          "scattermap": [
           {
            "marker": {
             "colorbar": {
              "outlinewidth": 0,
              "ticks": ""
             }
            },
            "type": "scattermap"
           }
          ],
          "scattermapbox": [
           {
            "marker": {
             "colorbar": {
              "outlinewidth": 0,
              "ticks": ""
             }
            },
            "type": "scattermapbox"
           }
          ],
          "scatterpolar": [
           {
            "marker": {
             "colorbar": {
              "outlinewidth": 0,
              "ticks": ""
             }
            },
            "type": "scatterpolar"
           }
          ],
          "scatterpolargl": [
           {
            "marker": {
             "colorbar": {
              "outlinewidth": 0,
              "ticks": ""
             }
            },
            "type": "scatterpolargl"
           }
          ],
          "scatterternary": [
           {
            "marker": {
             "colorbar": {
              "outlinewidth": 0,
              "ticks": ""
             }
            },
            "type": "scatterternary"
           }
          ],
          "surface": [
           {
            "colorbar": {
             "outlinewidth": 0,
             "ticks": ""
            },
            "colorscale": [
             [
              0,
              "#0d0887"
             ],
             [
              0.1111111111111111,
              "#46039f"
             ],
             [
              0.2222222222222222,
              "#7201a8"
             ],
             [
              0.3333333333333333,
              "#9c179e"
             ],
             [
              0.4444444444444444,
              "#bd3786"
             ],
             [
              0.5555555555555556,
              "#d8576b"
             ],
             [
              0.6666666666666666,
              "#ed7953"
             ],
             [
              0.7777777777777778,
              "#fb9f3a"
             ],
             [
              0.8888888888888888,
              "#fdca26"
             ],
             [
              1,
              "#f0f921"
             ]
            ],
            "type": "surface"
           }
          ],
          "table": [
           {
            "cells": {
             "fill": {
              "color": "#EBF0F8"
             },
             "line": {
              "color": "white"
             }
            },
            "header": {
             "fill": {
              "color": "#C8D4E3"
             },
             "line": {
              "color": "white"
             }
            },
            "type": "table"
           }
          ]
         },
         "layout": {
          "annotationdefaults": {
           "arrowcolor": "#2a3f5f",
           "arrowhead": 0,
           "arrowwidth": 1
          },
          "autotypenumbers": "strict",
          "coloraxis": {
           "colorbar": {
            "outlinewidth": 0,
            "ticks": ""
           }
          },
          "colorscale": {
           "diverging": [
            [
             0,
             "#8e0152"
            ],
            [
             0.1,
             "#c51b7d"
            ],
            [
             0.2,
             "#de77ae"
            ],
            [
             0.3,
             "#f1b6da"
            ],
            [
             0.4,
             "#fde0ef"
            ],
            [
             0.5,
             "#f7f7f7"
            ],
            [
             0.6,
             "#e6f5d0"
            ],
            [
             0.7,
             "#b8e186"
            ],
            [
             0.8,
             "#7fbc41"
            ],
            [
             0.9,
             "#4d9221"
            ],
            [
             1,
             "#276419"
            ]
           ],
           "sequential": [
            [
             0,
             "#0d0887"
            ],
            [
             0.1111111111111111,
             "#46039f"
            ],
            [
             0.2222222222222222,
             "#7201a8"
            ],
            [
             0.3333333333333333,
             "#9c179e"
            ],
            [
             0.4444444444444444,
             "#bd3786"
            ],
            [
             0.5555555555555556,
             "#d8576b"
            ],
            [
             0.6666666666666666,
             "#ed7953"
            ],
            [
             0.7777777777777778,
             "#fb9f3a"
            ],
            [
             0.8888888888888888,
             "#fdca26"
            ],
            [
             1,
             "#f0f921"
            ]
           ],
           "sequentialminus": [
            [
             0,
             "#0d0887"
            ],
            [
             0.1111111111111111,
             "#46039f"
            ],
            [
             0.2222222222222222,
             "#7201a8"
            ],
            [
             0.3333333333333333,
             "#9c179e"
            ],
            [
             0.4444444444444444,
             "#bd3786"
            ],
            [
             0.5555555555555556,
             "#d8576b"
            ],
            [
             0.6666666666666666,
             "#ed7953"
            ],
            [
             0.7777777777777778,
             "#fb9f3a"
            ],
            [
             0.8888888888888888,
             "#fdca26"
            ],
            [
             1,
             "#f0f921"
            ]
           ]
          },
          "colorway": [
           "#636efa",
           "#EF553B",
           "#00cc96",
           "#ab63fa",
           "#FFA15A",
           "#19d3f3",
           "#FF6692",
           "#B6E880",
           "#FF97FF",
           "#FECB52"
          ],
          "font": {
           "color": "#2a3f5f"
          },
          "geo": {
           "bgcolor": "white",
           "lakecolor": "white",
           "landcolor": "#E5ECF6",
           "showlakes": true,
           "showland": true,
           "subunitcolor": "white"
          },
          "hoverlabel": {
           "align": "left"
          },
          "hovermode": "closest",
          "mapbox": {
           "style": "light"
          },
          "paper_bgcolor": "white",
          "plot_bgcolor": "#E5ECF6",
          "polar": {
           "angularaxis": {
            "gridcolor": "white",
            "linecolor": "white",
            "ticks": ""
           },
           "bgcolor": "#E5ECF6",
           "radialaxis": {
            "gridcolor": "white",
            "linecolor": "white",
            "ticks": ""
           }
          },
          "scene": {
           "xaxis": {
            "backgroundcolor": "#E5ECF6",
            "gridcolor": "white",
            "gridwidth": 2,
            "linecolor": "white",
            "showbackground": true,
            "ticks": "",
            "zerolinecolor": "white"
           },
           "yaxis": {
            "backgroundcolor": "#E5ECF6",
            "gridcolor": "white",
            "gridwidth": 2,
            "linecolor": "white",
            "showbackground": true,
            "ticks": "",
            "zerolinecolor": "white"
           },
           "zaxis": {
            "backgroundcolor": "#E5ECF6",
            "gridcolor": "white",
            "gridwidth": 2,
            "linecolor": "white",
            "showbackground": true,
            "ticks": "",
            "zerolinecolor": "white"
           }
          },
          "shapedefaults": {
           "line": {
            "color": "#2a3f5f"
           }
          },
          "ternary": {
           "aaxis": {
            "gridcolor": "white",
            "linecolor": "white",
            "ticks": ""
           },
           "baxis": {
            "gridcolor": "white",
            "linecolor": "white",
            "ticks": ""
           },
           "bgcolor": "#E5ECF6",
           "caxis": {
            "gridcolor": "white",
            "linecolor": "white",
            "ticks": ""
           }
          },
          "title": {
           "x": 0.05
          },
          "xaxis": {
           "automargin": true,
           "gridcolor": "white",
           "linecolor": "white",
           "ticks": "",
           "title": {
            "standoff": 15
           },
           "zerolinecolor": "white",
           "zerolinewidth": 2
          },
          "yaxis": {
           "automargin": true,
           "gridcolor": "white",
           "linecolor": "white",
           "ticks": "",
           "title": {
            "standoff": 15
           },
           "zerolinecolor": "white",
           "zerolinewidth": 2
          }
         }
        },
        "title": {
         "text": "Monthly Average Apartment Prices in Seoul"
        },
        "xaxis": {
         "anchor": "y",
         "domain": [
          0,
          1
         ],
         "title": {
          "text": "계약년월"
         }
        },
        "yaxis": {
         "anchor": "x",
         "domain": [
          0,
          1
         ],
         "title": {
          "text": "y"
         }
        }
       }
      },
      "image/png": "[encoded data removed]"
     },
     "metadata": {},
     "output_type": "display_data"
    }
   ],
   "source": [
    "monthly_prices = df.groupby('계약년월')['거래금액(만원)'].mean()\n",
    "monthly_prices.index = monthly_prices.index.astype(str)\n",
    "fig = px.line(\n",
    "    monthly_prices,\n",
    "    x=monthly_prices.index,\n",
    "    y=monthly_prices.values,\n",
    "    title=\"Monthly Average Apartment Prices in Seoul\"\n",
    ")\n",
    "fig.show()"
   ]
  },
  {
   "cell_type": "code",
   "execution_count": 1,
   "id": "6651ce71-81a7-43fe-9614-eb37a6ec4597",
   "metadata": {},
   "outputs": [],
   "source": [
    "import pandas as pd\n",
    "import plotly.express as px\n",
    "df = pd.read_csv('seoul_apartment.csv')"
   ]
  },
  {
   "cell_type": "code",
   "execution_count": 3,
   "id": "593966e2-8f7c-4a8e-93e2-c9442c0516a7",
   "metadata": {},
   "outputs": [
    {
     "name": "stdout",
     "output_type": "stream",
     "text": [
      "계약년월\n",
      "200601     3911\n",
      "200602     5719\n",
      "200603    10071\n",
      "200604     8817\n",
      "200605     7776\n",
      "          ...  \n",
      "202401     2610\n",
      "202402     2562\n",
      "202403     4176\n",
      "202404     3865\n",
      "202405      654\n",
      "Name: NO, Length: 221, dtype: int64\n"
     ]
    }
   ],
   "source": [
    "transactions = df.groupby('계약년월')['NO'].count()\n",
    "print(transactions)"
   ]
  },
  {
   "cell_type": "code",
   "execution_count": 4,
   "id": "b3deb947-c75f-42a8-bcca-8cd00a741040",
   "metadata": {},
   "outputs": [
    {
     "data": {
      "application/vnd.plotly.v1+json": {
       "config": {
        "plotlyServerURL": "https://plot.ly"
       },
       "data": [
        {
         "hovertemplate": "계약년월=%{x}<br>거래 횟수=%{y}<extra></extra>",
         "legendgroup": "",
         "marker": {
          "color": "#636efa",
          "pattern": {
           "shape": ""
          }
         },
         "name": "",
         "orientation": "v",
         "showlegend": false,
         "textposition": "auto",
         "type": "bar",
         "x": [
          "200601",
          "200602",
          "200603",
          "200604",
          "200605",
          "200606",
          "200607",
          "200608",
          "200609",
          "200610",
          "200611",
          "200612",
          "200701",
          "200702",
          "200703",
          "200704",
          "200705",
          "200706",
          "200707",
          "200708",
          "200709",
          "200710",
          "200711",
          "200712",
          "200801",
          "200802",
          "200803",
          "200804",
          "200805",
          "200806",
          "200807",
          "200808",
          "200809",
          "200810",
          "200811",
          "200812",
          "200901",
          "200902",
          "200903",
          "200904",
          "200905",
          "200906",
          "200907",
          "200908",
          "200909",
          "200910",
          "200911",
          "200912",
          "201001",
          "201002",
          "201003",
          "201004",
          "201005",
          "201006",
          "201007",
          "201008",
          "201009",
          "201010",
          "201011",
          "201012",
          "201101",
          "201102",
          "201103",
          "201104",
          "201105",
          "201106",
          "201107",
          "201108",
          "201109",
          "201110",
          "201111",
          "201112",
          "201201",
          "201202",
          "201203",
          "201204",
          "201205",
          "201206",
          "201207",
          "201208",
          "201209",
          "201210",
          "201211",
          "201212",
          "201301",
          "201302",
          "201303",
          "201304",
          "201305",
          "201306",
          "201307",
          "201308",
          "201309",
          "201310",
          "201311",
          "201312",
          "201401",
          "201402",
          "201403",
          "201404",
          "201405",
          "201406",
          "201407",
          "201408",
          "201409",
          "201410",
          "201411",
          "201412",
          "201501",
          "201502",
          "201503",
          "201504",
          "201505",
          "201506",
          "201507",
          "201508",
          "201509",
          "201510",
          "201511",
          "201512",
          "201601",
          "201602",
          "201603",
          "201604",
          "201605",
          "201606",
          "201607",
          "201608",
          "201609",
          "201610",
          "201611",
          "201612",
          "201701",
          "201702",
          "201703",
          "201704",
          "201705",
          "201706",
          "201707",
          "201708",
          "201709",
          "201710",
          "201711",
          "201712",
          "201801",
          "201802",
          "201803",
          "201804",
          "201805",
          "201806",
          "201807",
          "201808",
          "201809",
          "201810",
          "201811",
          "201812",
          "201901",
          "201902",
          "201903",
          "201904",
          "201905",
          "201906",
          "201907",
          "201908",
          "201909",
          "201910",
          "201911",
          "201912",
          "202001",
          "202002",
          "202003",
          "202004",
          "202005",
          "202006",
          "202007",
          "202008",
          "202009",
          "202010",
          "202011",
          "202012",
          "202101",
          "202102",
          "202103",
          "202104",
          "202105",
          "202106",
          "202107",
          "202108",
          "202109",
          "202110",
          "202111",
          "202112",
          "202201",
          "202202",
          "202203",
          "202204",
          "202205",
          "202206",
          "202207",
          "202208",
          "202209",
          "202210",
          "202211",
          "202212",
          "202301",
          "202302",
          "202303",
          "202304",
          "202305",
          "202306",
          "202307",
          "202308",
          "202309",
          "202310",
          "202311",
          "202312",
          "202401",
          "202402",
          "202403",
          "202404",
          "202405"
         ],
         "xaxis": "x",
         "y": {
          "bdata": "Rw9XFlcncSJgHpYTwxNRHHk2PUsYPDEk4xB4DnEUgg8cDLoQRhQhEZQPxxaUEtcRZxT5Fv8jxBvgE64PdAzhCC4H5gWHBO8FuQ4RE/IUUyBHG90ilR4mJfQbpg4BDCIPARPcDnkPNgpGCFkIlwgNCfIKExMbGD4Z7RtwFxgVrw/vDlkOzxBOEjwQpg+yDXAO2QpdD9cPSw2QDQEKWAifCCkNIBPtEJ8OXQ12EZIZIxqtGP8T6Ay8FFocHh6TFJYZWxyxIk4fJhW/Eo8ULRn7IkcmqiAuF40YayVUJos8Ky6oJ+ApNSshImcmaikXHAYTgBP4FLUi3ChWKvAzNC4FKygsaS+CFocQnQ5qFpAhkCTqOS0yRjoJFMkamxjHH2MhJjHiI9UklRFjEoQUdxuxOiEc4gztBjcGvAauBdcI5ws3EQcbgSLXGWsbOS3wLJwlaBnTIB0SWwzSFhNAoCs1FF4P4RF3GUEeQBecDywPrA61E9UPvBJsEPEK9QiSBZsEdwRYA94FLQc1B3gEsgImA48CQAL6ApAD0wXuCRUM+QzsDaoPmw7DD6wNaAljBy8HMgoCClAQGQ+OAg==",
          "dtype": "i2"
         },
         "yaxis": "y"
        }
       ],
       "layout": {
        "barmode": "relative",
        "legend": {
         "tracegroupgap": 0
        },
        "template": {
         "data": {
          "bar": [
           {
            "error_x": {
             "color": "#2a3f5f"
            },
            "error_y": {
             "color": "#2a3f5f"
            },
            "marker": {
             "line": {
              "color": "#E5ECF6",
              "width": 0.5
             },
             "pattern": {
              "fillmode": "overlay",
              "size": 10,
              "solidity": 0.2
             }
            },
            "type": "bar"
           }
          ],
          "barpolar": [
           {
            "marker": {
             "line": {
              "color": "#E5ECF6",
              "width": 0.5
             },
             "pattern": {
              "fillmode": "overlay",
              "size": 10,
              "solidity": 0.2
             }
            },
            "type": "barpolar"
           }
          ],
          "carpet": [
           {
            "aaxis": {
             "endlinecolor": "#2a3f5f",
             "gridcolor": "white",
             "linecolor": "white",
             "minorgridcolor": "white",
             "startlinecolor": "#2a3f5f"
            },
            "baxis": {
             "endlinecolor": "#2a3f5f",
             "gridcolor": "white",
             "linecolor": "white",
             "minorgridcolor": "white",
             "startlinecolor": "#2a3f5f"
            },
            "type": "carpet"
           }
          ],
          "choropleth": [
           {
            "colorbar": {
             "outlinewidth": 0,
             "ticks": ""
            },
            "type": "choropleth"
           }
          ],
          "contour": [
           {
            "colorbar": {
             "outlinewidth": 0,
             "ticks": ""
            },
            "colorscale": [
             [
              0,
              "#0d0887"
             ],
             [
              0.1111111111111111,
              "#46039f"
             ],
             [
              0.2222222222222222,
              "#7201a8"
             ],
             [
              0.3333333333333333,
              "#9c179e"
             ],
             [
              0.4444444444444444,
              "#bd3786"
             ],
             [
              0.5555555555555556,
              "#d8576b"
             ],
             [
              0.6666666666666666,
              "#ed7953"
             ],
             [
              0.7777777777777778,
              "#fb9f3a"
             ],
             [
              0.8888888888888888,
              "#fdca26"
             ],
             [
              1,
              "#f0f921"
             ]
            ],
            "type": "contour"
           }
          ],
          "contourcarpet": [
           {
            "colorbar": {
             "outlinewidth": 0,
             "ticks": ""
            },
            "type": "contourcarpet"
           }
          ],
          "heatmap": [
           {
            "colorbar": {
             "outlinewidth": 0,
             "ticks": ""
            },
            "colorscale": [
             [
              0,
              "#0d0887"
             ],
             [
              0.1111111111111111,
              "#46039f"
             ],
             [
              0.2222222222222222,
              "#7201a8"
             ],
             [
              0.3333333333333333,
              "#9c179e"
             ],
             [
              0.4444444444444444,
              "#bd3786"
             ],
             [
              0.5555555555555556,
              "#d8576b"
             ],
             [
              0.6666666666666666,
              "#ed7953"
             ],
             [
              0.7777777777777778,
              "#fb9f3a"
             ],
             [
              0.8888888888888888,
              "#fdca26"
             ],
             [
              1,
              "#f0f921"
             ]
            ],
            "type": "heatmap"
           }
          ],
          "histogram": [
           {
            "marker": {
             "pattern": {
              "fillmode": "overlay",
              "size": 10,
              "solidity": 0.2
             }
            },
            "type": "histogram"
           }
          ],
          "histogram2d": [
           {
            "colorbar": {
             "outlinewidth": 0,
             "ticks": ""
            },
            "colorscale": [
             [
              0,
              "#0d0887"
             ],
             [
              0.1111111111111111,
              "#46039f"
             ],
             [
              0.2222222222222222,
              "#7201a8"
             ],
             [
              0.3333333333333333,
              "#9c179e"
             ],
             [
              0.4444444444444444,
              "#bd3786"
             ],
             [
              0.5555555555555556,
              "#d8576b"
             ],
             [
              0.6666666666666666,
              "#ed7953"
             ],
             [
              0.7777777777777778,
              "#fb9f3a"
             ],
             [
              0.8888888888888888,
              "#fdca26"
             ],
             [
              1,
              "#f0f921"
             ]
            ],
            "type": "histogram2d"
           }
          ],
          "histogram2dcontour": [
           {
            "colorbar": {
             "outlinewidth": 0,
             "ticks": ""
            },
            "colorscale": [
             [
              0,
              "#0d0887"
             ],
             [
              0.1111111111111111,
              "#46039f"
             ],
             [
              0.2222222222222222,
              "#7201a8"
             ],
             [
              0.3333333333333333,
              "#9c179e"
             ],
             [
              0.4444444444444444,
              "#bd3786"
             ],
             [
              0.5555555555555556,
              "#d8576b"
             ],
             [
              0.6666666666666666,
              "#ed7953"
             ],
             [
              0.7777777777777778,
              "#fb9f3a"
             ],
             [
              0.8888888888888888,
              "#fdca26"
             ],
             [
              1,
              "#f0f921"
             ]
            ],
            "type": "histogram2dcontour"
           }
          ],
          "mesh3d": [
           {
            "colorbar": {
             "outlinewidth": 0,
             "ticks": ""
            },
            "type": "mesh3d"
           }
          ],
          "parcoords": [
           {
            "line": {
             "colorbar": {
              "outlinewidth": 0,
              "ticks": ""
             }
            },
            "type": "parcoords"
           }
          ],
          "pie": [
           {
            "automargin": true,
            "type": "pie"
           }
          ],
          "scatter": [
           {
            "fillpattern": {
             "fillmode": "overlay",
             "size": 10,
             "solidity": 0.2
            },
            "type": "scatter"
           }
          ],
          "scatter3d": [
           {
            "line": {
             "colorbar": {
              "outlinewidth": 0,
              "ticks": ""
             }
            },
            "marker": {
             "colorbar": {
              "outlinewidth": 0,
              "ticks": ""
             }
            },
            "type": "scatter3d"
           }
          ],
          "scattercarpet": [
           {
            "marker": {
             "colorbar": {
              "outlinewidth": 0,
              "ticks": ""
             }
            },
            "type": "scattercarpet"
           }
          ],
          "scattergeo": [
           {
            "marker": {
             "colorbar": {
              "outlinewidth": 0,
              "ticks": ""
             }
            },
            "type": "scattergeo"
           }
          ],
          "scattergl": [
           {
            "marker": {
             "colorbar": {
              "outlinewidth": 0,
              "ticks": ""
             }
            },
            "type": "scattergl"
           }
          ],
          "scattermap": [
           {
            "marker": {
             "colorbar": {
              "outlinewidth": 0,
              "ticks": ""
             }
            },
            "type": "scattermap"
           }
          ],
          "scattermapbox": [
           {
            "marker": {
             "colorbar": {
              "outlinewidth": 0,
              "ticks": ""
             }
            },
            "type": "scattermapbox"
           }
          ],
          "scatterpolar": [
           {
            "marker": {
             "colorbar": {
              "outlinewidth": 0,
              "ticks": ""
             }
            },
            "type": "scatterpolar"
           }
          ],
          "scatterpolargl": [
           {
            "marker": {
             "colorbar": {
              "outlinewidth": 0,
              "ticks": ""
             }
            },
            "type": "scatterpolargl"
           }
          ],
          "scatterternary": [
           {
            "marker": {
             "colorbar": {
              "outlinewidth": 0,
              "ticks": ""
             }
            },
            "type": "scatterternary"
           }
          ],
          "surface": [
           {
            "colorbar": {
             "outlinewidth": 0,
             "ticks": ""
            },
            "colorscale": [
             [
              0,
              "#0d0887"
             ],
             [
              0.1111111111111111,
              "#46039f"
             ],
             [
              0.2222222222222222,
              "#7201a8"
             ],
             [
              0.3333333333333333,
              "#9c179e"
             ],
             [
              0.4444444444444444,
              "#bd3786"
             ],
             [
              0.5555555555555556,
              "#d8576b"
             ],
             [
              0.6666666666666666,
              "#ed7953"
             ],
             [
              0.7777777777777778,
              "#fb9f3a"
             ],
             [
              0.8888888888888888,
              "#fdca26"
             ],
             [
              1,
              "#f0f921"
             ]
            ],
            "type": "surface"
           }
          ],
          "table": [
           {
            "cells": {
             "fill": {
              "color": "#EBF0F8"
             },
             "line": {
              "color": "white"
             }
            },
            "header": {
             "fill": {
              "color": "#C8D4E3"
             },
             "line": {
              "color": "white"
             }
            },
            "type": "table"
           }
          ]
         },
         "layout": {
          "annotationdefaults": {
           "arrowcolor": "#2a3f5f",
           "arrowhead": 0,
           "arrowwidth": 1
          },
          "autotypenumbers": "strict",
          "coloraxis": {
           "colorbar": {
            "outlinewidth": 0,
            "ticks": ""
           }
          },
          "colorscale": {
           "diverging": [
            [
             0,
             "#8e0152"
            ],
            [
             0.1,
             "#c51b7d"
            ],
            [
             0.2,
             "#de77ae"
            ],
            [
             0.3,
             "#f1b6da"
            ],
            [
             0.4,
             "#fde0ef"
            ],
            [
             0.5,
             "#f7f7f7"
            ],
            [
             0.6,
             "#e6f5d0"
            ],
            [
             0.7,
             "#b8e186"
            ],
            [
             0.8,
             "#7fbc41"
            ],
            [
             0.9,
             "#4d9221"
            ],
            [
             1,
             "#276419"
            ]
           ],
           "sequential": [
            [
             0,
             "#0d0887"
            ],
            [
             0.1111111111111111,
             "#46039f"
            ],
            [
             0.2222222222222222,
             "#7201a8"
            ],
            [
             0.3333333333333333,
             "#9c179e"
            ],
            [
             0.4444444444444444,
             "#bd3786"
            ],
            [
             0.5555555555555556,
             "#d8576b"
            ],
            [
             0.6666666666666666,
             "#ed7953"
            ],
            [
             0.7777777777777778,
             "#fb9f3a"
            ],
            [
             0.8888888888888888,
             "#fdca26"
            ],
            [
             1,
             "#f0f921"
            ]
           ],
           "sequentialminus": [
            [
             0,
             "#0d0887"
            ],
            [
             0.1111111111111111,
             "#46039f"
            ],
            [
             0.2222222222222222,
             "#7201a8"
            ],
            [
             0.3333333333333333,
             "#9c179e"
            ],
            [
             0.4444444444444444,
             "#bd3786"
            ],
            [
             0.5555555555555556,
             "#d8576b"
            ],
            [
             0.6666666666666666,
             "#ed7953"
            ],
            [
             0.7777777777777778,
             "#fb9f3a"
            ],
            [
             0.8888888888888888,
             "#fdca26"
            ],
            [
             1,
             "#f0f921"
            ]
           ]
          },
          "colorway": [
           "#636efa",
           "#EF553B",
           "#00cc96",
           "#ab63fa",
           "#FFA15A",
           "#19d3f3",
           "#FF6692",
           "#B6E880",
           "#FF97FF",
           "#FECB52"
          ],
          "font": {
           "color": "#2a3f5f"
          },
          "geo": {
           "bgcolor": "white",
           "lakecolor": "white",
           "landcolor": "#E5ECF6",
           "showlakes": true,
           "showland": true,
           "subunitcolor": "white"
          },
          "hoverlabel": {
           "align": "left"
          },
          "hovermode": "closest",
          "mapbox": {
           "style": "light"
          },
          "paper_bgcolor": "white",
          "plot_bgcolor": "#E5ECF6",
          "polar": {
           "angularaxis": {
            "gridcolor": "white",
            "linecolor": "white",
            "ticks": ""
           },
           "bgcolor": "#E5ECF6",
           "radialaxis": {
            "gridcolor": "white",
            "linecolor": "white",
            "ticks": ""
           }
          },
          "scene": {
           "xaxis": {
            "backgroundcolor": "#E5ECF6",
            "gridcolor": "white",
            "gridwidth": 2,
            "linecolor": "white",
            "showbackground": true,
            "ticks": "",
            "zerolinecolor": "white"
           },
           "yaxis": {
            "backgroundcolor": "#E5ECF6",
            "gridcolor": "white",
            "gridwidth": 2,
            "linecolor": "white",
            "showbackground": true,
            "ticks": "",
            "zerolinecolor": "white"
           },
           "zaxis": {
            "backgroundcolor": "#E5ECF6",
            "gridcolor": "white",
            "gridwidth": 2,
            "linecolor": "white",
            "showbackground": true,
            "ticks": "",
            "zerolinecolor": "white"
           }
          },
          "shapedefaults": {
           "line": {
            "color": "#2a3f5f"
           }
          },
          "ternary": {
           "aaxis": {
            "gridcolor": "white",
            "linecolor": "white",
            "ticks": ""
           },
           "baxis": {
            "gridcolor": "white",
            "linecolor": "white",
            "ticks": ""
           },
           "bgcolor": "#E5ECF6",
           "caxis": {
            "gridcolor": "white",
            "linecolor": "white",
            "ticks": ""
           }
          },
          "title": {
           "x": 0.05
          },
          "xaxis": {
           "automargin": true,
           "gridcolor": "white",
           "linecolor": "white",
           "ticks": "",
           "title": {
            "standoff": 15
           },
           "zerolinecolor": "white",
           "zerolinewidth": 2
          },
          "yaxis": {
           "automargin": true,
           "gridcolor": "white",
           "linecolor": "white",
           "ticks": "",
           "title": {
            "standoff": 15
           },
           "zerolinecolor": "white",
           "zerolinewidth": 2
          }
         }
        },
        "title": {
         "text": "서울 아파트 계약년월별 거래 횟수"
        },
        "xaxis": {
         "anchor": "y",
         "domain": [
          0,
          1
         ],
         "title": {
          "text": "계약년월"
         }
        },
        "yaxis": {
         "anchor": "x",
         "domain": [
          0,
          1
         ],
         "title": {
          "text": "거래 횟수"
         }
        }
       }
      },
      "image/png": "[encoded data removed]"
     },
     "metadata": {},
     "output_type": "display_data"
    }
   ],
   "source": [
    "transactions.index = transactions.index.astype(str)\n",
    "\n",
    "fig = px.bar(\n",
    "    transactions,\n",
    "    x=transactions.index,\n",
    "    y=transactions.values,\n",
    "    title='서울 아파트 계약년월별 거래 횟수',\n",
    "    labels={'x': '계약년월', 'y': '거래 횟수'}\n",
    ")\n",
    "fig.show()"
   ]
  },
  {
   "cell_type": "code",
   "execution_count": 8,
   "id": "0f3bbd70-c82a-4c19-b0df-210cbb7beff0",
   "metadata": {},
   "outputs": [
    {
     "name": "stdout",
     "output_type": "stream",
     "text": [
      "Released_Year\n",
      "1920    8.100000\n",
      "1921    8.300000\n",
      "1922    7.900000\n",
      "1924    8.200000\n",
      "1925    8.100000\n",
      "          ...   \n",
      "2017    7.890909\n",
      "2018    7.994737\n",
      "2019    7.995652\n",
      "2020    8.133333\n",
      "PG      7.600000\n",
      "Name: IMDB_Rating, Length: 100, dtype: float64\n"
     ]
    },
    {
     "data": {
      "application/vnd.plotly.v1+json": {
       "config": {
        "plotlyServerURL": "https://plot.ly"
       },
       "data": [
        {
         "hovertemplate": "개봉년도=%{x}<br>평균 영화 평점=%{y}<extra></extra>",
         "legendgroup": "",
         "line": {
          "color": "#636efa",
          "dash": "solid"
         },
         "marker": {
          "symbol": "circle"
         },
         "mode": "lines",
         "name": "",
         "orientation": "v",
         "showlegend": false,
         "type": "scatter",
         "x": [
          "1920",
          "1921",
          "1922",
          "1924",
          "1925",
          "1926",
          "1927",
          "1928",
          "1930",
          "1931",
          "1932",
          "1933",
          "1934",
          "1935",
          "1936",
          "1937",
          "1938",
          "1939",
          "1940",
          "1941",
          "1942",
          "1943",
          "1944",
          "1945",
          "1946",
          "1947",
          "1948",
          "1949",
          "1950",
          "1951",
          "1952",
          "1953",
          "1954",
          "1955",
          "1956",
          "1957",
          "1958",
          "1959",
          "1960",
          "1961",
          "1962",
          "1963",
          "1964",
          "1965",
          "1966",
          "1967",
          "1968",
          "1969",
          "1970",
          "1971",
          "1972",
          "1973",
          "1974",
          "1975",
          "1976",
          "1977",
          "1978",
          "1979",
          "1980",
          "1981",
          "1982",
          "1983",
          "1984",
          "1985",
          "1986",
          "1987",
          "1988",
          "1989",
          "1990",
          "1991",
          "1992",
          "1993",
          "1994",
          "1995",
          "1996",
          "1997",
          "1998",
          "1999",
          "2000",
          "2001",
          "2002",
          "2003",
          "2004",
          "2005",
          "2006",
          "2007",
          "2008",
          "2009",
          "2010",
          "2011",
          "2012",
          "2013",
          "2014",
          "2015",
          "2016",
          "2017",
          "2018",
          "2019",
          "2020",
          "PG"
         ],
         "xaxis": "x",
         "y": {
          "bdata": "MzMzMzMzIECamZmZmZkgQJqZmZmZmR9AZmZmZmZmIEAzMzMzMzMgQDMzMzMzMyBAZmZmZmZmIEAzMzMzMzMgQAAAAAAAACBAZ2ZmZmZmIEBmZmZmZmYfQDMzMzMzMx9AmpmZmZkZIEAREREREREfQAAAAAAAACFAMzMzMzMzIEBVVVVVVVUfQAAAAAAAACBAdVAHdVAHIEDNzMzMzEwgQHd3d3d3dyBAMzMzMzMzH0AzMzMzM7MfQM3MzMzMzB9ACtejcD0KIEDNzMzMzMwfQBERERERESBAIiIiIiIiIEBI4XoUrkcgQIXrUbgehR9AmpmZmZkZIEDrUbgehesfQFVVVVVVVSBAq6qqqqqqH0BI4XoUrkcfQOQ4juM4jiBAMzMzMzMzIEC+4iu+4isgQOQpQZ4S5B9A1qNwPQrXH0D4gR/4gR8gQBWuR+F6FCBA27Zt27ZtH0AAAAAAAAAgQNRBHdRBHSBAZmZmZmZmH0AAAAAAAAAgQJmZmZmZmR9AVVVVVVVVH0C8u7u7u7sfQM3MzMzMLCBAiIiIiIiIH0CZmZmZmRkgQNiCLdiCLSBAdVAHdVAHIEAiIiIiIiIgQPEVX/EVXx9AvLu7u7u7H0DNzMzMzCwgQGZmZmZm5h9Atm9Y+4a1H0AAAAAAAAAgQAAAAAAAACBA3t3d3d3dH0C8u7u7u7sfQN3d3d3dXR9AEuQpQZ4SIEB00UUXXXQfQM3MzMzMjB9AvLu7u7u7H0Dd3d3d3V0fQDoCRVsNnh9AoRd6oRd6IEBWIIy0YwUgQJDC9Shcjx9AoryG8hrKH0C3t7e3t7cfQAkJCQkJCSBATf2eW+LUH0CamZmZmZkfQJmZmZmZmR9AzczMzMzMH0B/yfKXLH8fQI2NjY2NjR9AG7mRG7mRH0Ag+IEf+IEfQCD7sR/7sR9AomTXJkp2H0A6AkVbDZ4fQC7Ygi3Ygh9ARERERETEH0D4iq/4iq8fQM3MzMzMrB9ARbbz/dR4H0DiK77iK74fQJCnBHlKkB9Aqt9zS5z6H0Bgl1Q+jPsfQERERERERCBAZmZmZmZmHkA=",
          "dtype": "f8"
         },
         "yaxis": "y"
        }
       ],
       "layout": {
        "legend": {
         "tracegroupgap": 0
        },
        "template": {
         "data": {
          "bar": [
           {
            "error_x": {
             "color": "#2a3f5f"
            },
            "error_y": {
             "color": "#2a3f5f"
            },
            "marker": {
             "line": {
              "color": "#E5ECF6",
              "width": 0.5
             },
             "pattern": {
              "fillmode": "overlay",
              "size": 10,
              "solidity": 0.2
             }
            },
            "type": "bar"
           }
          ],
          "barpolar": [
           {
            "marker": {
             "line": {
              "color": "#E5ECF6",
              "width": 0.5
             },
             "pattern": {
              "fillmode": "overlay",
              "size": 10,
              "solidity": 0.2
             }
            },
            "type": "barpolar"
           }
          ],
          "carpet": [
           {
            "aaxis": {
             "endlinecolor": "#2a3f5f",
             "gridcolor": "white",
             "linecolor": "white",
             "minorgridcolor": "white",
             "startlinecolor": "#2a3f5f"
            },
            "baxis": {
             "endlinecolor": "#2a3f5f",
             "gridcolor": "white",
             "linecolor": "white",
             "minorgridcolor": "white",
             "startlinecolor": "#2a3f5f"
            },
            "type": "carpet"
           }
          ],
          "choropleth": [
           {
            "colorbar": {
             "outlinewidth": 0,
             "ticks": ""
            },
            "type": "choropleth"
           }
          ],
          "contour": [
           {
            "colorbar": {
             "outlinewidth": 0,
             "ticks": ""
            },
            "colorscale": [
             [
              0,
              "#0d0887"
             ],
             [
              0.1111111111111111,
              "#46039f"
             ],
             [
              0.2222222222222222,
              "#7201a8"
             ],
             [
              0.3333333333333333,
              "#9c179e"
             ],
             [
              0.4444444444444444,
              "#bd3786"
             ],
             [
              0.5555555555555556,
              "#d8576b"
             ],
             [
              0.6666666666666666,
              "#ed7953"
             ],
             [
              0.7777777777777778,
              "#fb9f3a"
             ],
             [
              0.8888888888888888,
              "#fdca26"
             ],
             [
              1,
              "#f0f921"
             ]
            ],
            "type": "contour"
           }
          ],
          "contourcarpet": [
           {
            "colorbar": {
             "outlinewidth": 0,
             "ticks": ""
            },
            "type": "contourcarpet"
           }
          ],
          "heatmap": [
           {
            "colorbar": {
             "outlinewidth": 0,
             "ticks": ""
            },
            "colorscale": [
             [
              0,
              "#0d0887"
             ],
             [
              0.1111111111111111,
              "#46039f"
             ],
             [
              0.2222222222222222,
              "#7201a8"
             ],
             [
              0.3333333333333333,
              "#9c179e"
             ],
             [
              0.4444444444444444,
              "#bd3786"
             ],
             [
              0.5555555555555556,
              "#d8576b"
             ],
             [
              0.6666666666666666,
              "#ed7953"
             ],
             [
              0.7777777777777778,
              "#fb9f3a"
             ],
             [
              0.8888888888888888,
              "#fdca26"
             ],
             [
              1,
              "#f0f921"
             ]
            ],
            "type": "heatmap"
           }
          ],
          "histogram": [
           {
            "marker": {
             "pattern": {
              "fillmode": "overlay",
              "size": 10,
              "solidity": 0.2
             }
            },
            "type": "histogram"
           }
          ],
          "histogram2d": [
           {
            "colorbar": {
             "outlinewidth": 0,
             "ticks": ""
            },
            "colorscale": [
             [
              0,
              "#0d0887"
             ],
             [
              0.1111111111111111,
              "#46039f"
             ],
             [
              0.2222222222222222,
              "#7201a8"
             ],
             [
              0.3333333333333333,
              "#9c179e"
             ],
             [
              0.4444444444444444,
              "#bd3786"
             ],
             [
              0.5555555555555556,
              "#d8576b"
             ],
             [
              0.6666666666666666,
              "#ed7953"
             ],
             [
              0.7777777777777778,
              "#fb9f3a"
             ],
             [
              0.8888888888888888,
              "#fdca26"
             ],
             [
              1,
              "#f0f921"
             ]
            ],
            "type": "histogram2d"
           }
          ],
          "histogram2dcontour": [
           {
            "colorbar": {
             "outlinewidth": 0,
             "ticks": ""
            },
            "colorscale": [
             [
              0,
              "#0d0887"
             ],
             [
              0.1111111111111111,
              "#46039f"
             ],
             [
              0.2222222222222222,
              "#7201a8"
             ],
             [
              0.3333333333333333,
              "#9c179e"
             ],
             [
              0.4444444444444444,
              "#bd3786"
             ],
             [
              0.5555555555555556,
              "#d8576b"
             ],
             [
              0.6666666666666666,
              "#ed7953"
             ],
             [
              0.7777777777777778,
              "#fb9f3a"
             ],
             [
              0.8888888888888888,
              "#fdca26"
             ],
             [
              1,
              "#f0f921"
             ]
            ],
            "type": "histogram2dcontour"
           }
          ],
          "mesh3d": [
           {
            "colorbar": {
             "outlinewidth": 0,
             "ticks": ""
            },
            "type": "mesh3d"
           }
          ],
          "parcoords": [
           {
            "line": {
             "colorbar": {
              "outlinewidth": 0,
              "ticks": ""
             }
            },
            "type": "parcoords"
           }
          ],
          "pie": [
           {
            "automargin": true,
            "type": "pie"
           }
          ],
          "scatter": [
           {
            "fillpattern": {
             "fillmode": "overlay",
             "size": 10,
             "solidity": 0.2
            },
            "type": "scatter"
           }
          ],
          "scatter3d": [
           {
            "line": {
             "colorbar": {
              "outlinewidth": 0,
              "ticks": ""
             }
            },
            "marker": {
             "colorbar": {
              "outlinewidth": 0,
              "ticks": ""
             }
            },
            "type": "scatter3d"
           }
          ],
          "scattercarpet": [
           {
            "marker": {
             "colorbar": {
              "outlinewidth": 0,
              "ticks": ""
             }
            },
            "type": "scattercarpet"
           }
          ],
          "scattergeo": [
           {
            "marker": {
             "colorbar": {
              "outlinewidth": 0,
              "ticks": ""
             }
            },
            "type": "scattergeo"
           }
          ],
          "scattergl": [
           {
            "marker": {
             "colorbar": {
              "outlinewidth": 0,
              "ticks": ""
             }
            },
            "type": "scattergl"
           }
          ],
          "scattermap": [
           {
            "marker": {
             "colorbar": {
              "outlinewidth": 0,
              "ticks": ""
             }
            },
            "type": "scattermap"
           }
          ],
          "scattermapbox": [
           {
            "marker": {
             "colorbar": {
              "outlinewidth": 0,
              "ticks": ""
             }
            },
            "type": "scattermapbox"
           }
          ],
          "scatterpolar": [
           {
            "marker": {
             "colorbar": {
              "outlinewidth": 0,
              "ticks": ""
             }
            },
            "type": "scatterpolar"
           }
          ],
          "scatterpolargl": [
           {
            "marker": {
             "colorbar": {
              "outlinewidth": 0,
              "ticks": ""
             }
            },
            "type": "scatterpolargl"
           }
          ],
          "scatterternary": [
           {
            "marker": {
             "colorbar": {
              "outlinewidth": 0,
              "ticks": ""
             }
            },
            "type": "scatterternary"
           }
          ],
          "surface": [
           {
            "colorbar": {
             "outlinewidth": 0,
             "ticks": ""
            },
            "colorscale": [
             [
              0,
              "#0d0887"
             ],
             [
              0.1111111111111111,
              "#46039f"
             ],
             [
              0.2222222222222222,
              "#7201a8"
             ],
             [
              0.3333333333333333,
              "#9c179e"
             ],
             [
              0.4444444444444444,
              "#bd3786"
             ],
             [
              0.5555555555555556,
              "#d8576b"
             ],
             [
              0.6666666666666666,
              "#ed7953"
             ],
             [
              0.7777777777777778,
              "#fb9f3a"
             ],
             [
              0.8888888888888888,
              "#fdca26"
             ],
             [
              1,
              "#f0f921"
             ]
            ],
            "type": "surface"
           }
          ],
          "table": [
           {
            "cells": {
             "fill": {
              "color": "#EBF0F8"
             },
             "line": {
              "color": "white"
             }
            },
            "header": {
             "fill": {
              "color": "#C8D4E3"
             },
             "line": {
              "color": "white"
             }
            },
            "type": "table"
           }
          ]
         },
         "layout": {
          "annotationdefaults": {
           "arrowcolor": "#2a3f5f",
           "arrowhead": 0,
           "arrowwidth": 1
          },
          "autotypenumbers": "strict",
          "coloraxis": {
           "colorbar": {
            "outlinewidth": 0,
            "ticks": ""
           }
          },
          "colorscale": {
           "diverging": [
            [
             0,
             "#8e0152"
            ],
            [
             0.1,
             "#c51b7d"
            ],
            [
             0.2,
             "#de77ae"
            ],
            [
             0.3,
             "#f1b6da"
            ],
            [
             0.4,
             "#fde0ef"
            ],
            [
             0.5,
             "#f7f7f7"
            ],
            [
             0.6,
             "#e6f5d0"
            ],
            [
             0.7,
             "#b8e186"
            ],
            [
             0.8,
             "#7fbc41"
            ],
            [
             0.9,
             "#4d9221"
            ],
            [
             1,
             "#276419"
            ]
           ],
           "sequential": [
            [
             0,
             "#0d0887"
            ],
            [
             0.1111111111111111,
             "#46039f"
            ],
            [
             0.2222222222222222,
             "#7201a8"
            ],
            [
             0.3333333333333333,
             "#9c179e"
            ],
            [
             0.4444444444444444,
             "#bd3786"
            ],
            [
             0.5555555555555556,
             "#d8576b"
            ],
            [
             0.6666666666666666,
             "#ed7953"
            ],
            [
             0.7777777777777778,
             "#fb9f3a"
            ],
            [
             0.8888888888888888,
             "#fdca26"
            ],
            [
             1,
             "#f0f921"
            ]
           ],
           "sequentialminus": [
            [
             0,
             "#0d0887"
            ],
            [
             0.1111111111111111,
             "#46039f"
            ],
            [
             0.2222222222222222,
             "#7201a8"
            ],
            [
             0.3333333333333333,
             "#9c179e"
            ],
            [
             0.4444444444444444,
             "#bd3786"
            ],
            [
             0.5555555555555556,
             "#d8576b"
            ],
            [
             0.6666666666666666,
             "#ed7953"
            ],
            [
             0.7777777777777778,
             "#fb9f3a"
            ],
            [
             0.8888888888888888,
             "#fdca26"
            ],
            [
             1,
             "#f0f921"
            ]
           ]
          },
          "colorway": [
           "#636efa",
           "#EF553B",
           "#00cc96",
           "#ab63fa",
           "#FFA15A",
           "#19d3f3",
           "#FF6692",
           "#B6E880",
           "#FF97FF",
           "#FECB52"
          ],
          "font": {
           "color": "#2a3f5f"
          },
          "geo": {
           "bgcolor": "white",
           "lakecolor": "white",
           "landcolor": "#E5ECF6",
           "showlakes": true,
           "showland": true,
           "subunitcolor": "white"
          },
          "hoverlabel": {
           "align": "left"
          },
          "hovermode": "closest",
          "mapbox": {
           "style": "light"
          },
          "paper_bgcolor": "white",
          "plot_bgcolor": "#E5ECF6",
          "polar": {
           "angularaxis": {
            "gridcolor": "white",
            "linecolor": "white",
            "ticks": ""
           },
           "bgcolor": "#E5ECF6",
           "radialaxis": {
            "gridcolor": "white",
            "linecolor": "white",
            "ticks": ""
           }
          },
          "scene": {
           "xaxis": {
            "backgroundcolor": "#E5ECF6",
            "gridcolor": "white",
            "gridwidth": 2,
            "linecolor": "white",
            "showbackground": true,
            "ticks": "",
            "zerolinecolor": "white"
           },
           "yaxis": {
            "backgroundcolor": "#E5ECF6",
            "gridcolor": "white",
            "gridwidth": 2,
            "linecolor": "white",
            "showbackground": true,
            "ticks": "",
            "zerolinecolor": "white"
           },
           "zaxis": {
            "backgroundcolor": "#E5ECF6",
            "gridcolor": "white",
            "gridwidth": 2,
            "linecolor": "white",
            "showbackground": true,
            "ticks": "",
            "zerolinecolor": "white"
           }
          },
          "shapedefaults": {
           "line": {
            "color": "#2a3f5f"
           }
          },
          "ternary": {
           "aaxis": {
            "gridcolor": "white",
            "linecolor": "white",
            "ticks": ""
           },
           "baxis": {
            "gridcolor": "white",
            "linecolor": "white",
            "ticks": ""
           },
           "bgcolor": "#E5ECF6",
           "caxis": {
            "gridcolor": "white",
            "linecolor": "white",
            "ticks": ""
           }
          },
          "title": {
           "x": 0.05
          },
          "xaxis": {
           "automargin": true,
           "gridcolor": "white",
           "linecolor": "white",
           "ticks": "",
           "title": {
            "standoff": 15
           },
           "zerolinecolor": "white",
           "zerolinewidth": 2
          },
          "yaxis": {
           "automargin": true,
           "gridcolor": "white",
           "linecolor": "white",
           "ticks": "",
           "title": {
            "standoff": 15
           },
           "zerolinecolor": "white",
           "zerolinewidth": 2
          }
         }
        },
        "title": {
         "text": "연도별 평균 영화 평점 변화"
        },
        "xaxis": {
         "anchor": "y",
         "domain": [
          0,
          1
         ],
         "title": {
          "text": "개봉년도"
         }
        },
        "yaxis": {
         "anchor": "x",
         "domain": [
          0,
          1
         ],
         "title": {
          "text": "평균 영화 평점"
         }
        }
       }
      },
      "image/png": "[encoded data removed]"
     },
     "metadata": {},
     "output_type": "display_data"
    }
   ],
   "source": [
    "import pandas as pd\n",
    "import plotly.express as px\n",
    "df = pd.read_csv('IMDB_top_1000.csv')\n",
    "\n",
    "df.head()\n",
    "\n",
    "rating_by_year = df.groupby('Released_Year')['IMDB_Rating'].mean()\n",
    "print(rating_by_year)\n",
    "\n",
    "fig = px.line(\n",
    "    x=rating_by_year.index,\n",
    "    y=rating_by_year.values,\n",
    "    title='연도별 평균 영화 평점 변화',\n",
    "    labels={'x': '개봉년도', 'y': '평균 영화 평점'}\n",
    ")\n",
    "fig.show()"
   ]
  },
  {
   "cell_type": "code",
   "execution_count": 11,
   "id": "836ddfbb-1197-4990-a61c-07361c9ae250",
   "metadata": {},
   "outputs": [
    {
     "name": "stdout",
     "output_type": "stream",
     "text": [
      "시군구\n",
      "서울특별시 종로구 신문로2가      322714.285714\n",
      "서울특별시 중구 장충동1가       251745.588235\n",
      "서울특별시 강남구 압구정동       207246.906752\n",
      "서울특별시 용산구 용산동5가      188138.695767\n",
      "서울특별시 종로구 홍파동        172629.000000\n",
      "                         ...      \n",
      "서울특별시 서대문구 미근동        13482.000000\n",
      "서울특별시 영등포구 영등포동3가     11496.577181\n",
      "서울특별시 성북구 안암동5가       11300.000000\n",
      "서울특별시 종로구 누상동         10375.000000\n",
      "서울특별시 중구 장충동2가         8581.122449\n",
      "Name: 거래금액(만원), Length: 338, dtype: float64\n"
     ]
    },
    {
     "data": {
      "application/vnd.plotly.v1+json": {
       "config": {
        "plotlyServerURL": "https://plot.ly"
       },
       "data": [
        {
         "hovertemplate": "시군구=%{x}<br>평균 매매가격(만원)=%{y}<extra></extra>",
         "legendgroup": "",
         "marker": {
          "color": "#636efa",
          "pattern": {
           "shape": ""
          }
         },
         "name": "",
         "orientation": "v",
         "showlegend": false,
         "textposition": "auto",
         "type": "bar",
         "x": [
          "서울특별시 종로구 신문로2가",
          "서울특별시 중구 장충동1가",
          "서울특별시 강남구 압구정동",
          "서울특별시 용산구 용산동5가",
          "서울특별시 종로구 홍파동",
          "서울특별시 용산구 청암동",
          "서울특별시 용산구 한남동",
          "서울특별시 서초구 반포동",
          "서울특별시 종로구 평동",
          "서울특별시 중구 회현동2가",
          "서울특별시 용산구 서빙고동",
          "서울특별시 용산구 주성동",
          "서울특별시 강남구 대치동",
          "서울특별시 강남구 도곡동",
          "서울특별시 중구 남대문로5가",
          "서울특별시 강남구 청담동",
          "서울특별시 마포구 하중동",
          "서울특별시 용산구 한강로3가",
          "서울특별시 송파구 잠실동",
          "서울특별시 종로구 내수동",
          "서울특별시 영등포구 여의도동",
          "서울특별시 강남구 삼성동",
          "서울특별시 중구 만리동2가",
          "서울특별시 서초구 잠원동",
          "서울특별시 용산구 이촌동",
          "서울특별시 용산구 동빙고동",
          "서울특별시 강남구 자곡동",
          "서울특별시 종로구 사직동",
          "서울특별시 송파구 신천동",
          "서울특별시 용산구 동자동",
          "서울특별시 중구 회현동1가",
          "서울특별시 용산구 신계동",
          "서울특별시 용산구 한강로1가",
          "서울특별시 마포구 상수동",
          "서울특별시 서초구 방배동",
          "서울특별시 서초구 내곡동",
          "서울특별시 성동구 상왕십리동",
          "서울특별시 서초구 신원동",
          "서울특별시 강남구 일원동",
          "서울특별시 서초구 서초동",
          "서울특별시 용산구 원효로1가",
          "서울특별시 마포구 아현동",
          "서울특별시 용산구 한강로2가",
          "서울특별시 용산구 이태원동",
          "서울특별시 송파구 방이동",
          "서울특별시 종로구 견지동",
          "서울특별시 성북구 보문동1가",
          "서울특별시 성동구 성수동1가",
          "서울특별시 강남구 개포동",
          "서울특별시 성동구 금호동2가",
          "서울특별시 강남구 세곡동",
          "서울특별시 강남구 율현동",
          "서울특별시 강남구 신사동",
          "서울특별시 마포구 용강동",
          "서울특별시 마포구 서교동",
          "서울특별시 성동구 옥수동",
          "서울특별시 강남구 역삼동",
          "서울특별시 용산구 보광동",
          "서울특별시 동작구 흑석동",
          "서울특별시 서초구 우면동",
          "서울특별시 중구 입정동",
          "서울특별시 동작구 동작동",
          "서울특별시 강남구 논현동",
          "서울특별시 강서구 마곡동",
          "서울특별시 양천구 목동",
          "서울특별시 송파구 장지동",
          "서울특별시 송파구 송파동",
          "서울특별시 송파구 문정동",
          "서울특별시 마포구 현석동",
          "서울특별시 광진구 광장동",
          "서울특별시 강동구 고덕동",
          "서울특별시 종로구 교북동",
          "서울특별시 서대문구 북아현동",
          "서울특별시 용산구 원효로4가",
          "서울특별시 마포구 공덕동",
          "서울특별시 성동구 금호동4가",
          "서울특별시 종로구 청운동",
          "서울특별시 영등포구 당산동5가",
          "서울특별시 성동구 성수동2가",
          "서울특별시 종로구 무악동",
          "서울특별시 영등포구 문래동3가",
          "서울특별시 마포구 신공덕동",
          "서울특별시 마포구 상암동",
          "서울특별시 강남구 수서동",
          "서울특별시 마포구 합정동",
          "서울특별시 성동구 하왕십리동",
          "서울특별시 종로구 평창동",
          "서울특별시 중구 흥인동",
          "서울특별시 용산구 문배동",
          "서울특별시 중구 충무로4가",
          "서울특별시 송파구 가락동",
          "서울특별시 송파구 오금동",
          "서울특별시 마포구 염리동",
          "서울특별시 광진구 자양동",
          "서울특별시 마포구 대흥동",
          "서울특별시 용산구 효창동",
          "서울특별시 중구 순화동",
          "서울특별시 용산구 용문동",
          "서울특별시 종로구 필운동",
          "서울특별시 성북구 삼선동3가",
          "서울특별시 강동구 둔촌동",
          "서울특별시 강동구 상일동",
          "서울특별시 서대문구 합동",
          "서울특별시 중구 중림동",
          "서울특별시 광진구 구의동",
          "서울특별시 동작구 상도동",
          "서울특별시 서대문구 냉천동",
          "서울특별시 성동구 행당동",
          "서울특별시 중구 만리동1가",
          "서울특별시 마포구 창전동",
          "서울특별시 종로구 인의동",
          "서울특별시 서대문구 남가좌동",
          "서울특별시 마포구 신수동",
          "서울특별시 마포구 도화동",
          "서울특별시 성동구 금호동1가",
          "서울특별시 용산구 도원동",
          "서울특별시 동작구 본동",
          "서울특별시 송파구 석촌동",
          "서울특별시 강동구 암사동",
          "서울특별시 종로구 명륜2가",
          "서울특별시 서초구 양재동",
          "서울특별시 영등포구 당산동4가",
          "서울특별시 은평구 진관동",
          "서울특별시 성북구 보문동6가",
          "서울특별시 용산구 갈월동",
          "서울특별시 양천구 신정동",
          "서울특별시 영등포구 영등포동7가",
          "서울특별시 중구 신당동",
          "서울특별시 성동구 응봉동",
          "서울특별시 마포구 신정동",
          "서울특별시 마포구 동교동",
          "서울특별시 용산구 후암동",
          "서울특별시 강동구 명일동",
          "서울특별시 중구 황학동",
          "서울특별시 성동구 금호동3가",
          "서울특별시 동작구 사당동",
          "서울특별시 구로구 신도림동",
          "서울특별시 성북구 보문동4가",
          "서울특별시 종로구 신교동",
          "서울특별시 서대문구 북가좌동",
          "서울특별시 영등포구 영등포동8가",
          "서울특별시 마포구 토정동",
          "서울특별시 영등포구 당산동3가",
          "서울특별시 동작구 신대방동",
          "서울특별시 성북구 동선동1가",
          "서울특별시 성북구 장위동",
          "서울특별시 용산구 산천동",
          "서울특별시 성북구 보문동3가",
          "서울특별시 용산구 신창동",
          "서울특별시 서대문구 영천동",
          "서울특별시 성북구 길음동",
          "서울특별시 성동구 도선동",
          "서울특별시 은평구 녹번동",
          "서울특별시 송파구 풍납동",
          "서울특별시 중구 필동3가",
          "서울특별시 동대문구 전농동",
          "서울특별시 광진구 군자동",
          "서울특별시 종로구 당주동",
          "서울특별시 성북구 동소문동5가",
          "서울특별시 용산구 용산동2가",
          "서울특별시 종로구 신문로1가",
          "서울특별시 성북구 삼선동2가",
          "서울특별시 마포구 구수동",
          "서울특별시 동작구 대방동",
          "서울특별시 영등포구 도림동",
          "서울특별시 동작구 노량진동",
          "서울특별시 동대문구 청량리동",
          "서울특별시 서대문구 현저동",
          "서울특별시 영등포구 영등포동",
          "서울특별시 구로구 항동",
          "서울특별시 송파구 마천동",
          "서울특별시 영등포구 신길동",
          "서울특별시 용산구 청파동3가",
          "서울특별시 강동구 강일동",
          "서울특별시 영등포구 당산동",
          "서울특별시 강서구 내발산동",
          "서울특별시 동대문구 용두동",
          "서울특별시 종로구 혜화동",
          "서울특별시 관악구 남현동",
          "서울특별시 동대문구 답십리동",
          "서울특별시 마포구 중동",
          "서울특별시 마포구 성산동",
          "서울특별시 송파구 거여동",
          "서울특별시 구로구 천왕동",
          "서울특별시 성북구 안암동1가",
          "서울특별시 성북구 하월곡동",
          "서울특별시 영등포구 양평동3가",
          "서울특별시 성북구 동소문동7가",
          "서울특별시 마포구 연남동",
          "서울특별시 종로구 구기동",
          "서울특별시 은평구 수색동",
          "서울특별시 구로구 온수동",
          "서울특별시 영등포구 당산동1가",
          "서울특별시 강서구 염창동",
          "서울특별시 은평구 불광동",
          "서울특별시 중구 을지로5가",
          "서울특별시 영등포구 양평동5가",
          "서울특별시 성동구 마장동",
          "서울특별시 은평구 응암동",
          "서울특별시 성북구 종암동",
          "서울특별시 강동구 성내동",
          "서울특별시 관악구 봉천동",
          "서울특별시 영등포구 문래동4가",
          "서울특별시 서대문구 천연동",
          "서울특별시 서대문구 대현동",
          "서울특별시 성동구 송정동",
          "서울특별시 마포구 망원동",
          "서울특별시 강서구 화곡동",
          "서울특별시 강동구 천호동",
          "서울특별시 성북구 돈암동",
          "서울특별시 서대문구 충정로2가",
          "서울특별시 성북구 석관동",
          "서울특별시 강서구 등촌동",
          "서울특별시 영등포구 문래동5가",
          "서울특별시 강북구 미아동",
          "서울특별시 동대문구 이문동",
          "서울특별시 종로구 명륜1가",
          "서울특별시 강서구 공항동",
          "서울특별시 동대문구 장안동",
          "서울특별시 성북구 성북동1가",
          "서울특별시 성동구 용답동",
          "서울특별시 영등포구 양평동4가",
          "서울특별시 서대문구 홍제동",
          "서울특별시 동대문구 제기동",
          "서울특별시 성북구 삼선동4가",
          "서울특별시 서대문구 연희동",
          "서울특별시 동대문구 휘경동",
          "서울특별시 영등포구 양평동6가",
          "서울특별시 마포구 마포동",
          "서울특별시 영등포구 양평동1가",
          "서울특별시 영등포구 대림동",
          "서울특별시 송파구 삼전동",
          "서울특별시 중랑구 상봉동",
          "서울특별시 종로구 수송동",
          "서울특별시 서대문구 홍은동",
          "서울특별시 중구 예장동",
          "서울특별시 영등포구 문래동6가",
          "서울특별시 중구 정동",
          "서울특별시 은평구 증산동",
          "서울특별시 강서구 가양동",
          "서울특별시 구로구 개봉동",
          "서울특별시 중랑구 묵동",
          "서울특별시 종로구 숭인동",
          "서울특별시 강동구 길동",
          "서울특별시 노원구 중계동",
          "서울특별시 성북구 동선동3가",
          "서울특별시 성북구 동소문동4가",
          "서울특별시 종로구 창신동",
          "서울특별시 성북구 상월곡동",
          "서울특별시 동대문구 회기동",
          "서울특별시 구로구 고척동",
          "서울특별시 성북구 정릉동",
          "서울특별시 서대문구 충정로3가",
          "서울특별시 중구 남산동2가",
          "서울특별시 관악구 신림동",
          "서울특별시 노원구 하계동",
          "서울특별시 금천구 독산동",
          "서울특별시 성동구 홍익동",
          "서울특별시 영등포구 양평동2가",
          "서울특별시 강북구 우이동",
          "서울특별시 성북구 동선동4가",
          "서울특별시 강서구 방화동",
          "서울특별시 영등포구 문래동2가",
          "서울특별시 중랑구 면목동",
          "서울특별시 영등포구 당산동2가",
          "서울특별시 종로구 부암동",
          "서울특별시 은평구 역촌동",
          "서울특별시 광진구 능동",
          "서울특별시 중랑구 중화동",
          "서울특별시 도봉구 창동",
          "서울특별시 성북구 동선동5가",
          "서울특별시 동대문구 신설동",
          "서울특별시 구로구 구로동",
          "서울특별시 양천구 신월동",
          "서울특별시 금천구 시흥동",
          "서울특별시 중구 묵정동",
          "서울특별시 노원구 월계동",
          "서울특별시 은평구 구산동",
          "서울특별시 노원구 공릉동",
          "서울특별시 중랑구 신내동",
          "서울특별시 중랑구 망우동",
          "서울특별시 구로구 오류동",
          "서울특별시 용산구 청파동1가",
          "서울특별시 중구 산림동",
          "서울특별시 도봉구 방학동",
          "서울특별시 광진구 중곡동",
          "서울특별시 은평구 신사동",
          "서울특별시 구로구 궁동",
          "서울특별시 도봉구 도봉동",
          "서울특별시 서대문구 창천동",
          "서울특별시 종로구 옥인동",
          "서울특별시 강북구 수유동",
          "서울특별시 동작구 상도1동",
          "서울특별시 노원구 상계동",
          "서울특별시 성동구 사근동",
          "서울특별시 종로구 이화동",
          "서울특별시 성북구 보문동2가",
          "서울특별시 용산구 원효로2가",
          "서울특별시 용산구 원효로3가",
          "서울특별시 광진구 화양동",
          "서울특별시 강북구 번동",
          "서울특별시 종로구 효제동",
          "서울특별시 은평구 갈현동",
          "서울특별시 금천구 가산동",
          "서울특별시 영등포구 영등포동5가",
          "서울특별시 구로구 가리봉동",
          "서울특별시 종로구 신영동",
          "서울특별시 중구 충무로5가",
          "서울특별시 은평구 대조동",
          "서울특별시 도봉구 쌍문동",
          "서울특별시 성북구 삼선동5가",
          "서울특별시 중구 오장동",
          "서울특별시 성북구 동소문동6가",
          "서울특별시 종로구 익선동",
          "서울특별시 중구 인현동2가",
          "서울특별시 종로구 낙원동",
          "서울특별시 성북구 성북동",
          "서울특별시 마포구 노고산동",
          "서울특별시 중구 남창동",
          "서울특별시 성북구 안암동3가",
          "서울특별시 종로구 동숭동",
          "서울특별시 종로구 연건동",
          "서울특별시 영등포구 영등포동2가",
          "서울특별시 종로구 명륜3가",
          "서울특별시 종로구 행촌동",
          "서울특별시 종로구 충신동",
          "서울특별시 영등포구 당산동6가",
          "서울특별시 영등포구 영등포동1가",
          "서울특별시 성북구 안암동4가",
          "서울특별시 종로구 통인동",
          "서울특별시 중구 필동1가",
          "서울특별시 종로구 연지동",
          "서울특별시 영등포구 영등포동4가",
          "서울특별시 서대문구 미근동",
          "서울특별시 영등포구 영등포동3가",
          "서울특별시 성북구 안암동5가",
          "서울특별시 종로구 누상동",
          "서울특별시 중구 장충동2가"
         ],
         "xaxis": "x",
         "y": {
          "bdata": "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",
          "dtype": "f8"
         },
         "yaxis": "y"
        }
       ],
       "layout": {
        "barmode": "relative",
        "legend": {
         "tracegroupgap": 0
        },
        "template": {
         "data": {
          "bar": [
           {
            "error_x": {
             "color": "#2a3f5f"
            },
            "error_y": {
             "color": "#2a3f5f"
            },
            "marker": {
             "line": {
              "color": "#E5ECF6",
              "width": 0.5
             },
             "pattern": {
              "fillmode": "overlay",
              "size": 10,
              "solidity": 0.2
             }
            },
            "type": "bar"
           }
          ],
          "barpolar": [
           {
            "marker": {
             "line": {
              "color": "#E5ECF6",
              "width": 0.5
             },
             "pattern": {
              "fillmode": "overlay",
              "size": 10,
              "solidity": 0.2
             }
            },
            "type": "barpolar"
           }
          ],
          "carpet": [
           {
            "aaxis": {
             "endlinecolor": "#2a3f5f",
             "gridcolor": "white",
             "linecolor": "white",
             "minorgridcolor": "white",
             "startlinecolor": "#2a3f5f"
            },
            "baxis": {
             "endlinecolor": "#2a3f5f",
             "gridcolor": "white",
             "linecolor": "white",
             "minorgridcolor": "white",
             "startlinecolor": "#2a3f5f"
            },
            "type": "carpet"
           }
          ],
          "choropleth": [
           {
            "colorbar": {
             "outlinewidth": 0,
             "ticks": ""
            },
            "type": "choropleth"
           }
          ],
          "contour": [
           {
            "colorbar": {
             "outlinewidth": 0,
             "ticks": ""
            },
            "colorscale": [
             [
              0,
              "#0d0887"
             ],
             [
              0.1111111111111111,
              "#46039f"
             ],
             [
              0.2222222222222222,
              "#7201a8"
             ],
             [
              0.3333333333333333,
              "#9c179e"
             ],
             [
              0.4444444444444444,
              "#bd3786"
             ],
             [
              0.5555555555555556,
              "#d8576b"
             ],
             [
              0.6666666666666666,
              "#ed7953"
             ],
             [
              0.7777777777777778,
              "#fb9f3a"
             ],
             [
              0.8888888888888888,
              "#fdca26"
             ],
             [
              1,
              "#f0f921"
             ]
            ],
            "type": "contour"
           }
          ],
          "contourcarpet": [
           {
            "colorbar": {
             "outlinewidth": 0,
             "ticks": ""
            },
            "type": "contourcarpet"
           }
          ],
          "heatmap": [
           {
            "colorbar": {
             "outlinewidth": 0,
             "ticks": ""
            },
            "colorscale": [
             [
              0,
              "#0d0887"
             ],
             [
              0.1111111111111111,
              "#46039f"
             ],
             [
              0.2222222222222222,
              "#7201a8"
             ],
             [
              0.3333333333333333,
              "#9c179e"
             ],
             [
              0.4444444444444444,
              "#bd3786"
             ],
             [
              0.5555555555555556,
              "#d8576b"
             ],
             [
              0.6666666666666666,
              "#ed7953"
             ],
             [
              0.7777777777777778,
              "#fb9f3a"
             ],
             [
              0.8888888888888888,
              "#fdca26"
             ],
             [
              1,
              "#f0f921"
             ]
            ],
            "type": "heatmap"
           }
          ],
          "histogram": [
           {
            "marker": {
             "pattern": {
              "fillmode": "overlay",
              "size": 10,
              "solidity": 0.2
             }
            },
            "type": "histogram"
           }
          ],
          "histogram2d": [
           {
            "colorbar": {
             "outlinewidth": 0,
             "ticks": ""
            },
            "colorscale": [
             [
              0,
              "#0d0887"
             ],
             [
              0.1111111111111111,
              "#46039f"
             ],
             [
              0.2222222222222222,
              "#7201a8"
             ],
             [
              0.3333333333333333,
              "#9c179e"
             ],
             [
              0.4444444444444444,
              "#bd3786"
             ],
             [
              0.5555555555555556,
              "#d8576b"
             ],
             [
              0.6666666666666666,
              "#ed7953"
             ],
             [
              0.7777777777777778,
              "#fb9f3a"
             ],
             [
              0.8888888888888888,
              "#fdca26"
             ],
             [
              1,
              "#f0f921"
             ]
            ],
            "type": "histogram2d"
           }
          ],
          "histogram2dcontour": [
           {
            "colorbar": {
             "outlinewidth": 0,
             "ticks": ""
            },
            "colorscale": [
             [
              0,
              "#0d0887"
             ],
             [
              0.1111111111111111,
              "#46039f"
             ],
             [
              0.2222222222222222,
              "#7201a8"
             ],
             [
              0.3333333333333333,
              "#9c179e"
             ],
             [
              0.4444444444444444,
              "#bd3786"
             ],
             [
              0.5555555555555556,
              "#d8576b"
             ],
             [
              0.6666666666666666,
              "#ed7953"
             ],
             [
              0.7777777777777778,
              "#fb9f3a"
             ],
             [
              0.8888888888888888,
              "#fdca26"
             ],
             [
              1,
              "#f0f921"
             ]
            ],
            "type": "histogram2dcontour"
           }
          ],
          "mesh3d": [
           {
            "colorbar": {
             "outlinewidth": 0,
             "ticks": ""
            },
            "type": "mesh3d"
           }
          ],
          "parcoords": [
           {
            "line": {
             "colorbar": {
              "outlinewidth": 0,
              "ticks": ""
             }
            },
            "type": "parcoords"
           }
          ],
          "pie": [
           {
            "automargin": true,
            "type": "pie"
           }
          ],
          "scatter": [
           {
            "fillpattern": {
             "fillmode": "overlay",
             "size": 10,
             "solidity": 0.2
            },
            "type": "scatter"
           }
          ],
          "scatter3d": [
           {
            "line": {
             "colorbar": {
              "outlinewidth": 0,
              "ticks": ""
             }
            },
            "marker": {
             "colorbar": {
              "outlinewidth": 0,
              "ticks": ""
             }
            },
            "type": "scatter3d"
           }
          ],
          "scattercarpet": [
           {
            "marker": {
             "colorbar": {
              "outlinewidth": 0,
              "ticks": ""
             }
            },
            "type": "scattercarpet"
           }
          ],
          "scattergeo": [
           {
            "marker": {
             "colorbar": {
              "outlinewidth": 0,
              "ticks": ""
             }
            },
            "type": "scattergeo"
           }
          ],
          "scattergl": [
           {
            "marker": {
             "colorbar": {
              "outlinewidth": 0,
              "ticks": ""
             }
            },
            "type": "scattergl"
           }
          ],
          "scattermap": [
           {
            "marker": {
             "colorbar": {
              "outlinewidth": 0,
              "ticks": ""
             }
            },
            "type": "scattermap"
           }
          ],
          "scattermapbox": [
           {
            "marker": {
             "colorbar": {
              "outlinewidth": 0,
              "ticks": ""
             }
            },
            "type": "scattermapbox"
           }
          ],
          "scatterpolar": [
           {
            "marker": {
             "colorbar": {
              "outlinewidth": 0,
              "ticks": ""
             }
            },
            "type": "scatterpolar"
           }
          ],
          "scatterpolargl": [
           {
            "marker": {
             "colorbar": {
              "outlinewidth": 0,
              "ticks": ""
             }
            },
            "type": "scatterpolargl"
           }
          ],
          "scatterternary": [
           {
            "marker": {
             "colorbar": {
              "outlinewidth": 0,
              "ticks": ""
             }
            },
            "type": "scatterternary"
           }
          ],
          "surface": [
           {
            "colorbar": {
             "outlinewidth": 0,
             "ticks": ""
            },
            "colorscale": [
             [
              0,
              "#0d0887"
             ],
             [
              0.1111111111111111,
              "#46039f"
             ],
             [
              0.2222222222222222,
              "#7201a8"
             ],
             [
              0.3333333333333333,
              "#9c179e"
             ],
             [
              0.4444444444444444,
              "#bd3786"
             ],
             [
              0.5555555555555556,
              "#d8576b"
             ],
             [
              0.6666666666666666,
              "#ed7953"
             ],
             [
              0.7777777777777778,
              "#fb9f3a"
             ],
             [
              0.8888888888888888,
              "#fdca26"
             ],
             [
              1,
              "#f0f921"
             ]
            ],
            "type": "surface"
           }
          ],
          "table": [
           {
            "cells": {
             "fill": {
              "color": "#EBF0F8"
             },
             "line": {
              "color": "white"
             }
            },
            "header": {
             "fill": {
              "color": "#C8D4E3"
             },
             "line": {
              "color": "white"
             }
            },
            "type": "table"
           }
          ]
         },
         "layout": {
          "annotationdefaults": {
           "arrowcolor": "#2a3f5f",
           "arrowhead": 0,
           "arrowwidth": 1
          },
          "autotypenumbers": "strict",
          "coloraxis": {
           "colorbar": {
            "outlinewidth": 0,
            "ticks": ""
           }
          },
          "colorscale": {
           "diverging": [
            [
             0,
             "#8e0152"
            ],
            [
             0.1,
             "#c51b7d"
            ],
            [
             0.2,
             "#de77ae"
            ],
            [
             0.3,
             "#f1b6da"
            ],
            [
             0.4,
             "#fde0ef"
            ],
            [
             0.5,
             "#f7f7f7"
            ],
            [
             0.6,
             "#e6f5d0"
            ],
            [
             0.7,
             "#b8e186"
            ],
            [
             0.8,
             "#7fbc41"
            ],
            [
             0.9,
             "#4d9221"
            ],
            [
             1,
             "#276419"
            ]
           ],
           "sequential": [
            [
             0,
             "#0d0887"
            ],
            [
             0.1111111111111111,
             "#46039f"
            ],
            [
             0.2222222222222222,
             "#7201a8"
            ],
            [
             0.3333333333333333,
             "#9c179e"
            ],
            [
             0.4444444444444444,
             "#bd3786"
            ],
            [
             0.5555555555555556,
             "#d8576b"
            ],
            [
             0.6666666666666666,
             "#ed7953"
            ],
            [
             0.7777777777777778,
             "#fb9f3a"
            ],
            [
             0.8888888888888888,
             "#fdca26"
            ],
            [
             1,
             "#f0f921"
            ]
           ],
           "sequentialminus": [
            [
             0,
             "#0d0887"
            ],
            [
             0.1111111111111111,
             "#46039f"
            ],
            [
             0.2222222222222222,
             "#7201a8"
            ],
            [
             0.3333333333333333,
             "#9c179e"
            ],
            [
             0.4444444444444444,
             "#bd3786"
            ],
            [
             0.5555555555555556,
             "#d8576b"
            ],
            [
             0.6666666666666666,
             "#ed7953"
            ],
            [
             0.7777777777777778,
             "#fb9f3a"
            ],
            [
             0.8888888888888888,
             "#fdca26"
            ],
            [
             1,
             "#f0f921"
            ]
           ]
          },
          "colorway": [
           "#636efa",
           "#EF553B",
           "#00cc96",
           "#ab63fa",
           "#FFA15A",
           "#19d3f3",
           "#FF6692",
           "#B6E880",
           "#FF97FF",
           "#FECB52"
          ],
          "font": {
           "color": "#2a3f5f"
          },
          "geo": {
           "bgcolor": "white",
           "lakecolor": "white",
           "landcolor": "#E5ECF6",
           "showlakes": true,
           "showland": true,
           "subunitcolor": "white"
          },
          "hoverlabel": {
           "align": "left"
          },
          "hovermode": "closest",
          "mapbox": {
           "style": "light"
          },
          "paper_bgcolor": "white",
          "plot_bgcolor": "#E5ECF6",
          "polar": {
           "angularaxis": {
            "gridcolor": "white",
            "linecolor": "white",
            "ticks": ""
           },
           "bgcolor": "#E5ECF6",
           "radialaxis": {
            "gridcolor": "white",
            "linecolor": "white",
            "ticks": ""
           }
          },
          "scene": {
           "xaxis": {
            "backgroundcolor": "#E5ECF6",
            "gridcolor": "white",
            "gridwidth": 2,
            "linecolor": "white",
            "showbackground": true,
            "ticks": "",
            "zerolinecolor": "white"
           },
           "yaxis": {
            "backgroundcolor": "#E5ECF6",
            "gridcolor": "white",
            "gridwidth": 2,
            "linecolor": "white",
            "showbackground": true,
            "ticks": "",
            "zerolinecolor": "white"
           },
           "zaxis": {
            "backgroundcolor": "#E5ECF6",
            "gridcolor": "white",
            "gridwidth": 2,
            "linecolor": "white",
            "showbackground": true,
            "ticks": "",
            "zerolinecolor": "white"
           }
          },
          "shapedefaults": {
           "line": {
            "color": "#2a3f5f"
           }
          },
          "ternary": {
           "aaxis": {
            "gridcolor": "white",
            "linecolor": "white",
            "ticks": ""
           },
           "baxis": {
            "gridcolor": "white",
            "linecolor": "white",
            "ticks": ""
           },
           "bgcolor": "#E5ECF6",
           "caxis": {
            "gridcolor": "white",
            "linecolor": "white",
            "ticks": ""
           }
          },
          "title": {
           "x": 0.05
          },
          "xaxis": {
           "automargin": true,
           "gridcolor": "white",
           "linecolor": "white",
           "ticks": "",
           "title": {
            "standoff": 15
           },
           "zerolinecolor": "white",
           "zerolinewidth": 2
          },
          "yaxis": {
           "automargin": true,
           "gridcolor": "white",
           "linecolor": "white",
           "ticks": "",
           "title": {
            "standoff": 15
           },
           "zerolinecolor": "white",
           "zerolinewidth": 2
          }
         }
        },
        "title": {
         "text": "서울 지역별 평균 부동산 매매가격"
        },
        "xaxis": {
         "anchor": "y",
         "domain": [
          0,
          1
         ],
         "title": {
          "text": "시군구"
         }
        },
        "yaxis": {
         "anchor": "x",
         "domain": [
          0,
          1
         ],
         "title": {
          "text": "평균 매매가격(만원)"
         }
        }
       }
      },
      "image/png": "[encoded data removed]"
     },
     "metadata": {},
     "output_type": "display_data"
    }
   ],
   "source": [
    "import pandas as pd\n",
    "import plotly.express as px\n",
    "\n",
    "df = pd.read_csv('seoul_apartment.csv')\n",
    "\n",
    "df.head()\n",
    "\n",
    "avg_price_by_city = df.groupby('시군구')['거래금액(만원)'].mean().sort_values(ascending=False)\n",
    "print(avg_price_by_city)\n",
    "\n",
    "fig = px.bar(\n",
    "    avg_price_by_city,\n",
    "    x=avg_price_by_city.index,\n",
    "    y=avg_price_by_city.values,\n",
    "    title='서울 지역별 평균 부동산 매매가격',\n",
    "    labels={'x': '시군구', 'y': '평균 매매가격(만원)'}\n",
    ")\n",
    "fig.show()\n"
   ]
  },
  {
   "cell_type": "code",
   "execution_count": null,
   "id": "90ae2398-4f40-4a35-b6fc-3585f2076a2c",
   "metadata": {},
   "outputs": [],
   "source": []
  }
 ],
 "metadata": {
  "kernelspec": {
   "display_name": "Python [conda env:base] *",
   "language": "python",
   "name": "conda-base-py"
  },
  "language_info": {
   "codemirror_mode": {
    "name": "ipython",
    "version": 3
   },
   "file_extension": ".py",
   "mimetype": "text/x-python",
   "name": "python",
   "nbconvert_exporter": "python",
   "pygments_lexer": "ipython3",
   "version": "3.13.5"
  }
 },
 "nbformat": 4,
 "nbformat_minor": 5
}
