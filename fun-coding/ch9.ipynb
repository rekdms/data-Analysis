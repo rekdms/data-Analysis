{
 "cells": [
  {
   "cell_type": "code",
   "execution_count": 1,
   "id": "cb1021b9-ee0b-45de-8bd5-f2d86d891d64",
   "metadata": {},
   "outputs": [
    {
     "name": "stdout",
     "output_type": "stream",
     "text": [
      "Collecting plotly==5.22.0\n",
      "  Downloading plotly-5.22.0-py3-none-any.whl.metadata (7.1 kB)\n",
      "Requirement already satisfied: tenacity>=6.2.0 in /opt/anaconda3/lib/python3.13/site-packages (from plotly==5.22.0) (9.0.0)\n",
      "Requirement already satisfied: packaging in /opt/anaconda3/lib/python3.13/site-packages (from plotly==5.22.0) (24.2)\n",
      "Downloading plotly-5.22.0-py3-none-any.whl (16.4 MB)\n",
      "\u001b[2K   \u001b[90m━━━━━━━━━━━━━━━━━━━━━━━━━━━━━━━━━━━━━━━━\u001b[0m \u001b[32m16.4/16.4 MB\u001b[0m \u001b[31m51.4 MB/s\u001b[0m eta \u001b[36m0:00:00\u001b[0ma \u001b[36m0:00:01\u001b[0m\n",
      "Installing collected packages: plotly\n",
      "  Attempting uninstall: plotly\n",
      "    Found existing installation: plotly 5.24.1\n",
      "    Uninstalling plotly-5.24.1:\n",
      "      Successfully uninstalled plotly-5.24.1\n",
      "Successfully installed plotly-5.22.0\n"
     ]
    }
   ],
   "source": [
    "# !pip install plotly==5.22.0"
   ]
  },
  {
   "cell_type": "code",
   "execution_count": 2,
   "id": "526274fb-6256-4ba1-afba-89035f45145b",
   "metadata": {},
   "outputs": [
    {
     "data": {
      "application/vnd.plotly.v1+json": {
       "config": {
        "plotlyServerURL": "https://plot.ly"
       },
       "data": [
        {
         "bingroup": "x",
         "hovertemplate": "IMDB_Rating=%{x}<br>count=%{y}<extra></extra>",
         "legendgroup": "",
         "marker": {
          "color": "#636efa",
          "pattern": {
           "shape": ""
          }
         },
         "name": "",
         "nbinsx": 10,
         "orientation": "v",
         "showlegend": false,
         "type": "histogram",
         "x": {
          "bdata": "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",
          "dtype": "f8"
         },
         "xaxis": "x",
         "yaxis": "y"
        }
       ],
       "layout": {
        "barmode": "relative",
        "legend": {
         "tracegroupgap": 0
        },
        "template": {
         "data": {
          "bar": [
           {
            "error_x": {
             "color": "#2a3f5f"
            },
            "error_y": {
             "color": "#2a3f5f"
            },
            "marker": {
             "line": {
              "color": "#E5ECF6",
              "width": 0.5
             },
             "pattern": {
              "fillmode": "overlay",
              "size": 10,
              "solidity": 0.2
             }
            },
            "type": "bar"
           }
          ],
          "barpolar": [
           {
            "marker": {
             "line": {
              "color": "#E5ECF6",
              "width": 0.5
             },
             "pattern": {
              "fillmode": "overlay",
              "size": 10,
              "solidity": 0.2
             }
            },
            "type": "barpolar"
           }
          ],
          "carpet": [
           {
            "aaxis": {
             "endlinecolor": "#2a3f5f",
             "gridcolor": "white",
             "linecolor": "white",
             "minorgridcolor": "white",
             "startlinecolor": "#2a3f5f"
            },
            "baxis": {
             "endlinecolor": "#2a3f5f",
             "gridcolor": "white",
             "linecolor": "white",
             "minorgridcolor": "white",
             "startlinecolor": "#2a3f5f"
            },
            "type": "carpet"
           }
          ],
          "choropleth": [
           {
            "colorbar": {
             "outlinewidth": 0,
             "ticks": ""
            },
            "type": "choropleth"
           }
          ],
          "contour": [
           {
            "colorbar": {
             "outlinewidth": 0,
             "ticks": ""
            },
            "colorscale": [
             [
              0,
              "#0d0887"
             ],
             [
              0.1111111111111111,
              "#46039f"
             ],
             [
              0.2222222222222222,
              "#7201a8"
             ],
             [
              0.3333333333333333,
              "#9c179e"
             ],
             [
              0.4444444444444444,
              "#bd3786"
             ],
             [
              0.5555555555555556,
              "#d8576b"
             ],
             [
              0.6666666666666666,
              "#ed7953"
             ],
             [
              0.7777777777777778,
              "#fb9f3a"
             ],
             [
              0.8888888888888888,
              "#fdca26"
             ],
             [
              1,
              "#f0f921"
             ]
            ],
            "type": "contour"
           }
          ],
          "contourcarpet": [
           {
            "colorbar": {
             "outlinewidth": 0,
             "ticks": ""
            },
            "type": "contourcarpet"
           }
          ],
          "heatmap": [
           {
            "colorbar": {
             "outlinewidth": 0,
             "ticks": ""
            },
            "colorscale": [
             [
              0,
              "#0d0887"
             ],
             [
              0.1111111111111111,
              "#46039f"
             ],
             [
              0.2222222222222222,
              "#7201a8"
             ],
             [
              0.3333333333333333,
              "#9c179e"
             ],
             [
              0.4444444444444444,
              "#bd3786"
             ],
             [
              0.5555555555555556,
              "#d8576b"
             ],
             [
              0.6666666666666666,
              "#ed7953"
             ],
             [
              0.7777777777777778,
              "#fb9f3a"
             ],
             [
              0.8888888888888888,
              "#fdca26"
             ],
             [
              1,
              "#f0f921"
             ]
            ],
            "type": "heatmap"
           }
          ],
          "histogram": [
           {
            "marker": {
             "pattern": {
              "fillmode": "overlay",
              "size": 10,
              "solidity": 0.2
             }
            },
            "type": "histogram"
           }
          ],
          "histogram2d": [
           {
            "colorbar": {
             "outlinewidth": 0,
             "ticks": ""
            },
            "colorscale": [
             [
              0,
              "#0d0887"
             ],
             [
              0.1111111111111111,
              "#46039f"
             ],
             [
              0.2222222222222222,
              "#7201a8"
             ],
             [
              0.3333333333333333,
              "#9c179e"
             ],
             [
              0.4444444444444444,
              "#bd3786"
             ],
             [
              0.5555555555555556,
              "#d8576b"
             ],
             [
              0.6666666666666666,
              "#ed7953"
             ],
             [
              0.7777777777777778,
              "#fb9f3a"
             ],
             [
              0.8888888888888888,
              "#fdca26"
             ],
             [
              1,
              "#f0f921"
             ]
            ],
            "type": "histogram2d"
           }
          ],
          "histogram2dcontour": [
           {
            "colorbar": {
             "outlinewidth": 0,
             "ticks": ""
            },
            "colorscale": [
             [
              0,
              "#0d0887"
             ],
             [
              0.1111111111111111,
              "#46039f"
             ],
             [
              0.2222222222222222,
              "#7201a8"
             ],
             [
              0.3333333333333333,
              "#9c179e"
             ],
             [
              0.4444444444444444,
              "#bd3786"
             ],
             [
              0.5555555555555556,
              "#d8576b"
             ],
             [
              0.6666666666666666,
              "#ed7953"
             ],
             [
              0.7777777777777778,
              "#fb9f3a"
             ],
             [
              0.8888888888888888,
              "#fdca26"
             ],
             [
              1,
              "#f0f921"
             ]
            ],
            "type": "histogram2dcontour"
           }
          ],
          "mesh3d": [
           {
            "colorbar": {
             "outlinewidth": 0,
             "ticks": ""
            },
            "type": "mesh3d"
           }
          ],
          "parcoords": [
           {
            "line": {
             "colorbar": {
              "outlinewidth": 0,
              "ticks": ""
             }
            },
            "type": "parcoords"
           }
          ],
          "pie": [
           {
            "automargin": true,
            "type": "pie"
           }
          ],
          "scatter": [
           {
            "fillpattern": {
             "fillmode": "overlay",
             "size": 10,
             "solidity": 0.2
            },
            "type": "scatter"
           }
          ],
          "scatter3d": [
           {
            "line": {
             "colorbar": {
              "outlinewidth": 0,
              "ticks": ""
             }
            },
            "marker": {
             "colorbar": {
              "outlinewidth": 0,
              "ticks": ""
             }
            },
            "type": "scatter3d"
           }
          ],
          "scattercarpet": [
           {
            "marker": {
             "colorbar": {
              "outlinewidth": 0,
              "ticks": ""
             }
            },
            "type": "scattercarpet"
           }
          ],
          "scattergeo": [
           {
            "marker": {
             "colorbar": {
              "outlinewidth": 0,
              "ticks": ""
             }
            },
            "type": "scattergeo"
           }
          ],
          "scattergl": [
           {
            "marker": {
             "colorbar": {
              "outlinewidth": 0,
              "ticks": ""
             }
            },
            "type": "scattergl"
           }
          ],
          "scattermap": [
           {
            "marker": {
             "colorbar": {
              "outlinewidth": 0,
              "ticks": ""
             }
            },
            "type": "scattermap"
           }
          ],
          "scattermapbox": [
           {
            "marker": {
             "colorbar": {
              "outlinewidth": 0,
              "ticks": ""
             }
            },
            "type": "scattermapbox"
           }
          ],
          "scatterpolar": [
           {
            "marker": {
             "colorbar": {
              "outlinewidth": 0,
              "ticks": ""
             }
            },
            "type": "scatterpolar"
           }
          ],
          "scatterpolargl": [
           {
            "marker": {
             "colorbar": {
              "outlinewidth": 0,
              "ticks": ""
             }
            },
            "type": "scatterpolargl"
           }
          ],
          "scatterternary": [
           {
            "marker": {
             "colorbar": {
              "outlinewidth": 0,
              "ticks": ""
             }
            },
            "type": "scatterternary"
           }
          ],
          "surface": [
           {
            "colorbar": {
             "outlinewidth": 0,
             "ticks": ""
            },
            "colorscale": [
             [
              0,
              "#0d0887"
             ],
             [
              0.1111111111111111,
              "#46039f"
             ],
             [
              0.2222222222222222,
              "#7201a8"
             ],
             [
              0.3333333333333333,
              "#9c179e"
             ],
             [
              0.4444444444444444,
              "#bd3786"
             ],
             [
              0.5555555555555556,
              "#d8576b"
             ],
             [
              0.6666666666666666,
              "#ed7953"
             ],
             [
              0.7777777777777778,
              "#fb9f3a"
             ],
             [
              0.8888888888888888,
              "#fdca26"
             ],
             [
              1,
              "#f0f921"
             ]
            ],
            "type": "surface"
           }
          ],
          "table": [
           {
            "cells": {
             "fill": {
              "color": "#EBF0F8"
             },
             "line": {
              "color": "white"
             }
            },
            "header": {
             "fill": {
              "color": "#C8D4E3"
             },
             "line": {
              "color": "white"
             }
            },
            "type": "table"
           }
          ]
         },
         "layout": {
          "annotationdefaults": {
           "arrowcolor": "#2a3f5f",
           "arrowhead": 0,
           "arrowwidth": 1
          },
          "autotypenumbers": "strict",
          "coloraxis": {
           "colorbar": {
            "outlinewidth": 0,
            "ticks": ""
           }
          },
          "colorscale": {
           "diverging": [
            [
             0,
             "#8e0152"
            ],
            [
             0.1,
             "#c51b7d"
            ],
            [
             0.2,
             "#de77ae"
            ],
            [
             0.3,
             "#f1b6da"
            ],
            [
             0.4,
             "#fde0ef"
            ],
            [
             0.5,
             "#f7f7f7"
            ],
            [
             0.6,
             "#e6f5d0"
            ],
            [
             0.7,
             "#b8e186"
            ],
            [
             0.8,
             "#7fbc41"
            ],
            [
             0.9,
             "#4d9221"
            ],
            [
             1,
             "#276419"
            ]
           ],
           "sequential": [
            [
             0,
             "#0d0887"
            ],
            [
             0.1111111111111111,
             "#46039f"
            ],
            [
             0.2222222222222222,
             "#7201a8"
            ],
            [
             0.3333333333333333,
             "#9c179e"
            ],
            [
             0.4444444444444444,
             "#bd3786"
            ],
            [
             0.5555555555555556,
             "#d8576b"
            ],
            [
             0.6666666666666666,
             "#ed7953"
            ],
            [
             0.7777777777777778,
             "#fb9f3a"
            ],
            [
             0.8888888888888888,
             "#fdca26"
            ],
            [
             1,
             "#f0f921"
            ]
           ],
           "sequentialminus": [
            [
             0,
             "#0d0887"
            ],
            [
             0.1111111111111111,
             "#46039f"
            ],
            [
             0.2222222222222222,
             "#7201a8"
            ],
            [
             0.3333333333333333,
             "#9c179e"
            ],
            [
             0.4444444444444444,
             "#bd3786"
            ],
            [
             0.5555555555555556,
             "#d8576b"
            ],
            [
             0.6666666666666666,
             "#ed7953"
            ],
            [
             0.7777777777777778,
             "#fb9f3a"
            ],
            [
             0.8888888888888888,
             "#fdca26"
            ],
            [
             1,
             "#f0f921"
            ]
           ]
          },
          "colorway": [
           "#636efa",
           "#EF553B",
           "#00cc96",
           "#ab63fa",
           "#FFA15A",
           "#19d3f3",
           "#FF6692",
           "#B6E880",
           "#FF97FF",
           "#FECB52"
          ],
          "font": {
           "color": "#2a3f5f"
          },
          "geo": {
           "bgcolor": "white",
           "lakecolor": "white",
           "landcolor": "#E5ECF6",
           "showlakes": true,
           "showland": true,
           "subunitcolor": "white"
          },
          "hoverlabel": {
           "align": "left"
          },
          "hovermode": "closest",
          "mapbox": {
           "style": "light"
          },
          "paper_bgcolor": "white",
          "plot_bgcolor": "#E5ECF6",
          "polar": {
           "angularaxis": {
            "gridcolor": "white",
            "linecolor": "white",
            "ticks": ""
           },
           "bgcolor": "#E5ECF6",
           "radialaxis": {
            "gridcolor": "white",
            "linecolor": "white",
            "ticks": ""
           }
          },
          "scene": {
           "xaxis": {
            "backgroundcolor": "#E5ECF6",
            "gridcolor": "white",
            "gridwidth": 2,
            "linecolor": "white",
            "showbackground": true,
            "ticks": "",
            "zerolinecolor": "white"
           },
           "yaxis": {
            "backgroundcolor": "#E5ECF6",
            "gridcolor": "white",
            "gridwidth": 2,
            "linecolor": "white",
            "showbackground": true,
            "ticks": "",
            "zerolinecolor": "white"
           },
           "zaxis": {
            "backgroundcolor": "#E5ECF6",
            "gridcolor": "white",
            "gridwidth": 2,
            "linecolor": "white",
            "showbackground": true,
            "ticks": "",
            "zerolinecolor": "white"
           }
          },
          "shapedefaults": {
           "line": {
            "color": "#2a3f5f"
           }
          },
          "ternary": {
           "aaxis": {
            "gridcolor": "white",
            "linecolor": "white",
            "ticks": ""
           },
           "baxis": {
            "gridcolor": "white",
            "linecolor": "white",
            "ticks": ""
           },
           "bgcolor": "#E5ECF6",
           "caxis": {
            "gridcolor": "white",
            "linecolor": "white",
            "ticks": ""
           }
          },
          "title": {
           "x": 0.05
          },
          "xaxis": {
           "automargin": true,
           "gridcolor": "white",
           "linecolor": "white",
           "ticks": "",
           "title": {
            "standoff": 15
           },
           "zerolinecolor": "white",
           "zerolinewidth": 2
          },
          "yaxis": {
           "automargin": true,
           "gridcolor": "white",
           "linecolor": "white",
           "ticks": "",
           "title": {
            "standoff": 15
           },
           "zerolinecolor": "white",
           "zerolinewidth": 2
          }
         }
        },
        "title": {
         "text": "Distribution of IMDB Ratings"
        },
        "xaxis": {
         "anchor": "y",
         "domain": [
          0,
          1
         ],
         "title": {
          "text": "IMDB_Rating"
         }
        },
        "yaxis": {
         "anchor": "x",
         "domain": [
          0,
          1
         ],
         "title": {
          "text": "count"
         }
        }
       }
      },
      "image/png": "[encoded data removed]"
     },
     "metadata": {},
     "output_type": "display_data"
    }
   ],
   "source": [
    "import pandas as pd\n",
    "import plotly.express as px\n",
    "\n",
    "df = pd.read_csv('IMDB_top_1000.csv')\n",
    "\n",
    "fig = px.histogram(df, x='IMDB_Rating', nbins=10, title='Distribution of IMDB Ratings')\n",
    "fig.show()"
   ]
  },
  {
   "cell_type": "code",
   "execution_count": 3,
   "id": "21c9f779-fa09-479e-95f6-68ccf3559dc1",
   "metadata": {},
   "outputs": [
    {
     "data": {
      "application/vnd.plotly.v1+json": {
       "config": {
        "plotlyServerURL": "https://plot.ly"
       },
       "data": [
        {
         "bingroup": "x",
         "hovertemplate": "IMDB_Rating=%{x}<br>count=%{y}<extra></extra>",
         "legendgroup": "",
         "marker": {
          "color": "#636efa",
          "pattern": {
           "shape": ""
          }
         },
         "name": "",
         "nbinsx": 20,
         "orientation": "v",
         "showlegend": false,
         "type": "histogram",
         "x": {
          "bdata": "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",
          "dtype": "f8"
         },
         "xaxis": "x",
         "yaxis": "y"
        }
       ],
       "layout": {
        "barmode": "relative",
        "legend": {
         "tracegroupgap": 0
        },
        "template": {
         "data": {
          "bar": [
           {
            "error_x": {
             "color": "#2a3f5f"
            },
            "error_y": {
             "color": "#2a3f5f"
            },
            "marker": {
             "line": {
              "color": "#E5ECF6",
              "width": 0.5
             },
             "pattern": {
              "fillmode": "overlay",
              "size": 10,
              "solidity": 0.2
             }
            },
            "type": "bar"
           }
          ],
          "barpolar": [
           {
            "marker": {
             "line": {
              "color": "#E5ECF6",
              "width": 0.5
             },
             "pattern": {
              "fillmode": "overlay",
              "size": 10,
              "solidity": 0.2
             }
            },
            "type": "barpolar"
           }
          ],
          "carpet": [
           {
            "aaxis": {
             "endlinecolor": "#2a3f5f",
             "gridcolor": "white",
             "linecolor": "white",
             "minorgridcolor": "white",
             "startlinecolor": "#2a3f5f"
            },
            "baxis": {
             "endlinecolor": "#2a3f5f",
             "gridcolor": "white",
             "linecolor": "white",
             "minorgridcolor": "white",
             "startlinecolor": "#2a3f5f"
            },
            "type": "carpet"
           }
          ],
          "choropleth": [
           {
            "colorbar": {
             "outlinewidth": 0,
             "ticks": ""
            },
            "type": "choropleth"
           }
          ],
          "contour": [
           {
            "colorbar": {
             "outlinewidth": 0,
             "ticks": ""
            },
            "colorscale": [
             [
              0,
              "#0d0887"
             ],
             [
              0.1111111111111111,
              "#46039f"
             ],
             [
              0.2222222222222222,
              "#7201a8"
             ],
             [
              0.3333333333333333,
              "#9c179e"
             ],
             [
              0.4444444444444444,
              "#bd3786"
             ],
             [
              0.5555555555555556,
              "#d8576b"
             ],
             [
              0.6666666666666666,
              "#ed7953"
             ],
             [
              0.7777777777777778,
              "#fb9f3a"
             ],
             [
              0.8888888888888888,
              "#fdca26"
             ],
             [
              1,
              "#f0f921"
             ]
            ],
            "type": "contour"
           }
          ],
          "contourcarpet": [
           {
            "colorbar": {
             "outlinewidth": 0,
             "ticks": ""
            },
            "type": "contourcarpet"
           }
          ],
          "heatmap": [
           {
            "colorbar": {
             "outlinewidth": 0,
             "ticks": ""
            },
            "colorscale": [
             [
              0,
              "#0d0887"
             ],
             [
              0.1111111111111111,
              "#46039f"
             ],
             [
              0.2222222222222222,
              "#7201a8"
             ],
             [
              0.3333333333333333,
              "#9c179e"
             ],
             [
              0.4444444444444444,
              "#bd3786"
             ],
             [
              0.5555555555555556,
              "#d8576b"
             ],
             [
              0.6666666666666666,
              "#ed7953"
             ],
             [
              0.7777777777777778,
              "#fb9f3a"
             ],
             [
              0.8888888888888888,
              "#fdca26"
             ],
             [
              1,
              "#f0f921"
             ]
            ],
            "type": "heatmap"
           }
          ],
          "histogram": [
           {
            "marker": {
             "pattern": {
              "fillmode": "overlay",
              "size": 10,
              "solidity": 0.2
             }
            },
            "type": "histogram"
           }
          ],
          "histogram2d": [
           {
            "colorbar": {
             "outlinewidth": 0,
             "ticks": ""
            },
            "colorscale": [
             [
              0,
              "#0d0887"
             ],
             [
              0.1111111111111111,
              "#46039f"
             ],
             [
              0.2222222222222222,
              "#7201a8"
             ],
             [
              0.3333333333333333,
              "#9c179e"
             ],
             [
              0.4444444444444444,
              "#bd3786"
             ],
             [
              0.5555555555555556,
              "#d8576b"
             ],
             [
              0.6666666666666666,
              "#ed7953"
             ],
             [
              0.7777777777777778,
              "#fb9f3a"
             ],
             [
              0.8888888888888888,
              "#fdca26"
             ],
             [
              1,
              "#f0f921"
             ]
            ],
            "type": "histogram2d"
           }
          ],
          "histogram2dcontour": [
           {
            "colorbar": {
             "outlinewidth": 0,
             "ticks": ""
            },
            "colorscale": [
             [
              0,
              "#0d0887"
             ],
             [
              0.1111111111111111,
              "#46039f"
             ],
             [
              0.2222222222222222,
              "#7201a8"
             ],
             [
              0.3333333333333333,
              "#9c179e"
             ],
             [
              0.4444444444444444,
              "#bd3786"
             ],
             [
              0.5555555555555556,
              "#d8576b"
             ],
             [
              0.6666666666666666,
              "#ed7953"
             ],
             [
              0.7777777777777778,
              "#fb9f3a"
             ],
             [
              0.8888888888888888,
              "#fdca26"
             ],
             [
              1,
              "#f0f921"
             ]
            ],
            "type": "histogram2dcontour"
           }
          ],
          "mesh3d": [
           {
            "colorbar": {
             "outlinewidth": 0,
             "ticks": ""
            },
            "type": "mesh3d"
           }
          ],
          "parcoords": [
           {
            "line": {
             "colorbar": {
              "outlinewidth": 0,
              "ticks": ""
             }
            },
            "type": "parcoords"
           }
          ],
          "pie": [
           {
            "automargin": true,
            "type": "pie"
           }
          ],
          "scatter": [
           {
            "fillpattern": {
             "fillmode": "overlay",
             "size": 10,
             "solidity": 0.2
            },
            "type": "scatter"
           }
          ],
          "scatter3d": [
           {
            "line": {
             "colorbar": {
              "outlinewidth": 0,
              "ticks": ""
             }
            },
            "marker": {
             "colorbar": {
              "outlinewidth": 0,
              "ticks": ""
             }
            },
            "type": "scatter3d"
           }
          ],
          "scattercarpet": [
           {
            "marker": {
             "colorbar": {
              "outlinewidth": 0,
              "ticks": ""
             }
            },
            "type": "scattercarpet"
           }
          ],
          "scattergeo": [
           {
            "marker": {
             "colorbar": {
              "outlinewidth": 0,
              "ticks": ""
             }
            },
            "type": "scattergeo"
           }
          ],
          "scattergl": [
           {
            "marker": {
             "colorbar": {
              "outlinewidth": 0,
              "ticks": ""
             }
            },
            "type": "scattergl"
           }
          ],
          "scattermap": [
           {
            "marker": {
             "colorbar": {
              "outlinewidth": 0,
              "ticks": ""
             }
            },
            "type": "scattermap"
           }
          ],
          "scattermapbox": [
           {
            "marker": {
             "colorbar": {
              "outlinewidth": 0,
              "ticks": ""
             }
            },
            "type": "scattermapbox"
           }
          ],
          "scatterpolar": [
           {
            "marker": {
             "colorbar": {
              "outlinewidth": 0,
              "ticks": ""
             }
            },
            "type": "scatterpolar"
           }
          ],
          "scatterpolargl": [
           {
            "marker": {
             "colorbar": {
              "outlinewidth": 0,
              "ticks": ""
             }
            },
            "type": "scatterpolargl"
           }
          ],
          "scatterternary": [
           {
            "marker": {
             "colorbar": {
              "outlinewidth": 0,
              "ticks": ""
             }
            },
            "type": "scatterternary"
           }
          ],
          "surface": [
           {
            "colorbar": {
             "outlinewidth": 0,
             "ticks": ""
            },
            "colorscale": [
             [
              0,
              "#0d0887"
             ],
             [
              0.1111111111111111,
              "#46039f"
             ],
             [
              0.2222222222222222,
              "#7201a8"
             ],
             [
              0.3333333333333333,
              "#9c179e"
             ],
             [
              0.4444444444444444,
              "#bd3786"
             ],
             [
              0.5555555555555556,
              "#d8576b"
             ],
             [
              0.6666666666666666,
              "#ed7953"
             ],
             [
              0.7777777777777778,
              "#fb9f3a"
             ],
             [
              0.8888888888888888,
              "#fdca26"
             ],
             [
              1,
              "#f0f921"
             ]
            ],
            "type": "surface"
           }
          ],
          "table": [
           {
            "cells": {
             "fill": {
              "color": "#EBF0F8"
             },
             "line": {
              "color": "white"
             }
            },
            "header": {
             "fill": {
              "color": "#C8D4E3"
             },
             "line": {
              "color": "white"
             }
            },
            "type": "table"
           }
          ]
         },
         "layout": {
          "annotationdefaults": {
           "arrowcolor": "#2a3f5f",
           "arrowhead": 0,
           "arrowwidth": 1
          },
          "autotypenumbers": "strict",
          "coloraxis": {
           "colorbar": {
            "outlinewidth": 0,
            "ticks": ""
           }
          },
          "colorscale": {
           "diverging": [
            [
             0,
             "#8e0152"
            ],
            [
             0.1,
             "#c51b7d"
            ],
            [
             0.2,
             "#de77ae"
            ],
            [
             0.3,
             "#f1b6da"
            ],
            [
             0.4,
             "#fde0ef"
            ],
            [
             0.5,
             "#f7f7f7"
            ],
            [
             0.6,
             "#e6f5d0"
            ],
            [
             0.7,
             "#b8e186"
            ],
            [
             0.8,
             "#7fbc41"
            ],
            [
             0.9,
             "#4d9221"
            ],
            [
             1,
             "#276419"
            ]
           ],
           "sequential": [
            [
             0,
             "#0d0887"
            ],
            [
             0.1111111111111111,
             "#46039f"
            ],
            [
             0.2222222222222222,
             "#7201a8"
            ],
            [
             0.3333333333333333,
             "#9c179e"
            ],
            [
             0.4444444444444444,
             "#bd3786"
            ],
            [
             0.5555555555555556,
             "#d8576b"
            ],
            [
             0.6666666666666666,
             "#ed7953"
            ],
            [
             0.7777777777777778,
             "#fb9f3a"
            ],
            [
             0.8888888888888888,
             "#fdca26"
            ],
            [
             1,
             "#f0f921"
            ]
           ],
           "sequentialminus": [
            [
             0,
             "#0d0887"
            ],
            [
             0.1111111111111111,
             "#46039f"
            ],
            [
             0.2222222222222222,
             "#7201a8"
            ],
            [
             0.3333333333333333,
             "#9c179e"
            ],
            [
             0.4444444444444444,
             "#bd3786"
            ],
            [
             0.5555555555555556,
             "#d8576b"
            ],
            [
             0.6666666666666666,
             "#ed7953"
            ],
            [
             0.7777777777777778,
             "#fb9f3a"
            ],
            [
             0.8888888888888888,
             "#fdca26"
            ],
            [
             1,
             "#f0f921"
            ]
           ]
          },
          "colorway": [
           "#636efa",
           "#EF553B",
           "#00cc96",
           "#ab63fa",
           "#FFA15A",
           "#19d3f3",
           "#FF6692",
           "#B6E880",
           "#FF97FF",
           "#FECB52"
          ],
          "font": {
           "color": "#2a3f5f"
          },
          "geo": {
           "bgcolor": "white",
           "lakecolor": "white",
           "landcolor": "#E5ECF6",
           "showlakes": true,
           "showland": true,
           "subunitcolor": "white"
          },
          "hoverlabel": {
           "align": "left"
          },
          "hovermode": "closest",
          "mapbox": {
           "style": "light"
          },
          "paper_bgcolor": "white",
          "plot_bgcolor": "#E5ECF6",
          "polar": {
           "angularaxis": {
            "gridcolor": "white",
            "linecolor": "white",
            "ticks": ""
           },
           "bgcolor": "#E5ECF6",
           "radialaxis": {
            "gridcolor": "white",
            "linecolor": "white",
            "ticks": ""
           }
          },
          "scene": {
           "xaxis": {
            "backgroundcolor": "#E5ECF6",
            "gridcolor": "white",
            "gridwidth": 2,
            "linecolor": "white",
            "showbackground": true,
            "ticks": "",
            "zerolinecolor": "white"
           },
           "yaxis": {
            "backgroundcolor": "#E5ECF6",
            "gridcolor": "white",
            "gridwidth": 2,
            "linecolor": "white",
            "showbackground": true,
            "ticks": "",
            "zerolinecolor": "white"
           },
           "zaxis": {
            "backgroundcolor": "#E5ECF6",
            "gridcolor": "white",
            "gridwidth": 2,
            "linecolor": "white",
            "showbackground": true,
            "ticks": "",
            "zerolinecolor": "white"
           }
          },
          "shapedefaults": {
           "line": {
            "color": "#2a3f5f"
           }
          },
          "ternary": {
           "aaxis": {
            "gridcolor": "white",
            "linecolor": "white",
            "ticks": ""
           },
           "baxis": {
            "gridcolor": "white",
            "linecolor": "white",
            "ticks": ""
           },
           "bgcolor": "#E5ECF6",
           "caxis": {
            "gridcolor": "white",
            "linecolor": "white",
            "ticks": ""
           }
          },
          "title": {
           "x": 0.05
          },
          "xaxis": {
           "automargin": true,
           "gridcolor": "white",
           "linecolor": "white",
           "ticks": "",
           "title": {
            "standoff": 15
           },
           "zerolinecolor": "white",
           "zerolinewidth": 2
          },
          "yaxis": {
           "automargin": true,
           "gridcolor": "white",
           "linecolor": "white",
           "ticks": "",
           "title": {
            "standoff": 15
           },
           "zerolinecolor": "white",
           "zerolinewidth": 2
          }
         }
        },
        "title": {
         "text": "Distribution of IMDB Ratings"
        },
        "xaxis": {
         "anchor": "y",
         "domain": [
          0,
          1
         ],
         "title": {
          "text": "IMDB_Rating"
         }
        },
        "yaxis": {
         "anchor": "x",
         "domain": [
          0,
          1
         ],
         "title": {
          "text": "count"
         }
        }
       }
      },
      "image/png": "[encoded data removed]"
     },
     "metadata": {},
     "output_type": "display_data"
    }
   ],
   "source": [
    "fig = px.histogram(df, x='IMDB_Rating', nbins=20, title='Distribution of IMDB Ratings')\n",
    "fig.show()"
   ]
  },
  {
   "cell_type": "code",
   "execution_count": 4,
   "id": "5c046017-e90e-486e-98bb-4bcf3ee0c49f",
   "metadata": {},
   "outputs": [
    {
     "data": {
      "application/vnd.plotly.v1+json": {
       "config": {
        "plotlyServerURL": "https://plot.ly"
       },
       "data": [
        {
         "bingroup": "x",
         "hovertemplate": "IMDB_Rating=%{x}<br>count=%{y}<extra></extra>",
         "legendgroup": "",
         "marker": {
          "color": "#636efa",
          "pattern": {
           "shape": ""
          }
         },
         "name": "",
         "nbinsx": 20,
         "orientation": "v",
         "showlegend": false,
         "type": "histogram",
         "x": {
          "bdata": "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",
          "dtype": "f8"
         },
         "xaxis": "x",
         "yaxis": "y"
        }
       ],
       "layout": {
        "barmode": "relative",
        "legend": {
         "tracegroupgap": 0
        },
        "template": {
         "data": {
          "bar": [
           {
            "error_x": {
             "color": "#2a3f5f"
            },
            "error_y": {
             "color": "#2a3f5f"
            },
            "marker": {
             "line": {
              "color": "#E5ECF6",
              "width": 0.5
             },
             "pattern": {
              "fillmode": "overlay",
              "size": 10,
              "solidity": 0.2
             }
            },
            "type": "bar"
           }
          ],
          "barpolar": [
           {
            "marker": {
             "line": {
              "color": "#E5ECF6",
              "width": 0.5
             },
             "pattern": {
              "fillmode": "overlay",
              "size": 10,
              "solidity": 0.2
             }
            },
            "type": "barpolar"
           }
          ],
          "carpet": [
           {
            "aaxis": {
             "endlinecolor": "#2a3f5f",
             "gridcolor": "white",
             "linecolor": "white",
             "minorgridcolor": "white",
             "startlinecolor": "#2a3f5f"
            },
            "baxis": {
             "endlinecolor": "#2a3f5f",
             "gridcolor": "white",
             "linecolor": "white",
             "minorgridcolor": "white",
             "startlinecolor": "#2a3f5f"
            },
            "type": "carpet"
           }
          ],
          "choropleth": [
           {
            "colorbar": {
             "outlinewidth": 0,
             "ticks": ""
            },
            "type": "choropleth"
           }
          ],
          "contour": [
           {
            "colorbar": {
             "outlinewidth": 0,
             "ticks": ""
            },
            "colorscale": [
             [
              0,
              "#0d0887"
             ],
             [
              0.1111111111111111,
              "#46039f"
             ],
             [
              0.2222222222222222,
              "#7201a8"
             ],
             [
              0.3333333333333333,
              "#9c179e"
             ],
             [
              0.4444444444444444,
              "#bd3786"
             ],
             [
              0.5555555555555556,
              "#d8576b"
             ],
             [
              0.6666666666666666,
              "#ed7953"
             ],
             [
              0.7777777777777778,
              "#fb9f3a"
             ],
             [
              0.8888888888888888,
              "#fdca26"
             ],
             [
              1,
              "#f0f921"
             ]
            ],
            "type": "contour"
           }
          ],
          "contourcarpet": [
           {
            "colorbar": {
             "outlinewidth": 0,
             "ticks": ""
            },
            "type": "contourcarpet"
           }
          ],
          "heatmap": [
           {
            "colorbar": {
             "outlinewidth": 0,
             "ticks": ""
            },
            "colorscale": [
             [
              0,
              "#0d0887"
             ],
             [
              0.1111111111111111,
              "#46039f"
             ],
             [
              0.2222222222222222,
              "#7201a8"
             ],
             [
              0.3333333333333333,
              "#9c179e"
             ],
             [
              0.4444444444444444,
              "#bd3786"
             ],
             [
              0.5555555555555556,
              "#d8576b"
             ],
             [
              0.6666666666666666,
              "#ed7953"
             ],
             [
              0.7777777777777778,
              "#fb9f3a"
             ],
             [
              0.8888888888888888,
              "#fdca26"
             ],
             [
              1,
              "#f0f921"
             ]
            ],
            "type": "heatmap"
           }
          ],
          "histogram": [
           {
            "marker": {
             "pattern": {
              "fillmode": "overlay",
              "size": 10,
              "solidity": 0.2
             }
            },
            "type": "histogram"
           }
          ],
          "histogram2d": [
           {
            "colorbar": {
             "outlinewidth": 0,
             "ticks": ""
            },
            "colorscale": [
             [
              0,
              "#0d0887"
             ],
             [
              0.1111111111111111,
              "#46039f"
             ],
             [
              0.2222222222222222,
              "#7201a8"
             ],
             [
              0.3333333333333333,
              "#9c179e"
             ],
             [
              0.4444444444444444,
              "#bd3786"
             ],
             [
              0.5555555555555556,
              "#d8576b"
             ],
             [
              0.6666666666666666,
              "#ed7953"
             ],
             [
              0.7777777777777778,
              "#fb9f3a"
             ],
             [
              0.8888888888888888,
              "#fdca26"
             ],
             [
              1,
              "#f0f921"
             ]
            ],
            "type": "histogram2d"
           }
          ],
          "histogram2dcontour": [
           {
            "colorbar": {
             "outlinewidth": 0,
             "ticks": ""
            },
            "colorscale": [
             [
              0,
              "#0d0887"
             ],
             [
              0.1111111111111111,
              "#46039f"
             ],
             [
              0.2222222222222222,
              "#7201a8"
             ],
             [
              0.3333333333333333,
              "#9c179e"
             ],
             [
              0.4444444444444444,
              "#bd3786"
             ],
             [
              0.5555555555555556,
              "#d8576b"
             ],
             [
              0.6666666666666666,
              "#ed7953"
             ],
             [
              0.7777777777777778,
              "#fb9f3a"
             ],
             [
              0.8888888888888888,
              "#fdca26"
             ],
             [
              1,
              "#f0f921"
             ]
            ],
            "type": "histogram2dcontour"
           }
          ],
          "mesh3d": [
           {
            "colorbar": {
             "outlinewidth": 0,
             "ticks": ""
            },
            "type": "mesh3d"
           }
          ],
          "parcoords": [
           {
            "line": {
             "colorbar": {
              "outlinewidth": 0,
              "ticks": ""
             }
            },
            "type": "parcoords"
           }
          ],
          "pie": [
           {
            "automargin": true,
            "type": "pie"
           }
          ],
          "scatter": [
           {
            "fillpattern": {
             "fillmode": "overlay",
             "size": 10,
             "solidity": 0.2
            },
            "type": "scatter"
           }
          ],
          "scatter3d": [
           {
            "line": {
             "colorbar": {
              "outlinewidth": 0,
              "ticks": ""
             }
            },
            "marker": {
             "colorbar": {
              "outlinewidth": 0,
              "ticks": ""
             }
            },
            "type": "scatter3d"
           }
          ],
          "scattercarpet": [
           {
            "marker": {
             "colorbar": {
              "outlinewidth": 0,
              "ticks": ""
             }
            },
            "type": "scattercarpet"
           }
          ],
          "scattergeo": [
           {
            "marker": {
             "colorbar": {
              "outlinewidth": 0,
              "ticks": ""
             }
            },
            "type": "scattergeo"
           }
          ],
          "scattergl": [
           {
            "marker": {
             "colorbar": {
              "outlinewidth": 0,
              "ticks": ""
             }
            },
            "type": "scattergl"
           }
          ],
          "scattermap": [
           {
            "marker": {
             "colorbar": {
              "outlinewidth": 0,
              "ticks": ""
             }
            },
            "type": "scattermap"
           }
          ],
          "scattermapbox": [
           {
            "marker": {
             "colorbar": {
              "outlinewidth": 0,
              "ticks": ""
             }
            },
            "type": "scattermapbox"
           }
          ],
          "scatterpolar": [
           {
            "marker": {
             "colorbar": {
              "outlinewidth": 0,
              "ticks": ""
             }
            },
            "type": "scatterpolar"
           }
          ],
          "scatterpolargl": [
           {
            "marker": {
             "colorbar": {
              "outlinewidth": 0,
              "ticks": ""
             }
            },
            "type": "scatterpolargl"
           }
          ],
          "scatterternary": [
           {
            "marker": {
             "colorbar": {
              "outlinewidth": 0,
              "ticks": ""
             }
            },
            "type": "scatterternary"
           }
          ],
          "surface": [
           {
            "colorbar": {
             "outlinewidth": 0,
             "ticks": ""
            },
            "colorscale": [
             [
              0,
              "#0d0887"
             ],
             [
              0.1111111111111111,
              "#46039f"
             ],
             [
              0.2222222222222222,
              "#7201a8"
             ],
             [
              0.3333333333333333,
              "#9c179e"
             ],
             [
              0.4444444444444444,
              "#bd3786"
             ],
             [
              0.5555555555555556,
              "#d8576b"
             ],
             [
              0.6666666666666666,
              "#ed7953"
             ],
             [
              0.7777777777777778,
              "#fb9f3a"
             ],
             [
              0.8888888888888888,
              "#fdca26"
             ],
             [
              1,
              "#f0f921"
             ]
            ],
            "type": "surface"
           }
          ],
          "table": [
           {
            "cells": {
             "fill": {
              "color": "#EBF0F8"
             },
             "line": {
              "color": "white"
             }
            },
            "header": {
             "fill": {
              "color": "#C8D4E3"
             },
             "line": {
              "color": "white"
             }
            },
            "type": "table"
           }
          ]
         },
         "layout": {
          "annotationdefaults": {
           "arrowcolor": "#2a3f5f",
           "arrowhead": 0,
           "arrowwidth": 1
          },
          "autotypenumbers": "strict",
          "coloraxis": {
           "colorbar": {
            "outlinewidth": 0,
            "ticks": ""
           }
          },
          "colorscale": {
           "diverging": [
            [
             0,
             "#8e0152"
            ],
            [
             0.1,
             "#c51b7d"
            ],
            [
             0.2,
             "#de77ae"
            ],
            [
             0.3,
             "#f1b6da"
            ],
            [
             0.4,
             "#fde0ef"
            ],
            [
             0.5,
             "#f7f7f7"
            ],
            [
             0.6,
             "#e6f5d0"
            ],
            [
             0.7,
             "#b8e186"
            ],
            [
             0.8,
             "#7fbc41"
            ],
            [
             0.9,
             "#4d9221"
            ],
            [
             1,
             "#276419"
            ]
           ],
           "sequential": [
            [
             0,
             "#0d0887"
            ],
            [
             0.1111111111111111,
             "#46039f"
            ],
            [
             0.2222222222222222,
             "#7201a8"
            ],
            [
             0.3333333333333333,
             "#9c179e"
            ],
            [
             0.4444444444444444,
             "#bd3786"
            ],
            [
             0.5555555555555556,
             "#d8576b"
            ],
            [
             0.6666666666666666,
             "#ed7953"
            ],
            [
             0.7777777777777778,
             "#fb9f3a"
            ],
            [
             0.8888888888888888,
             "#fdca26"
            ],
            [
             1,
             "#f0f921"
            ]
           ],
           "sequentialminus": [
            [
             0,
             "#0d0887"
            ],
            [
             0.1111111111111111,
             "#46039f"
            ],
            [
             0.2222222222222222,
             "#7201a8"
            ],
            [
             0.3333333333333333,
             "#9c179e"
            ],
            [
             0.4444444444444444,
             "#bd3786"
            ],
            [
             0.5555555555555556,
             "#d8576b"
            ],
            [
             0.6666666666666666,
             "#ed7953"
            ],
            [
             0.7777777777777778,
             "#fb9f3a"
            ],
            [
             0.8888888888888888,
             "#fdca26"
            ],
            [
             1,
             "#f0f921"
            ]
           ]
          },
          "colorway": [
           "#636efa",
           "#EF553B",
           "#00cc96",
           "#ab63fa",
           "#FFA15A",
           "#19d3f3",
           "#FF6692",
           "#B6E880",
           "#FF97FF",
           "#FECB52"
          ],
          "font": {
           "color": "#2a3f5f"
          },
          "geo": {
           "bgcolor": "white",
           "lakecolor": "white",
           "landcolor": "#E5ECF6",
           "showlakes": true,
           "showland": true,
           "subunitcolor": "white"
          },
          "hoverlabel": {
           "align": "left"
          },
          "hovermode": "closest",
          "mapbox": {
           "style": "light"
          },
          "paper_bgcolor": "white",
          "plot_bgcolor": "#E5ECF6",
          "polar": {
           "angularaxis": {
            "gridcolor": "white",
            "linecolor": "white",
            "ticks": ""
           },
           "bgcolor": "#E5ECF6",
           "radialaxis": {
            "gridcolor": "white",
            "linecolor": "white",
            "ticks": ""
           }
          },
          "scene": {
           "xaxis": {
            "backgroundcolor": "#E5ECF6",
            "gridcolor": "white",
            "gridwidth": 2,
            "linecolor": "white",
            "showbackground": true,
            "ticks": "",
            "zerolinecolor": "white"
           },
           "yaxis": {
            "backgroundcolor": "#E5ECF6",
            "gridcolor": "white",
            "gridwidth": 2,
            "linecolor": "white",
            "showbackground": true,
            "ticks": "",
            "zerolinecolor": "white"
           },
           "zaxis": {
            "backgroundcolor": "#E5ECF6",
            "gridcolor": "white",
            "gridwidth": 2,
            "linecolor": "white",
            "showbackground": true,
            "ticks": "",
            "zerolinecolor": "white"
           }
          },
          "shapedefaults": {
           "line": {
            "color": "#2a3f5f"
           }
          },
          "ternary": {
           "aaxis": {
            "gridcolor": "white",
            "linecolor": "white",
            "ticks": ""
           },
           "baxis": {
            "gridcolor": "white",
            "linecolor": "white",
            "ticks": ""
           },
           "bgcolor": "#E5ECF6",
           "caxis": {
            "gridcolor": "white",
            "linecolor": "white",
            "ticks": ""
           }
          },
          "title": {
           "x": 0.05
          },
          "xaxis": {
           "automargin": true,
           "gridcolor": "white",
           "linecolor": "white",
           "ticks": "",
           "title": {
            "standoff": 15
           },
           "zerolinecolor": "white",
           "zerolinewidth": 2
          },
          "yaxis": {
           "automargin": true,
           "gridcolor": "white",
           "linecolor": "white",
           "ticks": "",
           "title": {
            "standoff": 15
           },
           "zerolinecolor": "white",
           "zerolinewidth": 2
          }
         }
        },
        "title": {
         "text": "영화 평점 분포"
        },
        "xaxis": {
         "anchor": "y",
         "domain": [
          0,
          1
         ],
         "title": {
          "text": "IMDB_Rating"
         }
        },
        "yaxis": {
         "anchor": "x",
         "domain": [
          0,
          1
         ],
         "title": {
          "text": "count"
         }
        }
       }
      },
      "image/png": "[encoded data removed]"
     },
     "metadata": {},
     "output_type": "display_data"
    }
   ],
   "source": [
    "fig = px.histogram(df, x='IMDB_Rating', nbins=20, title='영화 평점 분포')\n",
    "fig.show()"
   ]
  },
  {
   "cell_type": "code",
   "execution_count": null,
   "id": "a84ec367-b051-48c1-be56-095d8be3154b",
   "metadata": {},
   "outputs": [],
   "source": []
  }
 ],
 "metadata": {
  "kernelspec": {
   "display_name": "Python [conda env:base] *",
   "language": "python",
   "name": "conda-base-py"
  },
  "language_info": {
   "codemirror_mode": {
    "name": "ipython",
    "version": 3
   },
   "file_extension": ".py",
   "mimetype": "text/x-python",
   "name": "python",
   "nbconvert_exporter": "python",
   "pygments_lexer": "ipython3",
   "version": "3.13.5"
  }
 },
 "nbformat": 4,
 "nbformat_minor": 5
}
