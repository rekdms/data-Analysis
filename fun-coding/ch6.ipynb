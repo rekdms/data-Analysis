{
 "cells": [
  {
   "cell_type": "code",
   "execution_count": 1,
   "id": "6f35ac24-c120-4cd1-b3a5-ed1bc46d4ebd",
   "metadata": {},
   "outputs": [],
   "source": [
    "import pandas as pd\n",
    "df = pd.read_csv('aug_train.csv')"
   ]
  },
  {
   "cell_type": "code",
   "execution_count": 2,
   "id": "e12031e7-44b5-4ede-8e57-61d4003662e4",
   "metadata": {},
   "outputs": [
    {
     "name": "stdout",
     "output_type": "stream",
     "text": [
      "=== 각 열의 결측치 개수 ===\n",
      "enrollee_id                  0\n",
      "city                         0\n",
      "city_development_index       0\n",
      "gender                    4508\n",
      "relevent_experience          0\n",
      "enrolled_university        386\n",
      "education_level            460\n",
      "major_discipline          2813\n",
      "experience                  65\n",
      "company_size              5938\n",
      "company_type              6140\n",
      "last_new_job               423\n",
      "training_hours               0\n",
      "target                       0\n",
      "dtype: int64\n"
     ]
    }
   ],
   "source": [
    "print(\"=== 각 열의 결측치 개수 ===\")\n",
    "print(df.isnull().sum())"
   ]
  },
  {
   "cell_type": "code",
   "execution_count": 3,
   "id": "370fc923-0c42-4512-b59c-edd201d38424",
   "metadata": {},
   "outputs": [
    {
     "name": "stdout",
     "output_type": "stream",
     "text": [
      "       enrollee_id   city  city_development_index  gender  \\\n",
      "0            False  False                   False   False   \n",
      "1            False  False                   False   False   \n",
      "2            False  False                   False    True   \n",
      "3            False  False                   False    True   \n",
      "4            False  False                   False   False   \n",
      "...            ...    ...                     ...     ...   \n",
      "19153        False  False                   False   False   \n",
      "19154        False  False                   False   False   \n",
      "19155        False  False                   False   False   \n",
      "19156        False  False                   False   False   \n",
      "19157        False  False                   False    True   \n",
      "\n",
      "       relevent_experience  enrolled_university  education_level  \\\n",
      "0                    False                False            False   \n",
      "1                    False                False            False   \n",
      "2                    False                False            False   \n",
      "3                    False                 True            False   \n",
      "4                    False                False            False   \n",
      "...                    ...                  ...              ...   \n",
      "19153                False                False            False   \n",
      "19154                False                False            False   \n",
      "19155                False                False            False   \n",
      "19156                False                False            False   \n",
      "19157                False                False            False   \n",
      "\n",
      "       major_discipline  experience  company_size  company_type  last_new_job  \\\n",
      "0                 False       False          True          True         False   \n",
      "1                 False       False         False         False         False   \n",
      "2                 False       False          True          True         False   \n",
      "3                 False       False          True         False         False   \n",
      "4                 False       False         False         False         False   \n",
      "...                 ...         ...           ...           ...           ...   \n",
      "19153             False       False          True          True         False   \n",
      "19154             False       False          True          True         False   \n",
      "19155             False       False         False         False         False   \n",
      "19156              True       False         False         False         False   \n",
      "19157              True       False          True          True         False   \n",
      "\n",
      "       training_hours  target  \n",
      "0               False   False  \n",
      "1               False   False  \n",
      "2               False   False  \n",
      "3               False   False  \n",
      "4               False   False  \n",
      "...               ...     ...  \n",
      "19153           False   False  \n",
      "19154           False   False  \n",
      "19155           False   False  \n",
      "19156           False   False  \n",
      "19157           False   False  \n",
      "\n",
      "[19158 rows x 14 columns]\n",
      "enrollee_id                  0\n",
      "city                         0\n",
      "city_development_index       0\n",
      "gender                    4508\n",
      "relevent_experience          0\n",
      "enrolled_university        386\n",
      "education_level            460\n",
      "major_discipline          2813\n",
      "experience                  65\n",
      "company_size              5938\n",
      "company_type              6140\n",
      "last_new_job               423\n",
      "training_hours               0\n",
      "target                       0\n",
      "dtype: int64\n"
     ]
    }
   ],
   "source": [
    "m_value = df.isnull()\n",
    "print(m_value)\n",
    "print(m_value.sum())"
   ]
  },
  {
   "cell_type": "code",
   "execution_count": 4,
   "id": "98f894f3-2bf8-40b9-9970-2cf683454939",
   "metadata": {},
   "outputs": [
    {
     "name": "stdout",
     "output_type": "stream",
     "text": [
      "성별 정보 결측치 수: 4508\n"
     ]
    }
   ],
   "source": [
    "missing_gender = df['gender'].isnull().sum()\n",
    "print(\"성별 정보 결측치 수:\" , missing_gender)"
   ]
  },
  {
   "cell_type": "code",
   "execution_count": 6,
   "id": "000788c7-34e3-46dd-be35-5214b28e7476",
   "metadata": {},
   "outputs": [
    {
     "name": "stdout",
     "output_type": "stream",
     "text": [
      "근무 경력 결측치 수: 65\n"
     ]
    }
   ],
   "source": [
    "missing_experience = df['experience'].isna().sum()\n",
    "print(\"근무 경력 결측치 수:\", missing_experience)"
   ]
  },
  {
   "cell_type": "code",
   "execution_count": 9,
   "id": "096b09c8-6aab-4423-ad75-81ccd9cfb208",
   "metadata": {},
   "outputs": [
    {
     "name": "stdout",
     "output_type": "stream",
     "text": [
      "성별과 교육 수준이 모두 결측치인 지원자 수: 201\n"
     ]
    }
   ],
   "source": [
    "both_missing = df[df['gender'].isnull() & df['education_level'].isnull()]\n",
    "print(\"성별과 교육 수준이 모두 결측치인 지원자 수:\", len(both_missing))"
   ]
  },
  {
   "cell_type": "code",
   "execution_count": 10,
   "id": "5a4f2e34-3021-46dd-9525-f5cddccdf777",
   "metadata": {},
   "outputs": [
    {
     "name": "stdout",
     "output_type": "stream",
     "text": [
      "원본 데이터프레임 크키: (19158, 14)\n",
      "결측치 제거 후 데이터프레임 크키: (8955, 14)\n"
     ]
    }
   ],
   "source": [
    "print(\"원본 데이터프레임 크키:\", df.shape)\n",
    "df_dropna = df.dropna()\n",
    "print(\"결측치 제거 후 데이터프레임 크키:\", df_dropna.shape)"
   ]
  },
  {
   "cell_type": "code",
   "execution_count": 12,
   "id": "4b761d69-7c9f-4d2c-bc07-51ab9e70653b",
   "metadata": {},
   "outputs": [
    {
     "name": "stdout",
     "output_type": "stream",
     "text": [
      "임계값 적용 후 데이터프레임 크기: (16327, 14)\n"
     ]
    }
   ],
   "source": [
    "df_thresh = df.dropna(thresh=12)\n",
    "print(\"임계값 적용 후 데이터프레임 크기:\", df_thresh.shape)"
   ]
  },
  {
   "cell_type": "code",
   "execution_count": 13,
   "id": "2b7344d9-dd93-42cb-a4d5-b007ce9d9e61",
   "metadata": {},
   "outputs": [
    {
     "name": "stdout",
     "output_type": "stream",
     "text": [
      "원본 데이터프레임의 행 개수: 19158\n",
      "모든 값이 결측치인 행 제거 후 행 개수: 19158\n"
     ]
    }
   ],
   "source": [
    "df_dropna_rows = df.dropna(axis=0, how='all')\n",
    "print(\"원본 데이터프레임의 행 개수:\", df.shape[0])\n",
    "print(\"모든 값이 결측치인 행 제거 후 행 개수:\", df_dropna_rows.shape[0])"
   ]
  },
  {
   "cell_type": "code",
   "execution_count": 14,
   "id": "49e6ed01-53b0-42f6-b044-7f27aa0b0dcf",
   "metadata": {},
   "outputs": [
    {
     "name": "stdout",
     "output_type": "stream",
     "text": [
      "원본 데이터프레임의 행 개수: 14\n",
      "모든 값이 결측치인 행 제거 후 행 개수: 14\n"
     ]
    }
   ],
   "source": [
    "df_dropna_columns = df.dropna(axis=1, how='all')\n",
    "print(\"원본 데이터프레임의 열 개수:\", df.shape[1])\n",
    "print(\"모든 값이 결측치인 열 제거 후 열 개수:\", df_dropna_rows.shape[1])"
   ]
  },
  {
   "cell_type": "code",
   "execution_count": 15,
   "id": "9b7b8f6b-120d-41de-8024-f941252848f9",
   "metadata": {},
   "outputs": [
    {
     "name": "stdout",
     "output_type": "stream",
     "text": [
      "원본 데이터프레임의 행 개수: 19158\n",
      "결측치가 있는 행 제거 후 행 개수: 8955\n",
      "제거된 행의 수: 10203\n"
     ]
    }
   ],
   "source": [
    "df_dropna_any = df.dropna(axis=0, how='any')\n",
    "print(\"원본 데이터프레임의 행 개수:\", df.shape[0])\n",
    "print(\"결측치가 있는 행 제거 후 행 개수:\", df_dropna_any.shape[0])\n",
    "print(\"제거된 행의 수:\", df.shape[0] - df_dropna_any.shape[0])"
   ]
  },
  {
   "cell_type": "code",
   "execution_count": 17,
   "id": "4a7b98bf-09a1-4aab-a81d-cba4a2d4dfd9",
   "metadata": {},
   "outputs": [
    {
     "name": "stdout",
     "output_type": "stream",
     "text": [
      "company_type 열의 결측치 비율: 32.05%\n",
      "열 제거 후 데이터프레임 크기:  (19158, 13)\n"
     ]
    }
   ],
   "source": [
    "missing_ratio = df['company_type'].isnull().sum() / len(df) * 100\n",
    "print(\"company_type 열의 결측치 비율: {:.2f}%\".format(missing_ratio))\n",
    "df_drop_company_type = df.drop(columns=['company_type'])\n",
    "print(\"열 제거 후 데이터프레임 크기: \", df_drop_company_type.shape)"
   ]
  },
  {
   "cell_type": "code",
   "execution_count": 19,
   "id": "1a135193-d3b2-4a7c-9f07-a6dff0e41386",
   "metadata": {},
   "outputs": [
    {
     "name": "stdout",
     "output_type": "stream",
     "text": [
      "원본 데이터프레임:\n",
      "     A    B\n",
      "0  1.0  NaN\n",
      "1  NaN  2.0\n",
      "2  3.0  NaN\n",
      "3  NaN  4.0\n",
      "4  5.0  NaN\n"
     ]
    }
   ],
   "source": [
    "df = pd.DataFrame({\n",
    "    'A': [1, None, 3, None, 5],\n",
    "    'B': [None, 2, None, 4, None]\n",
    "})\n",
    "print(\"원본 데이터프레임:\")\n",
    "print(df)"
   ]
  },
  {
   "cell_type": "code",
   "execution_count": 20,
   "id": "a8a8c3ce-96a4-491b-8108-012dc0f5afe5",
   "metadata": {},
   "outputs": [
    {
     "name": "stdout",
     "output_type": "stream",
     "text": [
      "결측치를 0으로 대체한 데이터프레임:\n",
      "     A    B\n",
      "0  1.0  0.0\n",
      "1  0.0  2.0\n",
      "2  3.0  0.0\n",
      "3  0.0  4.0\n",
      "4  5.0  0.0\n"
     ]
    }
   ],
   "source": [
    "df_filled = df.fillna(0)\n",
    "print(\"결측치를 0으로 대체한 데이터프레임:\")\n",
    "print(df_filled)"
   ]
  },
  {
   "cell_type": "code",
   "execution_count": 21,
   "id": "16029ab7-6249-4969-bd91-e49c6c564d55",
   "metadata": {},
   "outputs": [
    {
     "name": "stdout",
     "output_type": "stream",
     "text": [
      "열마다 다른 값으로 결측치를 대체한 데이터프레임:\n",
      "     A    B\n",
      "0  1.0  3.0\n",
      "1  3.0  2.0\n",
      "2  3.0  3.0\n",
      "3  3.0  4.0\n",
      "4  5.0  3.0\n"
     ]
    }
   ],
   "source": [
    "values = {'A': df['A'].mean(), 'B': df['B'].median()}\n",
    "df_filled_columns = df.fillna(value=values)\n",
    "print(\"열마다 다른 값으로 결측치를 대체한 데이터프레임:\")\n",
    "print(df_filled_columns)"
   ]
  },
  {
   "cell_type": "code",
   "execution_count": 22,
   "id": "b1eaf41b-efd3-453c-994a-6ed02284ff9b",
   "metadata": {},
   "outputs": [
    {
     "name": "stdout",
     "output_type": "stream",
     "text": [
      "대체 횟수를 1로 지정하고 열마다 다른 값으로 결측치를 대체한 데이터프레임:\n",
      "     A    B\n",
      "0  1.0  3.0\n",
      "1  3.0  2.0\n",
      "2  3.0  NaN\n",
      "3  NaN  4.0\n",
      "4  5.0  NaN\n"
     ]
    }
   ],
   "source": [
    "values = {'A': df['A'].mean(), 'B': df['B'].median()}\n",
    "df_filled_columns_limit = df.fillna(value=values, limit=1)\n",
    "print(\"대체 횟수를 1로 지정하고 열마다 다른 값으로 결측치를 대체한 데이터프레임:\")\n",
    "print(df_filled_columns_limit)"
   ]
  },
  {
   "cell_type": "code",
   "execution_count": 23,
   "id": "60beba4b-3e99-4fac-99c0-7c331dbdb7cd",
   "metadata": {},
   "outputs": [
    {
     "name": "stdout",
     "output_type": "stream",
     "text": [
      "원본 데이터프레임을 수정해 결측치를 0으로 대체한 결과:\n",
      "     A    B\n",
      "0  1.0  0.0\n",
      "1  0.0  2.0\n",
      "2  3.0  0.0\n",
      "3  0.0  4.0\n",
      "4  5.0  0.0\n"
     ]
    }
   ],
   "source": [
    "df.fillna(0, inplace=True)\n",
    "print(\"원본 데이터프레임을 수정해 결측치를 0으로 대체한 결과:\")\n",
    "print(df)"
   ]
  },
  {
   "cell_type": "code",
   "execution_count": 24,
   "id": "6c38e600-2818-4403-b74f-4ff71f832140",
   "metadata": {},
   "outputs": [
    {
     "name": "stdout",
     "output_type": "stream",
     "text": [
      "gender 열 결측치를 Not Specified로 대체한 데이터프레임:\n",
      "gender\n",
      "Male             13221\n",
      "Not Specified     4508\n",
      "Female            1238\n",
      "Other              191\n",
      "Name: count, dtype: int64\n"
     ]
    }
   ],
   "source": [
    "import pandas as pd\n",
    "df = pd.read_csv('aug_train.csv')\n",
    "df['gender'] = df['gender'].fillna('Not Specified')\n",
    "print(\"gender 열 결측치를 Not Specified로 대체한 데이터프레임:\")\n",
    "print(df['gender'].value_counts())"
   ]
  },
  {
   "cell_type": "code",
   "execution_count": 25,
   "id": "2b13dae5-2e88-449f-9f9e-ec63742ee751",
   "metadata": {},
   "outputs": [
    {
     "name": "stdout",
     "output_type": "stream",
     "text": [
      "education_level\n",
      "Graduate          11598\n",
      "Masters            4361\n",
      "High School        2017\n",
      "Unknown             460\n",
      "Phd                 414\n",
      "Primary School      308\n",
      "Name: count, dtype: int64\n"
     ]
    }
   ],
   "source": [
    "df['education_level'] = df['education_level'].fillna('Unknown')\n",
    "print(df['education_level'].value_counts())"
   ]
  },
  {
   "cell_type": "code",
   "execution_count": 26,
   "id": "8e5ec204-0ab2-4371-af0f-c9d287dfb123",
   "metadata": {},
   "outputs": [
    {
     "name": "stdout",
     "output_type": "stream",
     "text": [
      "experience 열의 결측치를 0으로 대체한 데이터프레임:\n",
      "experience\n",
      ">20    3286\n",
      "5      1430\n",
      "4      1403\n",
      "3      1354\n",
      "6      1216\n",
      "2      1127\n",
      "7      1028\n",
      "10      985\n",
      "9       980\n",
      "8       802\n",
      "15      686\n",
      "11      664\n",
      "14      586\n",
      "1       549\n",
      "<1      522\n",
      "16      508\n",
      "12      494\n",
      "13      399\n",
      "17      342\n",
      "19      304\n",
      "18      280\n",
      "20      148\n",
      "0        65\n",
      "Name: count, dtype: int64\n"
     ]
    }
   ],
   "source": [
    "df['experience'] = df['experience'].fillna(0)\n",
    "print(\"experience 열의 결측치를 0으로 대체한 데이터프레임:\")\n",
    "print(df['experience'].value_counts())"
   ]
  },
  {
   "cell_type": "code",
   "execution_count": 8,
   "id": "b1412ba4-56e2-4084-a16c-b8fc63f301b0",
   "metadata": {},
   "outputs": [
    {
     "data": {
      "text/html": [
       "<div>\n",
       "<style scoped>\n",
       "    .dataframe tbody tr th:only-of-type {\n",
       "        vertical-align: middle;\n",
       "    }\n",
       "\n",
       "    .dataframe tbody tr th {\n",
       "        vertical-align: top;\n",
       "    }\n",
       "\n",
       "    .dataframe thead th {\n",
       "        text-align: right;\n",
       "    }\n",
       "</style>\n",
       "<table border=\"1\" class=\"dataframe\">\n",
       "  <thead>\n",
       "    <tr style=\"text-align: right;\">\n",
       "      <th></th>\n",
       "      <th>enrollee_id</th>\n",
       "      <th>city</th>\n",
       "      <th>city_development_index</th>\n",
       "      <th>gender</th>\n",
       "      <th>relevent_experience</th>\n",
       "      <th>enrolled_university</th>\n",
       "      <th>education_level</th>\n",
       "      <th>major_discipline</th>\n",
       "      <th>experience</th>\n",
       "      <th>company_size</th>\n",
       "      <th>company_type</th>\n",
       "      <th>last_new_job</th>\n",
       "      <th>training_hours</th>\n",
       "      <th>target</th>\n",
       "    </tr>\n",
       "  </thead>\n",
       "  <tbody>\n",
       "    <tr>\n",
       "      <th>0</th>\n",
       "      <td>8949</td>\n",
       "      <td>city_103</td>\n",
       "      <td>0.920</td>\n",
       "      <td>Male</td>\n",
       "      <td>Has relevent experience</td>\n",
       "      <td>no_enrollment</td>\n",
       "      <td>Graduate</td>\n",
       "      <td>STEM</td>\n",
       "      <td>&gt;20</td>\n",
       "      <td>NaN</td>\n",
       "      <td>NaN</td>\n",
       "      <td>1</td>\n",
       "      <td>36</td>\n",
       "      <td>1.0</td>\n",
       "    </tr>\n",
       "    <tr>\n",
       "      <th>1</th>\n",
       "      <td>29725</td>\n",
       "      <td>city_40</td>\n",
       "      <td>0.776</td>\n",
       "      <td>Male</td>\n",
       "      <td>No relevent experience</td>\n",
       "      <td>no_enrollment</td>\n",
       "      <td>Graduate</td>\n",
       "      <td>STEM</td>\n",
       "      <td>15</td>\n",
       "      <td>50-99</td>\n",
       "      <td>Pvt Ltd</td>\n",
       "      <td>&gt;4</td>\n",
       "      <td>47</td>\n",
       "      <td>0.0</td>\n",
       "    </tr>\n",
       "    <tr>\n",
       "      <th>2</th>\n",
       "      <td>11561</td>\n",
       "      <td>city_21</td>\n",
       "      <td>0.624</td>\n",
       "      <td>NaN</td>\n",
       "      <td>No relevent experience</td>\n",
       "      <td>Full time course</td>\n",
       "      <td>Graduate</td>\n",
       "      <td>STEM</td>\n",
       "      <td>5</td>\n",
       "      <td>NaN</td>\n",
       "      <td>NaN</td>\n",
       "      <td>never</td>\n",
       "      <td>83</td>\n",
       "      <td>0.0</td>\n",
       "    </tr>\n",
       "    <tr>\n",
       "      <th>3</th>\n",
       "      <td>33241</td>\n",
       "      <td>city_115</td>\n",
       "      <td>0.789</td>\n",
       "      <td>NaN</td>\n",
       "      <td>No relevent experience</td>\n",
       "      <td>NaN</td>\n",
       "      <td>Graduate</td>\n",
       "      <td>Business Degree</td>\n",
       "      <td>&lt;1</td>\n",
       "      <td>NaN</td>\n",
       "      <td>Pvt Ltd</td>\n",
       "      <td>never</td>\n",
       "      <td>52</td>\n",
       "      <td>1.0</td>\n",
       "    </tr>\n",
       "    <tr>\n",
       "      <th>4</th>\n",
       "      <td>666</td>\n",
       "      <td>city_162</td>\n",
       "      <td>0.767</td>\n",
       "      <td>Male</td>\n",
       "      <td>Has relevent experience</td>\n",
       "      <td>no_enrollment</td>\n",
       "      <td>Masters</td>\n",
       "      <td>STEM</td>\n",
       "      <td>&gt;20</td>\n",
       "      <td>50-99</td>\n",
       "      <td>Funded Startup</td>\n",
       "      <td>4</td>\n",
       "      <td>8</td>\n",
       "      <td>0.0</td>\n",
       "    </tr>\n",
       "  </tbody>\n",
       "</table>\n",
       "</div>"
      ],
      "text/plain": [
       "   enrollee_id      city  city_development_index gender  \\\n",
       "0         8949  city_103                   0.920   Male   \n",
       "1        29725   city_40                   0.776   Male   \n",
       "2        11561   city_21                   0.624    NaN   \n",
       "3        33241  city_115                   0.789    NaN   \n",
       "4          666  city_162                   0.767   Male   \n",
       "\n",
       "       relevent_experience enrolled_university education_level  \\\n",
       "0  Has relevent experience       no_enrollment        Graduate   \n",
       "1   No relevent experience       no_enrollment        Graduate   \n",
       "2   No relevent experience    Full time course        Graduate   \n",
       "3   No relevent experience                 NaN        Graduate   \n",
       "4  Has relevent experience       no_enrollment         Masters   \n",
       "\n",
       "  major_discipline experience company_size    company_type last_new_job  \\\n",
       "0             STEM        >20          NaN             NaN            1   \n",
       "1             STEM         15        50-99         Pvt Ltd           >4   \n",
       "2             STEM          5          NaN             NaN        never   \n",
       "3  Business Degree         <1          NaN         Pvt Ltd        never   \n",
       "4             STEM        >20        50-99  Funded Startup            4   \n",
       "\n",
       "   training_hours  target  \n",
       "0              36     1.0  \n",
       "1              47     0.0  \n",
       "2              83     0.0  \n",
       "3              52     1.0  \n",
       "4               8     0.0  "
      ]
     },
     "execution_count": 8,
     "metadata": {},
     "output_type": "execute_result"
    }
   ],
   "source": [
    "import pandas as pd\n",
    "df = pd.read_csv('aug_train.csv')\n",
    "df.head()"
   ]
  },
  {
   "cell_type": "code",
   "execution_count": 2,
   "id": "76582be3-eae4-451d-8e23-4a136904757c",
   "metadata": {},
   "outputs": [
    {
     "name": "stdout",
     "output_type": "stream",
     "text": [
      "각 열의 데이터 타입:\n",
      "enrollee_id                 int64\n",
      "city                       object\n",
      "city_development_index    float64\n",
      "gender                     object\n",
      "relevent_experience        object\n",
      "enrolled_university        object\n",
      "education_level            object\n",
      "major_discipline           object\n",
      "experience                 object\n",
      "company_size               object\n",
      "company_type               object\n",
      "last_new_job               object\n",
      "training_hours              int64\n",
      "target                    float64\n",
      "dtype: object\n"
     ]
    }
   ],
   "source": [
    "print(\"각 열의 데이터 타입:\")\n",
    "print(df.dtypes)"
   ]
  },
  {
   "cell_type": "code",
   "execution_count": 3,
   "id": "6b21c9ec-2fb1-4ba4-b237-62b858b20104",
   "metadata": {},
   "outputs": [
    {
     "name": "stdout",
     "output_type": "stream",
     "text": [
      "\n",
      "target 열의 데이터 타팁 변환 후 확인:\n",
      "int64\n"
     ]
    },
    {
     "data": {
      "text/html": [
       "<div>\n",
       "<style scoped>\n",
       "    .dataframe tbody tr th:only-of-type {\n",
       "        vertical-align: middle;\n",
       "    }\n",
       "\n",
       "    .dataframe tbody tr th {\n",
       "        vertical-align: top;\n",
       "    }\n",
       "\n",
       "    .dataframe thead th {\n",
       "        text-align: right;\n",
       "    }\n",
       "</style>\n",
       "<table border=\"1\" class=\"dataframe\">\n",
       "  <thead>\n",
       "    <tr style=\"text-align: right;\">\n",
       "      <th></th>\n",
       "      <th>enrollee_id</th>\n",
       "      <th>city</th>\n",
       "      <th>city_development_index</th>\n",
       "      <th>gender</th>\n",
       "      <th>relevent_experience</th>\n",
       "      <th>enrolled_university</th>\n",
       "      <th>education_level</th>\n",
       "      <th>major_discipline</th>\n",
       "      <th>experience</th>\n",
       "      <th>company_size</th>\n",
       "      <th>company_type</th>\n",
       "      <th>last_new_job</th>\n",
       "      <th>training_hours</th>\n",
       "      <th>target</th>\n",
       "    </tr>\n",
       "  </thead>\n",
       "  <tbody>\n",
       "    <tr>\n",
       "      <th>0</th>\n",
       "      <td>8949</td>\n",
       "      <td>city_103</td>\n",
       "      <td>0.920</td>\n",
       "      <td>Male</td>\n",
       "      <td>Has relevent experience</td>\n",
       "      <td>no_enrollment</td>\n",
       "      <td>Graduate</td>\n",
       "      <td>STEM</td>\n",
       "      <td>&gt;20</td>\n",
       "      <td>NaN</td>\n",
       "      <td>NaN</td>\n",
       "      <td>1</td>\n",
       "      <td>36</td>\n",
       "      <td>1</td>\n",
       "    </tr>\n",
       "    <tr>\n",
       "      <th>1</th>\n",
       "      <td>29725</td>\n",
       "      <td>city_40</td>\n",
       "      <td>0.776</td>\n",
       "      <td>Male</td>\n",
       "      <td>No relevent experience</td>\n",
       "      <td>no_enrollment</td>\n",
       "      <td>Graduate</td>\n",
       "      <td>STEM</td>\n",
       "      <td>15</td>\n",
       "      <td>50-99</td>\n",
       "      <td>Pvt Ltd</td>\n",
       "      <td>&gt;4</td>\n",
       "      <td>47</td>\n",
       "      <td>0</td>\n",
       "    </tr>\n",
       "    <tr>\n",
       "      <th>2</th>\n",
       "      <td>11561</td>\n",
       "      <td>city_21</td>\n",
       "      <td>0.624</td>\n",
       "      <td>NaN</td>\n",
       "      <td>No relevent experience</td>\n",
       "      <td>Full time course</td>\n",
       "      <td>Graduate</td>\n",
       "      <td>STEM</td>\n",
       "      <td>5</td>\n",
       "      <td>NaN</td>\n",
       "      <td>NaN</td>\n",
       "      <td>never</td>\n",
       "      <td>83</td>\n",
       "      <td>0</td>\n",
       "    </tr>\n",
       "    <tr>\n",
       "      <th>3</th>\n",
       "      <td>33241</td>\n",
       "      <td>city_115</td>\n",
       "      <td>0.789</td>\n",
       "      <td>NaN</td>\n",
       "      <td>No relevent experience</td>\n",
       "      <td>NaN</td>\n",
       "      <td>Graduate</td>\n",
       "      <td>Business Degree</td>\n",
       "      <td>&lt;1</td>\n",
       "      <td>NaN</td>\n",
       "      <td>Pvt Ltd</td>\n",
       "      <td>never</td>\n",
       "      <td>52</td>\n",
       "      <td>1</td>\n",
       "    </tr>\n",
       "    <tr>\n",
       "      <th>4</th>\n",
       "      <td>666</td>\n",
       "      <td>city_162</td>\n",
       "      <td>0.767</td>\n",
       "      <td>Male</td>\n",
       "      <td>Has relevent experience</td>\n",
       "      <td>no_enrollment</td>\n",
       "      <td>Masters</td>\n",
       "      <td>STEM</td>\n",
       "      <td>&gt;20</td>\n",
       "      <td>50-99</td>\n",
       "      <td>Funded Startup</td>\n",
       "      <td>4</td>\n",
       "      <td>8</td>\n",
       "      <td>0</td>\n",
       "    </tr>\n",
       "  </tbody>\n",
       "</table>\n",
       "</div>"
      ],
      "text/plain": [
       "   enrollee_id      city  city_development_index gender  \\\n",
       "0         8949  city_103                   0.920   Male   \n",
       "1        29725   city_40                   0.776   Male   \n",
       "2        11561   city_21                   0.624    NaN   \n",
       "3        33241  city_115                   0.789    NaN   \n",
       "4          666  city_162                   0.767   Male   \n",
       "\n",
       "       relevent_experience enrolled_university education_level  \\\n",
       "0  Has relevent experience       no_enrollment        Graduate   \n",
       "1   No relevent experience       no_enrollment        Graduate   \n",
       "2   No relevent experience    Full time course        Graduate   \n",
       "3   No relevent experience                 NaN        Graduate   \n",
       "4  Has relevent experience       no_enrollment         Masters   \n",
       "\n",
       "  major_discipline experience company_size    company_type last_new_job  \\\n",
       "0             STEM        >20          NaN             NaN            1   \n",
       "1             STEM         15        50-99         Pvt Ltd           >4   \n",
       "2             STEM          5          NaN             NaN        never   \n",
       "3  Business Degree         <1          NaN         Pvt Ltd        never   \n",
       "4             STEM        >20        50-99  Funded Startup            4   \n",
       "\n",
       "   training_hours  target  \n",
       "0              36       1  \n",
       "1              47       0  \n",
       "2              83       0  \n",
       "3              52       1  \n",
       "4               8       0  "
      ]
     },
     "execution_count": 3,
     "metadata": {},
     "output_type": "execute_result"
    }
   ],
   "source": [
    "df['target'] = df['target'].astype(int)\n",
    "print(\"\\ntarget 열의 데이터 타팁 변환 후 확인:\")\n",
    "print(df.dtypes['target'])\n",
    "df.head()"
   ]
  },
  {
   "cell_type": "code",
   "execution_count": 4,
   "id": "f48ff76e-fb5f-490f-8811-c5e24ad81de8",
   "metadata": {},
   "outputs": [
    {
     "name": "stdout",
     "output_type": "stream",
     "text": [
      "원본 데이터프레임:\n",
      "          입사일\n",
      "0  2022-01-01\n",
      "1  2023-05-12\n",
      "2  2021-09-30\n",
      "3        잘못된값\n",
      "\n",
      "입사일 열을 날짜형으로 변환환 데이터프레임:\n",
      "         입사일\n",
      "0 2022-01-01\n",
      "1 2023-05-12\n",
      "2 2021-09-30\n",
      "3        NaT\n",
      "datetime64[ns]\n"
     ]
    }
   ],
   "source": [
    "df = pd.DataFrame({\n",
    "    '입사일': ['2022-01-01', '2023-05-12', '2021-09-30', '잘못된값']\n",
    "})\n",
    "print(\"원본 데이터프레임:\")\n",
    "print(df)\n",
    "df['입사일'] = pd.to_datetime(df['입사일'], errors='coerce')\n",
    "print(\"\\n입사일 열을 날짜형으로 변환환 데이터프레임:\")\n",
    "print(df)\n",
    "print(df.dtypes['입사일'])"
   ]
  },
  {
   "cell_type": "code",
   "execution_count": 9,
   "id": "c008773a-8687-4cfc-a7ac-71f786827d43",
   "metadata": {},
   "outputs": [
    {
     "name": "stdout",
     "output_type": "stream",
     "text": [
      "열 이름 변경 후:\n"
     ]
    },
    {
     "data": {
      "text/html": [
       "<div>\n",
       "<style scoped>\n",
       "    .dataframe tbody tr th:only-of-type {\n",
       "        vertical-align: middle;\n",
       "    }\n",
       "\n",
       "    .dataframe tbody tr th {\n",
       "        vertical-align: top;\n",
       "    }\n",
       "\n",
       "    .dataframe thead th {\n",
       "        text-align: right;\n",
       "    }\n",
       "</style>\n",
       "<table border=\"1\" class=\"dataframe\">\n",
       "  <thead>\n",
       "    <tr style=\"text-align: right;\">\n",
       "      <th></th>\n",
       "      <th>enrollee_id</th>\n",
       "      <th>city</th>\n",
       "      <th>dev_index</th>\n",
       "      <th>gender</th>\n",
       "      <th>relevant_exp</th>\n",
       "      <th>enrolled_university</th>\n",
       "      <th>education_level</th>\n",
       "      <th>major_discipline</th>\n",
       "      <th>experience</th>\n",
       "      <th>company_size</th>\n",
       "      <th>company_type</th>\n",
       "      <th>last_new_job</th>\n",
       "      <th>training_hours</th>\n",
       "      <th>target</th>\n",
       "    </tr>\n",
       "  </thead>\n",
       "  <tbody>\n",
       "    <tr>\n",
       "      <th>0</th>\n",
       "      <td>8949</td>\n",
       "      <td>city_103</td>\n",
       "      <td>0.920</td>\n",
       "      <td>Male</td>\n",
       "      <td>Has relevent experience</td>\n",
       "      <td>no_enrollment</td>\n",
       "      <td>Graduate</td>\n",
       "      <td>STEM</td>\n",
       "      <td>&gt;20</td>\n",
       "      <td>NaN</td>\n",
       "      <td>NaN</td>\n",
       "      <td>1</td>\n",
       "      <td>36</td>\n",
       "      <td>1.0</td>\n",
       "    </tr>\n",
       "    <tr>\n",
       "      <th>1</th>\n",
       "      <td>29725</td>\n",
       "      <td>city_40</td>\n",
       "      <td>0.776</td>\n",
       "      <td>Male</td>\n",
       "      <td>No relevent experience</td>\n",
       "      <td>no_enrollment</td>\n",
       "      <td>Graduate</td>\n",
       "      <td>STEM</td>\n",
       "      <td>15</td>\n",
       "      <td>50-99</td>\n",
       "      <td>Pvt Ltd</td>\n",
       "      <td>&gt;4</td>\n",
       "      <td>47</td>\n",
       "      <td>0.0</td>\n",
       "    </tr>\n",
       "    <tr>\n",
       "      <th>2</th>\n",
       "      <td>11561</td>\n",
       "      <td>city_21</td>\n",
       "      <td>0.624</td>\n",
       "      <td>NaN</td>\n",
       "      <td>No relevent experience</td>\n",
       "      <td>Full time course</td>\n",
       "      <td>Graduate</td>\n",
       "      <td>STEM</td>\n",
       "      <td>5</td>\n",
       "      <td>NaN</td>\n",
       "      <td>NaN</td>\n",
       "      <td>never</td>\n",
       "      <td>83</td>\n",
       "      <td>0.0</td>\n",
       "    </tr>\n",
       "    <tr>\n",
       "      <th>3</th>\n",
       "      <td>33241</td>\n",
       "      <td>city_115</td>\n",
       "      <td>0.789</td>\n",
       "      <td>NaN</td>\n",
       "      <td>No relevent experience</td>\n",
       "      <td>NaN</td>\n",
       "      <td>Graduate</td>\n",
       "      <td>Business Degree</td>\n",
       "      <td>&lt;1</td>\n",
       "      <td>NaN</td>\n",
       "      <td>Pvt Ltd</td>\n",
       "      <td>never</td>\n",
       "      <td>52</td>\n",
       "      <td>1.0</td>\n",
       "    </tr>\n",
       "    <tr>\n",
       "      <th>4</th>\n",
       "      <td>666</td>\n",
       "      <td>city_162</td>\n",
       "      <td>0.767</td>\n",
       "      <td>Male</td>\n",
       "      <td>Has relevent experience</td>\n",
       "      <td>no_enrollment</td>\n",
       "      <td>Masters</td>\n",
       "      <td>STEM</td>\n",
       "      <td>&gt;20</td>\n",
       "      <td>50-99</td>\n",
       "      <td>Funded Startup</td>\n",
       "      <td>4</td>\n",
       "      <td>8</td>\n",
       "      <td>0.0</td>\n",
       "    </tr>\n",
       "  </tbody>\n",
       "</table>\n",
       "</div>"
      ],
      "text/plain": [
       "   enrollee_id      city  dev_index gender             relevant_exp  \\\n",
       "0         8949  city_103      0.920   Male  Has relevent experience   \n",
       "1        29725   city_40      0.776   Male   No relevent experience   \n",
       "2        11561   city_21      0.624    NaN   No relevent experience   \n",
       "3        33241  city_115      0.789    NaN   No relevent experience   \n",
       "4          666  city_162      0.767   Male  Has relevent experience   \n",
       "\n",
       "  enrolled_university education_level major_discipline experience  \\\n",
       "0       no_enrollment        Graduate             STEM        >20   \n",
       "1       no_enrollment        Graduate             STEM         15   \n",
       "2    Full time course        Graduate             STEM          5   \n",
       "3                 NaN        Graduate  Business Degree         <1   \n",
       "4       no_enrollment         Masters             STEM        >20   \n",
       "\n",
       "  company_size    company_type last_new_job  training_hours  target  \n",
       "0          NaN             NaN            1              36     1.0  \n",
       "1        50-99         Pvt Ltd           >4              47     0.0  \n",
       "2          NaN             NaN        never              83     0.0  \n",
       "3          NaN         Pvt Ltd        never              52     1.0  \n",
       "4        50-99  Funded Startup            4               8     0.0  "
      ]
     },
     "execution_count": 9,
     "metadata": {},
     "output_type": "execute_result"
    }
   ],
   "source": [
    "df = pd.read_csv('aug_train.csv')\n",
    "df = df.rename(columns={'city_development_index': 'dev_index', 'relevent_experience': 'relevant_exp'})\n",
    "print(\"열 이름 변경 후:\")\n",
    "df.head()"
   ]
  },
  {
   "cell_type": "code",
   "execution_count": 10,
   "id": "83223b33-dd81-47e4-b2a8-e11bab91a12b",
   "metadata": {},
   "outputs": [
    {
     "name": "stdout",
     "output_type": "stream",
     "text": [
      "새로운 열 추가 후:\n",
      "   training_hours training_level\n",
      "0              36            Low\n",
      "1              47           High\n",
      "2              83           High\n",
      "3              52           High\n",
      "4               8            Low\n"
     ]
    }
   ],
   "source": [
    "df['training_level'] = 'Low'\n",
    "df.loc[df['training_hours'] >= 40, 'training_level'] = 'High'\n",
    "print(\"새로운 열 추가 후:\")\n",
    "print(df[['training_hours', 'training_level']].head())"
   ]
  },
  {
   "cell_type": "code",
   "execution_count": 11,
   "id": "4b07316f-e08a-4d61-95b0-69fa2d55360b",
   "metadata": {},
   "outputs": [
    {
     "name": "stdout",
     "output_type": "stream",
     "text": [
      "training_hours 열 기준 내림차순 정렬 후 데이터프레임:\n",
      "       training_hours  enrollee_id\n",
      "16785             336        26858\n",
      "4397              336        27795\n",
      "18458             336        32716\n",
      "4117              336        14332\n",
      "7121              336        10041\n",
      "...               ...          ...\n",
      "8836                1        26150\n",
      "11722               1         4168\n",
      "14051               1         8759\n",
      "10146               1        31032\n",
      "17849               1        12243\n",
      "\n",
      "[19158 rows x 2 columns]\n"
     ]
    }
   ],
   "source": [
    "df_sorted = df.sort_values(by='training_hours', ascending=False)\n",
    "print(\"training_hours 열 기준 내림차순 정렬 후 데이터프레임:\")\n",
    "print(df_sorted[['training_hours', 'enrollee_id']])"
   ]
  },
  {
   "cell_type": "code",
   "execution_count": 12,
   "id": "f23f6335-aa1f-422b-8d45-4c1568c40878",
   "metadata": {},
   "outputs": [
    {
     "name": "stdout",
     "output_type": "stream",
     "text": [
      "정렬 후 데이터프레임:\n",
      "       dev_index  training_hours\n",
      "16784      0.448             154\n",
      "5265       0.448              86\n",
      "7864       0.448              74\n",
      "5010       0.448              73\n",
      "15114      0.448              66\n"
     ]
    }
   ],
   "source": [
    "df_sorted = df.sort_values(by=['dev_index', 'training_hours'],\n",
    "                           ascending=[True, False])\n",
    "print(\"정렬 후 데이터프레임:\")\n",
    "print(df_sorted[['dev_index', 'training_hours']].head())"
   ]
  },
  {
   "cell_type": "code",
   "execution_count": 15,
   "id": "fe12cf12-854d-4224-afaf-5ebb93c23b8f",
   "metadata": {},
   "outputs": [
    {
     "name": "stdout",
     "output_type": "stream",
     "text": [
      "원본 데이터프레임을 dev_index 열 기준 정렬 후:\n",
      "       dev_index  enrollee_id\n",
      "13549      0.448        28317\n",
      "5265       0.448        31194\n",
      "10401      0.448        19463\n",
      "14913      0.448         3891\n",
      "16784      0.448        10486\n"
     ]
    },
    {
     "data": {
      "text/html": [
       "<div>\n",
       "<style scoped>\n",
       "    .dataframe tbody tr th:only-of-type {\n",
       "        vertical-align: middle;\n",
       "    }\n",
       "\n",
       "    .dataframe tbody tr th {\n",
       "        vertical-align: top;\n",
       "    }\n",
       "\n",
       "    .dataframe thead th {\n",
       "        text-align: right;\n",
       "    }\n",
       "</style>\n",
       "<table border=\"1\" class=\"dataframe\">\n",
       "  <thead>\n",
       "    <tr style=\"text-align: right;\">\n",
       "      <th></th>\n",
       "      <th>enrollee_id</th>\n",
       "      <th>city</th>\n",
       "      <th>dev_index</th>\n",
       "      <th>gender</th>\n",
       "      <th>relevant_exp</th>\n",
       "      <th>enrolled_university</th>\n",
       "      <th>education_level</th>\n",
       "      <th>major_discipline</th>\n",
       "      <th>experience</th>\n",
       "      <th>company_size</th>\n",
       "      <th>company_type</th>\n",
       "      <th>last_new_job</th>\n",
       "      <th>training_hours</th>\n",
       "      <th>target</th>\n",
       "      <th>training_level</th>\n",
       "    </tr>\n",
       "  </thead>\n",
       "  <tbody>\n",
       "    <tr>\n",
       "      <th>13549</th>\n",
       "      <td>28317</td>\n",
       "      <td>city_33</td>\n",
       "      <td>0.448</td>\n",
       "      <td>NaN</td>\n",
       "      <td>Has relevent experience</td>\n",
       "      <td>no_enrollment</td>\n",
       "      <td>Graduate</td>\n",
       "      <td>STEM</td>\n",
       "      <td>8</td>\n",
       "      <td>10/49</td>\n",
       "      <td>Pvt Ltd</td>\n",
       "      <td>2</td>\n",
       "      <td>14</td>\n",
       "      <td>0.0</td>\n",
       "      <td>Low</td>\n",
       "    </tr>\n",
       "    <tr>\n",
       "      <th>5265</th>\n",
       "      <td>31194</td>\n",
       "      <td>city_33</td>\n",
       "      <td>0.448</td>\n",
       "      <td>NaN</td>\n",
       "      <td>No relevent experience</td>\n",
       "      <td>NaN</td>\n",
       "      <td>High School</td>\n",
       "      <td>NaN</td>\n",
       "      <td>5</td>\n",
       "      <td>NaN</td>\n",
       "      <td>Pvt Ltd</td>\n",
       "      <td>never</td>\n",
       "      <td>86</td>\n",
       "      <td>1.0</td>\n",
       "      <td>High</td>\n",
       "    </tr>\n",
       "    <tr>\n",
       "      <th>10401</th>\n",
       "      <td>19463</td>\n",
       "      <td>city_33</td>\n",
       "      <td>0.448</td>\n",
       "      <td>Male</td>\n",
       "      <td>No relevent experience</td>\n",
       "      <td>no_enrollment</td>\n",
       "      <td>Graduate</td>\n",
       "      <td>STEM</td>\n",
       "      <td>5</td>\n",
       "      <td>10000+</td>\n",
       "      <td>Pvt Ltd</td>\n",
       "      <td>2</td>\n",
       "      <td>36</td>\n",
       "      <td>0.0</td>\n",
       "      <td>Low</td>\n",
       "    </tr>\n",
       "    <tr>\n",
       "      <th>14913</th>\n",
       "      <td>3891</td>\n",
       "      <td>city_33</td>\n",
       "      <td>0.448</td>\n",
       "      <td>Male</td>\n",
       "      <td>No relevent experience</td>\n",
       "      <td>Full time course</td>\n",
       "      <td>High School</td>\n",
       "      <td>NaN</td>\n",
       "      <td>4</td>\n",
       "      <td>NaN</td>\n",
       "      <td>NaN</td>\n",
       "      <td>never</td>\n",
       "      <td>31</td>\n",
       "      <td>0.0</td>\n",
       "      <td>Low</td>\n",
       "    </tr>\n",
       "    <tr>\n",
       "      <th>16784</th>\n",
       "      <td>10486</td>\n",
       "      <td>city_33</td>\n",
       "      <td>0.448</td>\n",
       "      <td>NaN</td>\n",
       "      <td>No relevent experience</td>\n",
       "      <td>Full time course</td>\n",
       "      <td>Graduate</td>\n",
       "      <td>Other</td>\n",
       "      <td>2</td>\n",
       "      <td>500-999</td>\n",
       "      <td>Public Sector</td>\n",
       "      <td>2</td>\n",
       "      <td>154</td>\n",
       "      <td>1.0</td>\n",
       "      <td>High</td>\n",
       "    </tr>\n",
       "  </tbody>\n",
       "</table>\n",
       "</div>"
      ],
      "text/plain": [
       "       enrollee_id     city  dev_index gender             relevant_exp  \\\n",
       "13549        28317  city_33      0.448    NaN  Has relevent experience   \n",
       "5265         31194  city_33      0.448    NaN   No relevent experience   \n",
       "10401        19463  city_33      0.448   Male   No relevent experience   \n",
       "14913         3891  city_33      0.448   Male   No relevent experience   \n",
       "16784        10486  city_33      0.448    NaN   No relevent experience   \n",
       "\n",
       "      enrolled_university education_level major_discipline experience  \\\n",
       "13549       no_enrollment        Graduate             STEM          8   \n",
       "5265                  NaN     High School              NaN          5   \n",
       "10401       no_enrollment        Graduate             STEM          5   \n",
       "14913    Full time course     High School              NaN          4   \n",
       "16784    Full time course        Graduate            Other          2   \n",
       "\n",
       "      company_size   company_type last_new_job  training_hours  target  \\\n",
       "13549        10/49        Pvt Ltd            2              14     0.0   \n",
       "5265           NaN        Pvt Ltd        never              86     1.0   \n",
       "10401       10000+        Pvt Ltd            2              36     0.0   \n",
       "14913          NaN            NaN        never              31     0.0   \n",
       "16784      500-999  Public Sector            2             154     1.0   \n",
       "\n",
       "      training_level  \n",
       "13549            Low  \n",
       "5265            High  \n",
       "10401            Low  \n",
       "14913            Low  \n",
       "16784           High  "
      ]
     },
     "execution_count": 15,
     "metadata": {},
     "output_type": "execute_result"
    }
   ],
   "source": [
    "df.sort_values(by='dev_index', ascending=True, inplace=True)\n",
    "print(\"원본 데이터프레임을 dev_index 열 기준 정렬 후:\")\n",
    "print(df[['dev_index', 'enrollee_id']].head())\n",
    "df.head()"
   ]
  },
  {
   "cell_type": "code",
   "execution_count": 16,
   "id": "0ee41c93-db0c-4f2b-ae4b-2ef80bbf4bf5",
   "metadata": {},
   "outputs": [
    {
     "name": "stdout",
     "output_type": "stream",
     "text": [
      "       enrollee_id     city  dev_index  gender             relevant_exp  \\\n",
      "13549        28317  city_33      0.448     NaN  Has relevent experience   \n",
      "5265         31194  city_33      0.448     NaN   No relevent experience   \n",
      "10401        19463  city_33      0.448    Male   No relevent experience   \n",
      "14913         3891  city_33      0.448    Male   No relevent experience   \n",
      "16784        10486  city_33      0.448     NaN   No relevent experience   \n",
      "...            ...      ...        ...     ...                      ...   \n",
      "6432           726  city_98      0.949     NaN  Has relevent experience   \n",
      "18753        27407  city_98      0.949    Male  Has relevent experience   \n",
      "1680         10219  city_98      0.949  Female  Has relevent experience   \n",
      "17479        20047  city_98      0.949    Male  Has relevent experience   \n",
      "12844         8393  city_98      0.949    Male  Has relevent experience   \n",
      "\n",
      "      enrolled_university education_level major_discipline experience  \\\n",
      "13549       no_enrollment        Graduate             STEM          8   \n",
      "5265                  NaN     High School              NaN          5   \n",
      "10401       no_enrollment        Graduate             STEM          5   \n",
      "14913    Full time course     High School              NaN          4   \n",
      "16784    Full time course        Graduate            Other          2   \n",
      "...                   ...             ...              ...        ...   \n",
      "6432        no_enrollment         Masters             STEM         13   \n",
      "18753       no_enrollment        Graduate             STEM         11   \n",
      "1680        no_enrollment         Masters             STEM        >20   \n",
      "17479       no_enrollment        Graduate             STEM          6   \n",
      "12844       no_enrollment         Masters             STEM        >20   \n",
      "\n",
      "      company_size   company_type last_new_job  training_hours  target  \\\n",
      "13549        10/49        Pvt Ltd            2              14     0.0   \n",
      "5265           NaN        Pvt Ltd        never              86     1.0   \n",
      "10401       10000+        Pvt Ltd            2              36     0.0   \n",
      "14913          NaN            NaN        never              31     0.0   \n",
      "16784      500-999  Public Sector            2             154     1.0   \n",
      "...            ...            ...          ...             ...     ...   \n",
      "6432         10/49        Pvt Ltd            4              35     0.0   \n",
      "18753       10000+        Pvt Ltd            1              45     0.0   \n",
      "1680         50-99        Pvt Ltd            2             111     0.0   \n",
      "17479       10000+        Pvt Ltd            1              11     0.0   \n",
      "12844    1000-4999        Pvt Ltd            1              39     0.0   \n",
      "\n",
      "      training_level  \n",
      "13549            Low  \n",
      "5265            High  \n",
      "10401            Low  \n",
      "14913            Low  \n",
      "16784           High  \n",
      "...              ...  \n",
      "6432             Low  \n",
      "18753           High  \n",
      "1680            High  \n",
      "17479            Low  \n",
      "12844            Low  \n",
      "\n",
      "[19158 rows x 15 columns]\n"
     ]
    }
   ],
   "source": [
    "print(df)"
   ]
  },
  {
   "cell_type": "code",
   "execution_count": 19,
   "id": "0dd2f217-d2dd-41f4-83d0-9c4cb01a3cb2",
   "metadata": {},
   "outputs": [
    {
     "name": "stdout",
     "output_type": "stream",
     "text": [
      "중복 제거 후:\n",
      "   ID     Name\n",
      "0   1    Alice\n",
      "1   2      Bob\n",
      "3   3  Charlie\n",
      "4   4    David\n"
     ]
    }
   ],
   "source": [
    "data = {'ID': [1, 2, 2, 3, 4, 4, 4],\n",
    "        'Name': ['Alice', 'Bob', 'Bob', 'Charlie', 'David', 'David', 'David']}\n",
    "df = pd.DataFrame(data)\n",
    "df_unique = df.drop_duplicates(subset=['ID'], keep='first')\n",
    "print(\"중복 제거 후:\")\n",
    "print(df_unique)"
   ]
  },
  {
   "cell_type": "code",
   "execution_count": 21,
   "id": "97c7a178-7513-44ba-94aa-921267658a4e",
   "metadata": {},
   "outputs": [
    {
     "name": "stdout",
     "output_type": "stream",
     "text": [
      "             ID         Age\n",
      "count  5.000000    5.000000\n",
      "mean   3.000000   45.600000\n",
      "std    1.581139   31.373556\n",
      "min    1.000000   25.000000\n",
      "25%    2.000000   28.000000\n",
      "50%    3.000000   30.000000\n",
      "75%    4.000000   45.000000\n",
      "max    5.000000  100.000000\n",
      "\n",
      "이상치 제거 후:\n",
      "   ID  Age\n",
      "0   1   25\n",
      "1   2   30\n",
      "2   3   45\n",
      "4   5   28\n",
      "\n",
      "이상치를 중앙값으로 대체한 후:\n",
      "   ID  Age\n",
      "0   1   25\n",
      "1   2   30\n",
      "2   3   45\n",
      "3   4   30\n",
      "4   5   28\n"
     ]
    }
   ],
   "source": [
    "data = {'ID': [1, 2, 3, 4, 5],\n",
    "        'Age': [25, 30, 45, 100, 28]}\n",
    "df = pd.DataFrame(data)\n",
    "print(df.describe())\n",
    "df_no_outliers = df[df['Age'] < 60 ]\n",
    "print(\"\\n이상치 제거 후:\")\n",
    "print(df_no_outliers)\n",
    "median_age = df['Age'].median()\n",
    "df.loc[df['Age'] >= 60, 'Age'] = median_age\n",
    "print(\"\\n이상치를 중앙값으로 대체한 후:\")\n",
    "print(df)"
   ]
  },
  {
   "cell_type": "code",
   "execution_count": 22,
   "id": "9c57bfbe-6fef-405b-beeb-2e1b1ad73bd1",
   "metadata": {},
   "outputs": [
    {
     "name": "stdout",
     "output_type": "stream",
     "text": [
      "공백 제거 후:\n",
      "      Name\n",
      "0    Alice\n",
      "1      Bob\n",
      "2  Charlie\n",
      "3    David\n",
      "4     Emma\n"
     ]
    }
   ],
   "source": [
    "data = {'Name': [' Alice ', 'Bob', ' Charlie ', 'David ', ' Emma']}\n",
    "df = pd.DataFrame(data)\n",
    "df['Name'] = df['Name'].str.strip()\n",
    "print(\"공백 제거 후:\")\n",
    "print(df)"
   ]
  },
  {
   "cell_type": "code",
   "execution_count": 23,
   "id": "abf4f7ae-ae05-43d5-84f5-2bbf1a682246",
   "metadata": {},
   "outputs": [
    {
     "name": "stdout",
     "output_type": "stream",
     "text": [
      "특정 문자열 대체 후:\n",
      "      Name\n",
      "0   Alicia\n",
      "1      Bob\n",
      "2  Charlie\n",
      "3    David\n",
      "4     Emma\n"
     ]
    }
   ],
   "source": [
    "df['Name'] = df['Name'].str.replace('Alice', 'Alicia')\n",
    "print(\"특정 문자열 대체 후:\")\n",
    "print(df)"
   ]
  },
  {
   "cell_type": "code",
   "execution_count": 25,
   "id": "45c6020f-b3d4-4ddd-89dc-aab5ac6ff4e9",
   "metadata": {},
   "outputs": [
    {
     "name": "stdout",
     "output_type": "stream",
     "text": [
      "대문자로 변환 후:\n",
      "      Name\n",
      "0   ALICIA\n",
      "1      BOB\n",
      "2  CHARLIE\n",
      "3    DAVID\n",
      "4     EMMA\n"
     ]
    }
   ],
   "source": [
    "df['Name'] = df['Name'].str.upper()\n",
    "print(\"대문자로 변환 후:\")\n",
    "print(df)"
   ]
  },
  {
   "cell_type": "code",
   "execution_count": 26,
   "id": "db6c20c4-33cb-4a4f-b9a6-1e1c052dee7d",
   "metadata": {},
   "outputs": [
    {
     "name": "stdout",
     "output_type": "stream",
     "text": [
      "소문자로 변환 후:\n",
      "      Name\n",
      "0   alicia\n",
      "1      bob\n",
      "2  charlie\n",
      "3    david\n",
      "4     emma\n"
     ]
    }
   ],
   "source": [
    "df['Name'] = df['Name'].str.lower()\n",
    "print(\"소문자로 변환 후:\")\n",
    "print(df)"
   ]
  },
  {
   "cell_type": "code",
   "execution_count": 40,
   "id": "a2c34f37-8851-4454-bae2-d1a5fb30b155",
   "metadata": {},
   "outputs": [
    {
     "name": "stdout",
     "output_type": "stream",
     "text": [
      "0    >20\n",
      "1     15\n",
      "2      5\n",
      "3     <1\n",
      "4    >20\n",
      "Name: experience, dtype: object\n"
     ]
    }
   ],
   "source": [
    "df = pd.read_csv('aug_train.csv')\n",
    "print(df['experience'].head())"
   ]
  },
  {
   "cell_type": "code",
   "execution_count": 41,
   "id": "6c7be784-5ab0-4e5e-932b-eb29c401261f",
   "metadata": {},
   "outputs": [
    {
     "name": "stdout",
     "output_type": "stream",
     "text": [
      "0    >20\n",
      "1     15\n",
      "2      5\n",
      "3     <1\n",
      "4    >20\n",
      "Name: experience, dtype: object\n",
      "숫자형으로 변환 후:\n",
      "0    20\n",
      "1    15\n",
      "2     5\n",
      "3     1\n",
      "4    20\n",
      "Name: experience, dtype: int64\n"
     ]
    }
   ],
   "source": [
    "df['experience'] = df['experience'].fillna('0')\n",
    "print(df['experience'].head())\n",
    "df['experience'] = df['experience'].str.replace('>', '').str.replace('<', '').astype(int)\n",
    "print(\"숫자형으로 변환 후:\")\n",
    "print(df['experience'].head())"
   ]
  },
  {
   "cell_type": "code",
   "execution_count": 42,
   "id": "9f662be1-d026-4a19-a04c-fd1810fc56aa",
   "metadata": {},
   "outputs": [
    {
     "name": "stdout",
     "output_type": "stream",
     "text": [
      "연봉 데이터 변환 후:\n",
      "    salary\n",
      "0   600000\n",
      "1   750000\n",
      "2  1000000\n"
     ]
    }
   ],
   "source": [
    "data = {'salary': ['600,000', '750,000', '1,000,000']}\n",
    "df = pd.DataFrame(data)\n",
    "df['salary'] = df['salary'].str.replace(',', '').astype(int)\n",
    "print(\"연봉 데이터 변환 후:\")\n",
    "print(df)"
   ]
  },
  {
   "cell_type": "code",
   "execution_count": 43,
   "id": "83c58941-31b7-4b1f-ae35-d786c4fc3b99",
   "metadata": {},
   "outputs": [
    {
     "name": "stdout",
     "output_type": "stream",
     "text": [
      "성장률 데이터 변환 후:\n",
      "   growth_rate\n",
      "0         0.50\n",
      "1         0.75\n",
      "2         1.00\n"
     ]
    }
   ],
   "source": [
    "data = {'growth_rate': ['50%', '75%', '100%']}\n",
    "df = pd.DataFrame(data)\n",
    "df['growth_rate'] = df['growth_rate'].str.replace('%', '').astype(float) / 100\n",
    "print(\"성장률 데이터 변환 후:\")\n",
    "print(df)"
   ]
  },
  {
   "cell_type": "code",
   "execution_count": 44,
   "id": "a1def407-8d88-4e24-b5c4-8ab8df76c05a",
   "metadata": {},
   "outputs": [
    {
     "name": "stdout",
     "output_type": "stream",
     "text": [
      "행 기준으로 연결 후(join='outer'):\n",
      "   ID     Name   Age         City\n",
      "0   1    Alice  25.0          NaN\n",
      "1   2      Bob  30.0          NaN\n",
      "2   3  Charlie  35.0          NaN\n",
      "3   4    David   NaN     New York\n",
      "4   5     Emma   NaN  Los Angeles\n"
     ]
    }
   ],
   "source": [
    "import pandas as pd\n",
    "df1 = pd.DataFrame({\n",
    "    'ID': [1, 2, 3],\n",
    "    'Name': ['Alice', 'Bob', 'Charlie'],\n",
    "    'Age': [25, 30, 35]\n",
    "})\n",
    "df2 = pd.DataFrame({\n",
    "    'ID': [4, 5],\n",
    "    'Name': ['David', 'Emma'],\n",
    "    'City': ['New York', 'Los Angeles']\n",
    "})\n",
    "df_concat = pd.concat([df1, df2], axis=0, ignore_index=True)\n",
    "print(\"행 기준으로 연결 후(join='outer'):\")\n",
    "print(df_concat)"
   ]
  },
  {
   "cell_type": "code",
   "execution_count": 45,
   "id": "a9891ab1-e17a-4010-9bd6-4370de62e535",
   "metadata": {},
   "outputs": [
    {
     "name": "stdout",
     "output_type": "stream",
     "text": [
      "열 기준으로 연결 후:\n",
      "   ID     Name  Age   ID   Name         City\n",
      "0   1    Alice   25  4.0  David     New York\n",
      "1   2      Bob   30  5.0   Emma  Los Angeles\n",
      "2   3  Charlie   35  NaN    NaN          NaN\n"
     ]
    }
   ],
   "source": [
    "df_concat = pd.concat([df1, df2], axis=1)\n",
    "print(\"열 기준으로 연결 후:\")\n",
    "print(df_concat)"
   ]
  },
  {
   "cell_type": "code",
   "execution_count": 46,
   "id": "dc557eb8-fb49-4897-87e7-456efb3d70bf",
   "metadata": {},
   "outputs": [
    {
     "name": "stdout",
     "output_type": "stream",
     "text": [
      "행 기준으로 연결 후(join='outer'):\n",
      "   ID     Name\n",
      "0   1    Alice\n",
      "1   2      Bob\n",
      "2   3  Charlie\n",
      "3   4    David\n",
      "4   5     Emma\n"
     ]
    }
   ],
   "source": [
    "df_concat = pd.concat([df1, df2], axis=0, join='inner', ignore_index=True)\n",
    "print(\"행 기준으로 연결 후(join='outer'):\")\n",
    "print(df_concat)"
   ]
  },
  {
   "cell_type": "code",
   "execution_count": 47,
   "id": "299b906e-95df-4685-9e37-193ca61b65ec",
   "metadata": {},
   "outputs": [
    {
     "name": "stdout",
     "output_type": "stream",
     "text": [
      "Inner Join 결과:\n",
      "   ID   Name  Score\n",
      "0   1  Alice     85\n",
      "1   2    Bob     90\n"
     ]
    }
   ],
   "source": [
    "df1 = pd.DataFrame({\n",
    "    'ID': [1, 2, 3],\n",
    "    'Name': ['Alice', 'Bob', 'Charlie']\n",
    "})\n",
    "df2 = pd.DataFrame({\n",
    "    'ID': [1, 2, 4],\n",
    "    'Score': [85, 90, 95]\n",
    "})\n",
    "df_inner = pd.merge(df1, df2, on='ID', how='inner')\n",
    "print(\"Inner Join 결과:\")\n",
    "print(df_inner)"
   ]
  },
  {
   "cell_type": "code",
   "execution_count": 48,
   "id": "7161140e-474c-4e53-955a-b0b3b318dc67",
   "metadata": {},
   "outputs": [
    {
     "name": "stdout",
     "output_type": "stream",
     "text": [
      "Outer Join 결과:\n",
      "   ID     Name  Score\n",
      "0   1    Alice   85.0\n",
      "1   2      Bob   90.0\n",
      "2   3  Charlie    NaN\n",
      "3   4      NaN   95.0\n"
     ]
    }
   ],
   "source": [
    "df_outer = pd.merge(df1, df2, on='ID', how='outer')\n",
    "print(\"Outer Join 결과:\")\n",
    "print(df_outer)"
   ]
  },
  {
   "cell_type": "code",
   "execution_count": 49,
   "id": "c4875f23-d42a-407d-8b9f-29cc19e31e12",
   "metadata": {},
   "outputs": [
    {
     "name": "stdout",
     "output_type": "stream",
     "text": [
      "Left Join 결과:\n",
      "   ID     Name  Score\n",
      "0   1    Alice   85.0\n",
      "1   2      Bob   90.0\n",
      "2   3  Charlie    NaN\n"
     ]
    }
   ],
   "source": [
    "df_left = pd.merge(df1, df2, on='ID', how='left')\n",
    "print(\"Left Join 결과:\")\n",
    "print(df_left)"
   ]
  },
  {
   "cell_type": "code",
   "execution_count": 50,
   "id": "a6baf601-5e1c-4821-8469-082c5d637c47",
   "metadata": {},
   "outputs": [
    {
     "name": "stdout",
     "output_type": "stream",
     "text": [
      "Right Join 결과:\n",
      "   ID   Name  Score\n",
      "0   1  Alice     85\n",
      "1   2    Bob     90\n",
      "2   4    NaN     95\n"
     ]
    }
   ],
   "source": [
    "df_right = pd.merge(df1, df2, on='ID', how='right')\n",
    "print(\"Right Join 결과:\")\n",
    "print(df_right)"
   ]
  },
  {
   "cell_type": "code",
   "execution_count": null,
   "id": "3316b52e-ebf3-4289-b854-fc25886190d3",
   "metadata": {},
   "outputs": [],
   "source": []
  }
 ],
 "metadata": {
  "kernelspec": {
   "display_name": "Python [conda env:base] *",
   "language": "python",
   "name": "conda-base-py"
  },
  "language_info": {
   "codemirror_mode": {
    "name": "ipython",
    "version": 3
   },
   "file_extension": ".py",
   "mimetype": "text/x-python",
   "name": "python",
   "nbconvert_exporter": "python",
   "pygments_lexer": "ipython3",
   "version": "3.13.5"
  }
 },
 "nbformat": 4,
 "nbformat_minor": 5
}
