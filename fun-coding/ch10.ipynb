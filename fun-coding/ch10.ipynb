{
 "cells": [
  {
   "cell_type": "code",
   "execution_count": 1,
   "id": "63cf4f2c-5624-4f97-8ba4-27f2e076a9a5",
   "metadata": {},
   "outputs": [
    {
     "data": {
      "text/plain": [
       "(200000, 16)"
      ]
     },
     "execution_count": 1,
     "metadata": {},
     "output_type": "execute_result"
    }
   ],
   "source": [
    "import pandas as pd\n",
    "df = pd.read_csv('marketing_campaign_dataset.csv')\n",
    "df.shape"
   ]
  },
  {
   "cell_type": "code",
   "execution_count": 2,
   "id": "5755ee34-8982-4fb1-8d18-892fd1c412ab",
   "metadata": {},
   "outputs": [
    {
     "data": {
      "text/html": [
       "<div>\n",
       "<style scoped>\n",
       "    .dataframe tbody tr th:only-of-type {\n",
       "        vertical-align: middle;\n",
       "    }\n",
       "\n",
       "    .dataframe tbody tr th {\n",
       "        vertical-align: top;\n",
       "    }\n",
       "\n",
       "    .dataframe thead th {\n",
       "        text-align: right;\n",
       "    }\n",
       "</style>\n",
       "<table border=\"1\" class=\"dataframe\">\n",
       "  <thead>\n",
       "    <tr style=\"text-align: right;\">\n",
       "      <th></th>\n",
       "      <th>Campaign_ID</th>\n",
       "      <th>Company</th>\n",
       "      <th>Campaign_Type</th>\n",
       "      <th>Target_Audience</th>\n",
       "      <th>Duration</th>\n",
       "      <th>Channel_Used</th>\n",
       "      <th>Conversion_Rate</th>\n",
       "      <th>Acquisition_Cost</th>\n",
       "      <th>ROI</th>\n",
       "      <th>Location</th>\n",
       "      <th>Language</th>\n",
       "      <th>Clicks</th>\n",
       "      <th>Impressions</th>\n",
       "      <th>Engagement_Score</th>\n",
       "      <th>Customer_Segment</th>\n",
       "      <th>Date</th>\n",
       "    </tr>\n",
       "  </thead>\n",
       "  <tbody>\n",
       "    <tr>\n",
       "      <th>0</th>\n",
       "      <td>1</td>\n",
       "      <td>Innovate Industries</td>\n",
       "      <td>Email</td>\n",
       "      <td>Men 18-24</td>\n",
       "      <td>30 days</td>\n",
       "      <td>Google Ads</td>\n",
       "      <td>0.04</td>\n",
       "      <td>$16,174.00</td>\n",
       "      <td>6.29</td>\n",
       "      <td>Chicago</td>\n",
       "      <td>Spanish</td>\n",
       "      <td>506</td>\n",
       "      <td>1922</td>\n",
       "      <td>6</td>\n",
       "      <td>Health &amp; Wellness</td>\n",
       "      <td>2021-01-01</td>\n",
       "    </tr>\n",
       "    <tr>\n",
       "      <th>1</th>\n",
       "      <td>2</td>\n",
       "      <td>NexGen Systems</td>\n",
       "      <td>Email</td>\n",
       "      <td>Women 35-44</td>\n",
       "      <td>60 days</td>\n",
       "      <td>Google Ads</td>\n",
       "      <td>0.12</td>\n",
       "      <td>$11,566.00</td>\n",
       "      <td>5.61</td>\n",
       "      <td>New York</td>\n",
       "      <td>German</td>\n",
       "      <td>116</td>\n",
       "      <td>7523</td>\n",
       "      <td>7</td>\n",
       "      <td>Fashionistas</td>\n",
       "      <td>2021-01-02</td>\n",
       "    </tr>\n",
       "    <tr>\n",
       "      <th>2</th>\n",
       "      <td>3</td>\n",
       "      <td>Alpha Innovations</td>\n",
       "      <td>Influencer</td>\n",
       "      <td>Men 25-34</td>\n",
       "      <td>30 days</td>\n",
       "      <td>YouTube</td>\n",
       "      <td>0.07</td>\n",
       "      <td>$10,200.00</td>\n",
       "      <td>7.18</td>\n",
       "      <td>Los Angeles</td>\n",
       "      <td>French</td>\n",
       "      <td>584</td>\n",
       "      <td>7698</td>\n",
       "      <td>1</td>\n",
       "      <td>Outdoor Adventurers</td>\n",
       "      <td>2021-01-03</td>\n",
       "    </tr>\n",
       "    <tr>\n",
       "      <th>3</th>\n",
       "      <td>4</td>\n",
       "      <td>DataTech Solutions</td>\n",
       "      <td>Display</td>\n",
       "      <td>All Ages</td>\n",
       "      <td>60 days</td>\n",
       "      <td>YouTube</td>\n",
       "      <td>0.11</td>\n",
       "      <td>$12,724.00</td>\n",
       "      <td>5.55</td>\n",
       "      <td>Miami</td>\n",
       "      <td>Mandarin</td>\n",
       "      <td>217</td>\n",
       "      <td>1820</td>\n",
       "      <td>7</td>\n",
       "      <td>Health &amp; Wellness</td>\n",
       "      <td>2021-01-04</td>\n",
       "    </tr>\n",
       "    <tr>\n",
       "      <th>4</th>\n",
       "      <td>5</td>\n",
       "      <td>NexGen Systems</td>\n",
       "      <td>Email</td>\n",
       "      <td>Men 25-34</td>\n",
       "      <td>15 days</td>\n",
       "      <td>YouTube</td>\n",
       "      <td>0.05</td>\n",
       "      <td>$16,452.00</td>\n",
       "      <td>6.50</td>\n",
       "      <td>Los Angeles</td>\n",
       "      <td>Mandarin</td>\n",
       "      <td>379</td>\n",
       "      <td>4201</td>\n",
       "      <td>3</td>\n",
       "      <td>Health &amp; Wellness</td>\n",
       "      <td>2021-01-05</td>\n",
       "    </tr>\n",
       "  </tbody>\n",
       "</table>\n",
       "</div>"
      ],
      "text/plain": [
       "   Campaign_ID              Company Campaign_Type Target_Audience Duration  \\\n",
       "0            1  Innovate Industries         Email       Men 18-24  30 days   \n",
       "1            2       NexGen Systems         Email     Women 35-44  60 days   \n",
       "2            3    Alpha Innovations    Influencer       Men 25-34  30 days   \n",
       "3            4   DataTech Solutions       Display        All Ages  60 days   \n",
       "4            5       NexGen Systems         Email       Men 25-34  15 days   \n",
       "\n",
       "  Channel_Used  Conversion_Rate Acquisition_Cost   ROI     Location  Language  \\\n",
       "0   Google Ads             0.04       $16,174.00  6.29      Chicago   Spanish   \n",
       "1   Google Ads             0.12       $11,566.00  5.61     New York    German   \n",
       "2      YouTube             0.07       $10,200.00  7.18  Los Angeles    French   \n",
       "3      YouTube             0.11       $12,724.00  5.55        Miami  Mandarin   \n",
       "4      YouTube             0.05       $16,452.00  6.50  Los Angeles  Mandarin   \n",
       "\n",
       "   Clicks  Impressions  Engagement_Score     Customer_Segment        Date  \n",
       "0     506         1922                 6    Health & Wellness  2021-01-01  \n",
       "1     116         7523                 7         Fashionistas  2021-01-02  \n",
       "2     584         7698                 1  Outdoor Adventurers  2021-01-03  \n",
       "3     217         1820                 7    Health & Wellness  2021-01-04  \n",
       "4     379         4201                 3    Health & Wellness  2021-01-05  "
      ]
     },
     "execution_count": 2,
     "metadata": {},
     "output_type": "execute_result"
    }
   ],
   "source": [
    "df.head()"
   ]
  },
  {
   "cell_type": "code",
   "execution_count": 3,
   "id": "787e06e5-cba7-4f33-940b-2ea21643203d",
   "metadata": {},
   "outputs": [
    {
     "data": {
      "text/html": [
       "<div>\n",
       "<style scoped>\n",
       "    .dataframe tbody tr th:only-of-type {\n",
       "        vertical-align: middle;\n",
       "    }\n",
       "\n",
       "    .dataframe tbody tr th {\n",
       "        vertical-align: top;\n",
       "    }\n",
       "\n",
       "    .dataframe thead th {\n",
       "        text-align: right;\n",
       "    }\n",
       "</style>\n",
       "<table border=\"1\" class=\"dataframe\">\n",
       "  <thead>\n",
       "    <tr style=\"text-align: right;\">\n",
       "      <th></th>\n",
       "      <th>Campaign_ID</th>\n",
       "      <th>Company</th>\n",
       "      <th>Campaign_Type</th>\n",
       "      <th>Target_Audience</th>\n",
       "      <th>Duration</th>\n",
       "      <th>Channel_Used</th>\n",
       "      <th>Conversion_Rate</th>\n",
       "      <th>Acquisition_Cost</th>\n",
       "      <th>ROI</th>\n",
       "      <th>Location</th>\n",
       "      <th>Language</th>\n",
       "      <th>Clicks</th>\n",
       "      <th>Impressions</th>\n",
       "      <th>Engagement_Score</th>\n",
       "      <th>Customer_Segment</th>\n",
       "      <th>Date</th>\n",
       "    </tr>\n",
       "  </thead>\n",
       "  <tbody>\n",
       "    <tr>\n",
       "      <th>199995</th>\n",
       "      <td>199996</td>\n",
       "      <td>TechCorp</td>\n",
       "      <td>Display</td>\n",
       "      <td>All Ages</td>\n",
       "      <td>30 days</td>\n",
       "      <td>Google Ads</td>\n",
       "      <td>0.06</td>\n",
       "      <td>$18,365.00</td>\n",
       "      <td>2.84</td>\n",
       "      <td>Chicago</td>\n",
       "      <td>German</td>\n",
       "      <td>858</td>\n",
       "      <td>5988</td>\n",
       "      <td>1</td>\n",
       "      <td>Tech Enthusiasts</td>\n",
       "      <td>2021-12-07</td>\n",
       "    </tr>\n",
       "    <tr>\n",
       "      <th>199996</th>\n",
       "      <td>199997</td>\n",
       "      <td>DataTech Solutions</td>\n",
       "      <td>Email</td>\n",
       "      <td>Men 25-34</td>\n",
       "      <td>15 days</td>\n",
       "      <td>Facebook</td>\n",
       "      <td>0.02</td>\n",
       "      <td>$8,168.00</td>\n",
       "      <td>4.14</td>\n",
       "      <td>Chicago</td>\n",
       "      <td>Spanish</td>\n",
       "      <td>228</td>\n",
       "      <td>3068</td>\n",
       "      <td>7</td>\n",
       "      <td>Foodies</td>\n",
       "      <td>2021-12-08</td>\n",
       "    </tr>\n",
       "    <tr>\n",
       "      <th>199997</th>\n",
       "      <td>199998</td>\n",
       "      <td>DataTech Solutions</td>\n",
       "      <td>Social Media</td>\n",
       "      <td>Men 18-24</td>\n",
       "      <td>45 days</td>\n",
       "      <td>Website</td>\n",
       "      <td>0.05</td>\n",
       "      <td>$13,397.00</td>\n",
       "      <td>3.25</td>\n",
       "      <td>New York</td>\n",
       "      <td>Mandarin</td>\n",
       "      <td>723</td>\n",
       "      <td>9548</td>\n",
       "      <td>3</td>\n",
       "      <td>Tech Enthusiasts</td>\n",
       "      <td>2021-12-09</td>\n",
       "    </tr>\n",
       "    <tr>\n",
       "      <th>199998</th>\n",
       "      <td>199999</td>\n",
       "      <td>Innovate Industries</td>\n",
       "      <td>Influencer</td>\n",
       "      <td>All Ages</td>\n",
       "      <td>30 days</td>\n",
       "      <td>YouTube</td>\n",
       "      <td>0.10</td>\n",
       "      <td>$18,508.00</td>\n",
       "      <td>3.86</td>\n",
       "      <td>Houston</td>\n",
       "      <td>French</td>\n",
       "      <td>528</td>\n",
       "      <td>2763</td>\n",
       "      <td>1</td>\n",
       "      <td>Foodies</td>\n",
       "      <td>2021-12-10</td>\n",
       "    </tr>\n",
       "    <tr>\n",
       "      <th>199999</th>\n",
       "      <td>200000</td>\n",
       "      <td>Innovate Industries</td>\n",
       "      <td>Social Media</td>\n",
       "      <td>Women 35-44</td>\n",
       "      <td>45 days</td>\n",
       "      <td>Google Ads</td>\n",
       "      <td>0.01</td>\n",
       "      <td>$13,835.00</td>\n",
       "      <td>6.64</td>\n",
       "      <td>Chicago</td>\n",
       "      <td>Spanish</td>\n",
       "      <td>924</td>\n",
       "      <td>7287</td>\n",
       "      <td>8</td>\n",
       "      <td>Tech Enthusiasts</td>\n",
       "      <td>2021-12-11</td>\n",
       "    </tr>\n",
       "  </tbody>\n",
       "</table>\n",
       "</div>"
      ],
      "text/plain": [
       "        Campaign_ID              Company Campaign_Type Target_Audience  \\\n",
       "199995       199996             TechCorp       Display        All Ages   \n",
       "199996       199997   DataTech Solutions         Email       Men 25-34   \n",
       "199997       199998   DataTech Solutions  Social Media       Men 18-24   \n",
       "199998       199999  Innovate Industries    Influencer        All Ages   \n",
       "199999       200000  Innovate Industries  Social Media     Women 35-44   \n",
       "\n",
       "       Duration Channel_Used  Conversion_Rate Acquisition_Cost   ROI  \\\n",
       "199995  30 days   Google Ads             0.06       $18,365.00  2.84   \n",
       "199996  15 days     Facebook             0.02        $8,168.00  4.14   \n",
       "199997  45 days      Website             0.05       $13,397.00  3.25   \n",
       "199998  30 days      YouTube             0.10       $18,508.00  3.86   \n",
       "199999  45 days   Google Ads             0.01       $13,835.00  6.64   \n",
       "\n",
       "        Location  Language  Clicks  Impressions  Engagement_Score  \\\n",
       "199995   Chicago    German     858         5988                 1   \n",
       "199996   Chicago   Spanish     228         3068                 7   \n",
       "199997  New York  Mandarin     723         9548                 3   \n",
       "199998   Houston    French     528         2763                 1   \n",
       "199999   Chicago   Spanish     924         7287                 8   \n",
       "\n",
       "        Customer_Segment        Date  \n",
       "199995  Tech Enthusiasts  2021-12-07  \n",
       "199996           Foodies  2021-12-08  \n",
       "199997  Tech Enthusiasts  2021-12-09  \n",
       "199998           Foodies  2021-12-10  \n",
       "199999  Tech Enthusiasts  2021-12-11  "
      ]
     },
     "execution_count": 3,
     "metadata": {},
     "output_type": "execute_result"
    }
   ],
   "source": [
    "df.tail()"
   ]
  },
  {
   "cell_type": "code",
   "execution_count": 4,
   "id": "379b85f4-8d0c-48e3-8d6a-aacc4d3bec14",
   "metadata": {},
   "outputs": [
    {
     "data": {
      "text/html": [
       "<div>\n",
       "<style scoped>\n",
       "    .dataframe tbody tr th:only-of-type {\n",
       "        vertical-align: middle;\n",
       "    }\n",
       "\n",
       "    .dataframe tbody tr th {\n",
       "        vertical-align: top;\n",
       "    }\n",
       "\n",
       "    .dataframe thead th {\n",
       "        text-align: right;\n",
       "    }\n",
       "</style>\n",
       "<table border=\"1\" class=\"dataframe\">\n",
       "  <thead>\n",
       "    <tr style=\"text-align: right;\">\n",
       "      <th></th>\n",
       "      <th>Campaign_ID</th>\n",
       "      <th>Conversion_Rate</th>\n",
       "      <th>ROI</th>\n",
       "      <th>Clicks</th>\n",
       "      <th>Impressions</th>\n",
       "      <th>Engagement_Score</th>\n",
       "    </tr>\n",
       "  </thead>\n",
       "  <tbody>\n",
       "    <tr>\n",
       "      <th>count</th>\n",
       "      <td>200000.000000</td>\n",
       "      <td>200000.000000</td>\n",
       "      <td>200000.000000</td>\n",
       "      <td>200000.000000</td>\n",
       "      <td>200000.000000</td>\n",
       "      <td>200000.000000</td>\n",
       "    </tr>\n",
       "    <tr>\n",
       "      <th>mean</th>\n",
       "      <td>100000.500000</td>\n",
       "      <td>0.080070</td>\n",
       "      <td>5.002438</td>\n",
       "      <td>549.772030</td>\n",
       "      <td>5507.301520</td>\n",
       "      <td>5.494710</td>\n",
       "    </tr>\n",
       "    <tr>\n",
       "      <th>std</th>\n",
       "      <td>57735.171256</td>\n",
       "      <td>0.040602</td>\n",
       "      <td>1.734488</td>\n",
       "      <td>260.019056</td>\n",
       "      <td>2596.864286</td>\n",
       "      <td>2.872581</td>\n",
       "    </tr>\n",
       "    <tr>\n",
       "      <th>min</th>\n",
       "      <td>1.000000</td>\n",
       "      <td>0.010000</td>\n",
       "      <td>2.000000</td>\n",
       "      <td>100.000000</td>\n",
       "      <td>1000.000000</td>\n",
       "      <td>1.000000</td>\n",
       "    </tr>\n",
       "    <tr>\n",
       "      <th>25%</th>\n",
       "      <td>50000.750000</td>\n",
       "      <td>0.050000</td>\n",
       "      <td>3.500000</td>\n",
       "      <td>325.000000</td>\n",
       "      <td>3266.000000</td>\n",
       "      <td>3.000000</td>\n",
       "    </tr>\n",
       "    <tr>\n",
       "      <th>50%</th>\n",
       "      <td>100000.500000</td>\n",
       "      <td>0.080000</td>\n",
       "      <td>5.010000</td>\n",
       "      <td>550.000000</td>\n",
       "      <td>5517.500000</td>\n",
       "      <td>5.000000</td>\n",
       "    </tr>\n",
       "    <tr>\n",
       "      <th>75%</th>\n",
       "      <td>150000.250000</td>\n",
       "      <td>0.120000</td>\n",
       "      <td>6.510000</td>\n",
       "      <td>775.000000</td>\n",
       "      <td>7753.000000</td>\n",
       "      <td>8.000000</td>\n",
       "    </tr>\n",
       "    <tr>\n",
       "      <th>max</th>\n",
       "      <td>200000.000000</td>\n",
       "      <td>0.150000</td>\n",
       "      <td>8.000000</td>\n",
       "      <td>1000.000000</td>\n",
       "      <td>10000.000000</td>\n",
       "      <td>10.000000</td>\n",
       "    </tr>\n",
       "  </tbody>\n",
       "</table>\n",
       "</div>"
      ],
      "text/plain": [
       "         Campaign_ID  Conversion_Rate            ROI         Clicks  \\\n",
       "count  200000.000000    200000.000000  200000.000000  200000.000000   \n",
       "mean   100000.500000         0.080070       5.002438     549.772030   \n",
       "std     57735.171256         0.040602       1.734488     260.019056   \n",
       "min         1.000000         0.010000       2.000000     100.000000   \n",
       "25%     50000.750000         0.050000       3.500000     325.000000   \n",
       "50%    100000.500000         0.080000       5.010000     550.000000   \n",
       "75%    150000.250000         0.120000       6.510000     775.000000   \n",
       "max    200000.000000         0.150000       8.000000    1000.000000   \n",
       "\n",
       "         Impressions  Engagement_Score  \n",
       "count  200000.000000     200000.000000  \n",
       "mean     5507.301520          5.494710  \n",
       "std      2596.864286          2.872581  \n",
       "min      1000.000000          1.000000  \n",
       "25%      3266.000000          3.000000  \n",
       "50%      5517.500000          5.000000  \n",
       "75%      7753.000000          8.000000  \n",
       "max     10000.000000         10.000000  "
      ]
     },
     "execution_count": 4,
     "metadata": {},
     "output_type": "execute_result"
    }
   ],
   "source": [
    "df.describe()"
   ]
  },
  {
   "cell_type": "code",
   "execution_count": 6,
   "id": "b041ff47-e5cc-4bd1-82b8-5cc4a9026b63",
   "metadata": {},
   "outputs": [
    {
     "data": {
      "text/plain": [
       "0    $16,174.00\n",
       "1    $11,566.00\n",
       "2    $10,200.00\n",
       "3    $12,724.00\n",
       "4    $16,452.00\n",
       "Name: Acquisition_Cost, dtype: object"
      ]
     },
     "execution_count": 6,
     "metadata": {},
     "output_type": "execute_result"
    }
   ],
   "source": [
    "df['Acquisition_Cost'].head()"
   ]
  },
  {
   "cell_type": "code",
   "execution_count": 7,
   "id": "da09313e-f9a3-41c3-8687-d6f3fb6091d7",
   "metadata": {},
   "outputs": [],
   "source": [
    "df['Acquisition_Cost'] = df['Acquisition_Cost'].str.replace('$', '').str.replace(',', '').astype(float)"
   ]
  },
  {
   "cell_type": "code",
   "execution_count": 8,
   "id": "c5b66950-6eb9-43be-b354-5489a92cb1f1",
   "metadata": {},
   "outputs": [
    {
     "name": "stdout",
     "output_type": "stream",
     "text": [
      "총 고객 획득 비용: 2500878608.0\n"
     ]
    }
   ],
   "source": [
    "total_acquisition_cost = df['Acquisition_Cost'].sum()\n",
    "print(\"총 고객 획득 비용:\", total_acquisition_cost)"
   ]
  },
  {
   "cell_type": "code",
   "execution_count": 9,
   "id": "c581ca50-fc43-48b6-a136-3d066b11ecd6",
   "metadata": {},
   "outputs": [
    {
     "name": "stdout",
     "output_type": "stream",
     "text": [
      "채널별 고객 획득 비용:\n",
      "Channel_Used\n",
      "Email         420874104.0\n",
      "Facebook      410595258.0\n",
      "Google Ads    418912314.0\n",
      "Instagram     417124850.0\n",
      "Website       416593500.0\n",
      "YouTube       416778582.0\n",
      "Name: Acquisition_Cost, dtype: float64\n"
     ]
    }
   ],
   "source": [
    "channel_acquisition_cost = df.groupby('Channel_Used')['Acquisition_Cost'].sum()\n",
    "print(\"채널별 고객 획득 비용:\")\n",
    "print(channel_acquisition_cost)"
   ]
  },
  {
   "cell_type": "code",
   "execution_count": 10,
   "id": "61537756-fd09-4d3d-b478-d79f8e81a624",
   "metadata": {},
   "outputs": [],
   "source": [
    "channel_acquisition_cost.to_csv('channel_acquisition_cost.csv')"
   ]
  },
  {
   "cell_type": "code",
   "execution_count": 11,
   "id": "1f43750b-8cf4-4b7f-ba1b-b87b620a366a",
   "metadata": {},
   "outputs": [
    {
     "name": "stdout",
     "output_type": "stream",
     "text": [
      "채널별 평균 구매 전환율:\n",
      "Channel_Used\n",
      "Email         0.080282\n",
      "Facebook      0.079992\n",
      "Google Ads    0.080183\n",
      "Instagram     0.079886\n",
      "Website       0.080183\n",
      "YouTube       0.079889\n",
      "Name: Conversion_Rate, dtype: float64\n"
     ]
    }
   ],
   "source": [
    "channel_conversion_rate = df.groupby('Channel_Used')['Conversion_Rate'].mean()\n",
    "print(\"채널별 평균 구매 전환율:\")\n",
    "print(channel_conversion_rate)"
   ]
  },
  {
   "cell_type": "code",
   "execution_count": 12,
   "id": "cbdfcbcb-0191-4348-bb80-c96dc0ef04a8",
   "metadata": {},
   "outputs": [],
   "source": [
    "channel_conversion_rate.to_csv('channel_conversion_rate.csv')"
   ]
  },
  {
   "cell_type": "code",
   "execution_count": 13,
   "id": "cf4ec026-f005-42e0-ba7c-0eacca544510",
   "metadata": {},
   "outputs": [
    {
     "name": "stdout",
     "output_type": "stream",
     "text": [
      "타깃 고객 그룹별 평균 구매 전환율:\n",
      "Target_Audience\n",
      "All Ages       0.079975\n",
      "Men 18-24      0.080240\n",
      "Men 25-34      0.080132\n",
      "Women 25-34    0.079899\n",
      "Women 35-44    0.080102\n",
      "Name: Conversion_Rate, dtype: float64\n"
     ]
    }
   ],
   "source": [
    "audience_conversion_rate = df.groupby('Target_Audience')['Conversion_Rate'].mean()\n",
    "print(\"타깃 고객 그룹별 평균 구매 전환율:\")\n",
    "print(audience_conversion_rate)"
   ]
  },
  {
   "cell_type": "code",
   "execution_count": 14,
   "id": "e41e8377-06a3-4783-a443-12aade193885",
   "metadata": {},
   "outputs": [],
   "source": [
    "audience_conversion_rate.to_csv('audience_conversion_rate.csv')"
   ]
  },
  {
   "cell_type": "code",
   "execution_count": 15,
   "id": "da3725c6-4546-4b03-bce1-e56e871b9f1e",
   "metadata": {},
   "outputs": [
    {
     "name": "stdout",
     "output_type": "stream",
     "text": [
      "캠페인 기간별 평균 구매 전환율:\n",
      "Duration\n",
      "15 days    0.080101\n",
      "30 days    0.080177\n",
      "45 days    0.079952\n",
      "60 days    0.080048\n",
      "Name: Conversion_Rate, dtype: float64\n"
     ]
    }
   ],
   "source": [
    "duration_conversion_rate = df.groupby('Duration')['Conversion_Rate'].mean()\n",
    "print(\"캠페인 기간별 평균 구매 전환율:\")\n",
    "print(duration_conversion_rate)"
   ]
  },
  {
   "cell_type": "code",
   "execution_count": 16,
   "id": "4fce1aa9-7805-458b-957d-60d211b3d6fb",
   "metadata": {},
   "outputs": [],
   "source": [
    "duration_conversion_rate.to_csv('duration_conversion_rate.csv')"
   ]
  },
  {
   "cell_type": "code",
   "execution_count": 17,
   "id": "2edf07f0-6faa-422b-a22a-fd081c466125",
   "metadata": {},
   "outputs": [
    {
     "name": "stdout",
     "output_type": "stream",
     "text": [
      "지역별 고객 획득 비용:\n",
      "Location\n",
      "Chicago        500731615.0\n",
      "Houston        495061893.0\n",
      "Los Angeles    500637366.0\n",
      "Miami          503974911.0\n",
      "New York       500472823.0\n",
      "Name: Acquisition_Cost, dtype: float64\n"
     ]
    }
   ],
   "source": [
    "location_acquisition_cost = df.groupby('Location')['Acquisition_Cost'].sum()\n",
    "print(\"지역별 고객 획득 비용:\")\n",
    "print(location_acquisition_cost)"
   ]
  },
  {
   "cell_type": "code",
   "execution_count": 18,
   "id": "13273305-844d-4053-b334-397d71d67a68",
   "metadata": {},
   "outputs": [],
   "source": [
    "location_acquisition_cost.to_csv('location_acquisition_cost.csv')"
   ]
  },
  {
   "cell_type": "code",
   "execution_count": null,
   "id": "b32c345f-7710-4780-9bbb-746fd20119f1",
   "metadata": {},
   "outputs": [],
   "source": []
  }
 ],
 "metadata": {
  "kernelspec": {
   "display_name": "Python [conda env:base] *",
   "language": "python",
   "name": "conda-base-py"
  },
  "language_info": {
   "codemirror_mode": {
    "name": "ipython",
    "version": 3
   },
   "file_extension": ".py",
   "mimetype": "text/x-python",
   "name": "python",
   "nbconvert_exporter": "python",
   "pygments_lexer": "ipython3",
   "version": "3.13.5"
  }
 },
 "nbformat": 4,
 "nbformat_minor": 5
}
