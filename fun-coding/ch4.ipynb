{
 "cells": [
  {
   "cell_type": "code",
   "execution_count": 1,
   "id": "0a7b0497-9c3b-4434-9e45-57e5eaf6558d",
   "metadata": {},
   "outputs": [
    {
     "ename": "AttributeError",
     "evalue": "module 'pandas' has no attribute '_version_'",
     "output_type": "error",
     "traceback": [
      "\u001b[0;31m---------------------------------------------------------------------------\u001b[0m",
      "\u001b[0;31mAttributeError\u001b[0m                            Traceback (most recent call last)",
      "Cell \u001b[0;32mIn[1], line 2\u001b[0m\n\u001b[1;32m      1\u001b[0m \u001b[38;5;28;01mimport\u001b[39;00m\u001b[38;5;250m \u001b[39m\u001b[38;5;21;01mpandas\u001b[39;00m\n\u001b[0;32m----> 2\u001b[0m \u001b[38;5;28mprint\u001b[39m(pandas\u001b[38;5;241m.\u001b[39m_version_)\n",
      "\u001b[0;31mAttributeError\u001b[0m: module 'pandas' has no attribute '_version_'"
     ]
    }
   ],
   "source": [
    "import pandas\n",
    "print(pandas._version_)"
   ]
  },
  {
   "cell_type": "code",
   "execution_count": 2,
   "id": "d3f6d3d7-0f01-49c6-9036-420788310f3d",
   "metadata": {},
   "outputs": [
    {
     "name": "stdout",
     "output_type": "stream",
     "text": [
      "Requirement already satisfied: pandas in /opt/anaconda3/lib/python3.13/site-packages (2.2.3)\n",
      "Requirement already satisfied: numpy>=1.26.0 in /opt/anaconda3/lib/python3.13/site-packages (from pandas) (2.1.3)\n",
      "Requirement already satisfied: python-dateutil>=2.8.2 in /opt/anaconda3/lib/python3.13/site-packages (from pandas) (2.9.0.post0)\n",
      "Requirement already satisfied: pytz>=2020.1 in /opt/anaconda3/lib/python3.13/site-packages (from pandas) (2024.1)\n",
      "Requirement already satisfied: tzdata>=2022.7 in /opt/anaconda3/lib/python3.13/site-packages (from pandas) (2025.2)\n",
      "Requirement already satisfied: six>=1.5 in /opt/anaconda3/lib/python3.13/site-packages (from python-dateutil>=2.8.2->pandas) (1.17.0)\n"
     ]
    }
   ],
   "source": [
    "!pip install pandas"
   ]
  },
  {
   "cell_type": "code",
   "execution_count": 3,
   "id": "77671727-e5f2-4286-be71-85ed065cebd1",
   "metadata": {},
   "outputs": [
    {
     "name": "stdout",
     "output_type": "stream",
     "text": [
      "Package                           Version\n",
      "--------------------------------- -------------------\n",
      "aext-assistant                    4.20.0\n",
      "aext-assistant-server             4.20.0\n",
      "aext-core                         4.20.0\n",
      "aext-core-server                  4.20.0\n",
      "aext_environments_server          4.20.0\n",
      "aext-panels                       4.20.0\n",
      "aext-panels-server                4.20.0\n",
      "aext-project-filebrowser-server   4.20.0\n",
      "aext-share-notebook               4.20.0\n",
      "aext-share-notebook-server        4.20.0\n",
      "aext-shared                       4.20.0\n",
      "aext-toolbox                      4.20.0\n",
      "aiobotocore                       2.19.0\n",
      "aiohappyeyeballs                  2.4.4\n",
      "aiohttp                           3.11.10\n",
      "aioitertools                      0.7.1\n",
      "aiosignal                         1.2.0\n",
      "alabaster                         0.7.16\n",
      "alembic                           1.16.4\n",
      "altair                            5.5.0\n",
      "anaconda-anon-usage               0.7.1\n",
      "anaconda-auth                     0.8.6\n",
      "anaconda-catalogs                 0.2.0\n",
      "anaconda-cli-base                 0.5.2\n",
      "anaconda-client                   1.13.0\n",
      "anaconda-navigator                2.6.6\n",
      "anaconda-project                  0.11.1\n",
      "annotated-types                   0.6.0\n",
      "anyio                             4.7.0\n",
      "appdirs                           1.4.4\n",
      "applaunchservices                 0.3.0\n",
      "appnope                           0.1.3\n",
      "appscript                         1.3.0\n",
      "archspec                          0.2.3\n",
      "argon2-cffi                       21.3.0\n",
      "argon2-cffi-bindings              21.2.0\n",
      "arrow                             1.3.0\n",
      "astroid                           3.3.8\n",
      "astropy                           7.0.0\n",
      "astropy-iers-data                 0.2025.1.13.0.34.51\n",
      "asttokens                         3.0.0\n",
      "async-lru                         2.0.4\n",
      "asyncssh                          2.17.0\n",
      "atomicwrites                      1.4.0\n",
      "attrs                             24.3.0\n",
      "Automat                           24.8.1\n",
      "autopep8                          2.0.4\n",
      "babel                             2.16.0\n",
      "bcrypt                            4.3.0\n",
      "beautifulsoup4                    4.12.3\n",
      "binaryornot                       0.4.4\n",
      "black                             24.10.0\n",
      "bleach                            6.2.0\n",
      "blinker                           1.9.0\n",
      "bokeh                             3.6.2\n",
      "boltons                           24.1.0\n",
      "botocore                          1.36.3\n",
      "Bottleneck                        1.4.2\n",
      "Brotli                            1.0.9\n",
      "cachetools                        5.5.1\n",
      "certifi                           2025.8.3\n",
      "cffi                              1.17.1\n",
      "chardet                           4.0.0\n",
      "charset-normalizer                3.3.2\n",
      "click                             8.1.8\n",
      "cloudpickle                       3.0.0\n",
      "colorama                          0.4.6\n",
      "colorcet                          3.1.0\n",
      "comm                              0.2.1\n",
      "conda                             25.5.1\n",
      "conda-anaconda-telemetry          0.1.2\n",
      "conda-anaconda-tos                0.2.0\n",
      "conda-build                       25.5.0\n",
      "conda-content-trust               0.2.0\n",
      "conda_index                       0.6.1\n",
      "conda-libmamba-solver             25.4.0\n",
      "conda-pack                        0.7.1\n",
      "conda-package-handling            2.4.0\n",
      "conda_package_streaming           0.11.0\n",
      "conda-repo-cli                    1.0.165\n",
      "conda-token                       0.6.0\n",
      "constantly                        23.10.4\n",
      "contourpy                         1.3.1\n",
      "cookiecutter                      1.7.3\n",
      "cryptography                      44.0.1\n",
      "cssselect                         1.2.0\n",
      "cycler                            0.11.0\n",
      "cytoolz                           1.0.1\n",
      "dask                              2025.2.0\n",
      "dask-expr                         2.0.0\n",
      "datashader                        0.18.0\n",
      "debugpy                           1.8.11\n",
      "decorator                         5.1.1\n",
      "defusedxml                        0.7.1\n",
      "Deprecated                        1.2.13\n",
      "diff-match-patch                  20200713\n",
      "dill                              0.3.8\n",
      "distributed                       2025.2.0\n",
      "distro                            1.9.0\n",
      "dmglib                            0.9.5\n",
      "docstring-to-markdown             0.11\n",
      "docutils                          0.21.2\n",
      "et_xmlfile                        1.1.0\n",
      "evalidate                         2.0.3\n",
      "executing                         0.8.3\n",
      "fastjsonschema                    2.20.0\n",
      "filelock                          3.17.0\n",
      "flake8                            7.1.1\n",
      "Flask                             3.1.0\n",
      "fonttools                         4.55.3\n",
      "frozendict                        2.4.2\n",
      "frozenlist                        1.5.0\n",
      "fsspec                            2025.3.2\n",
      "gitdb                             4.0.7\n",
      "GitPython                         3.1.43\n",
      "gmpy2                             2.2.1\n",
      "greenlet                          3.1.1\n",
      "h11                               0.16.0\n",
      "h5py                              3.12.1\n",
      "HeapDict                          1.0.1\n",
      "holoviews                         1.20.2\n",
      "httpcore                          1.0.9\n",
      "httpx                             0.28.1\n",
      "hvplot                            0.11.3\n",
      "hyperlink                         21.0.0\n",
      "idna                              3.7\n",
      "imageio                           2.37.0\n",
      "imagesize                         1.4.1\n",
      "imbalanced-learn                  0.13.0\n",
      "importlib_metadata                8.5.0\n",
      "incremental                       24.7.2\n",
      "inflection                        0.5.1\n",
      "iniconfig                         1.1.1\n",
      "intake                            2.0.7\n",
      "intervaltree                      3.1.0\n",
      "ipykernel                         6.29.5\n",
      "ipython                           8.30.0\n",
      "ipywidgets                        8.1.5\n",
      "isort                             6.0.1\n",
      "itemadapter                       0.3.0\n",
      "itemloaders                       1.3.2\n",
      "itsdangerous                      2.2.0\n",
      "jaraco.classes                    3.2.1\n",
      "jaraco.context                    0.0.0\n",
      "jaraco.functools                  4.1.0\n",
      "jedi                              0.19.2\n",
      "jellyfish                         1.1.3\n",
      "Jinja2                            3.1.6\n",
      "jinja2-time                       0.2.0\n",
      "jmespath                          1.0.1\n",
      "joblib                            1.4.2\n",
      "json5                             0.9.25\n",
      "jsonpatch                         1.33\n",
      "jsonpointer                       2.1\n",
      "jsonschema                        4.23.0\n",
      "jsonschema-specifications         2023.7.1\n",
      "jupyter                           1.1.1\n",
      "jupyter_client                    8.6.3\n",
      "jupyter-console                   6.6.3\n",
      "jupyter_core                      5.7.2\n",
      "jupyter-events                    0.12.0\n",
      "jupyter-lsp                       2.2.5\n",
      "jupyter_server                    2.15.0\n",
      "jupyter_server_terminals          0.5.3\n",
      "jupyterlab                        4.3.4\n",
      "jupyterlab_pygments               0.3.0\n",
      "jupyterlab_server                 2.27.3\n",
      "jupyterlab_widgets                3.0.13\n",
      "keyring                           25.6.0\n",
      "kiwisolver                        1.4.8\n",
      "lazy_loader                       0.4\n",
      "lckr_jupyterlab_variableinspector 3.2.4\n",
      "libarchive-c                      5.1\n",
      "libmambapy                        2.0.5\n",
      "lief                              0.16.4\n",
      "linkify-it-py                     2.0.0\n",
      "llvmlite                          0.44.0\n",
      "lmdb                              1.6.2\n",
      "locket                            1.0.0\n",
      "lxml                              5.3.0\n",
      "lz4                               4.3.2\n",
      "Mako                              1.2.3\n",
      "Markdown                          3.8\n",
      "markdown-it-py                    2.2.0\n",
      "MarkupSafe                        3.0.2\n",
      "matplotlib                        3.10.0\n",
      "matplotlib-inline                 0.1.6\n",
      "mccabe                            0.7.0\n",
      "mdit-py-plugins                   0.3.0\n",
      "mdurl                             0.1.0\n",
      "menuinst                          2.2.0\n",
      "mistune                           3.1.2\n",
      "more-itertools                    10.3.0\n",
      "mpmath                            1.3.0\n",
      "msgpack                           1.0.3\n",
      "multidict                         6.1.0\n",
      "multipledispatch                  0.6.0\n",
      "mypy                              1.14.1\n",
      "mypy_extensions                   1.0.0\n",
      "narwhals                          1.31.0\n",
      "navigator-updater                 0.5.1\n",
      "nb_conda_kernels                  2.5.2\n",
      "nbclient                          0.10.2\n",
      "nbconvert                         7.16.6\n",
      "nbformat                          5.10.4\n",
      "nest_asyncio                      1.6.0\n",
      "networkx                          3.4.2\n",
      "nltk                              3.9.1\n",
      "notebook                          7.3.2\n",
      "notebook_shim                     0.2.4\n",
      "numba                             0.61.0\n",
      "numexpr                           2.10.1\n",
      "numpy                             2.1.3\n",
      "numpydoc                          1.2\n",
      "openpyxl                          3.1.5\n",
      "overrides                         7.4.0\n",
      "packaging                         24.2\n",
      "pandas                            2.2.3\n",
      "pandocfilters                     1.5.0\n",
      "panel                             1.7.0\n",
      "param                             2.2.0\n",
      "parsel                            1.8.1\n",
      "parso                             0.8.4\n",
      "partd                             1.4.2\n",
      "pathspec                          0.10.3\n",
      "patsy                             1.0.1\n",
      "pexpect                           4.8.0\n",
      "pickleshare                       0.7.5\n",
      "pillow                            11.1.0\n",
      "pip                               25.1\n",
      "pkce                              1.0.3\n",
      "pkginfo                           1.12.0\n",
      "platformdirs                      4.3.7\n",
      "plotly                            5.24.1\n",
      "pluggy                            1.5.0\n",
      "ply                               3.11\n",
      "poyo                              0.5.0\n",
      "prometheus_client                 0.21.1\n",
      "prompt_toolkit                    3.0.43\n",
      "propcache                         0.3.1\n",
      "Protego                           0.4.0\n",
      "protobuf                          5.29.3\n",
      "psutil                            5.9.0\n",
      "ptyprocess                        0.7.0\n",
      "pure-eval                         0.2.2\n",
      "py-cpuinfo                        9.0.0\n",
      "pyarrow                           19.0.0\n",
      "pyasn1                            0.4.8\n",
      "pyasn1-modules                    0.2.8\n",
      "pycodestyle                       2.12.1\n",
      "pycosat                           0.6.6\n",
      "pycparser                         2.21\n",
      "pyct                              0.5.0\n",
      "pycurl                            7.45.6\n",
      "pydantic                          2.10.3\n",
      "pydantic_core                     2.27.1\n",
      "pydantic-settings                 2.6.1\n",
      "PyDispatcher                      2.0.5\n",
      "pydocstyle                        6.3.0\n",
      "pyerfa                            2.0.1.5\n",
      "pyflakes                          3.2.0\n",
      "PyGithub                          2.4.0\n",
      "Pygments                          2.19.1\n",
      "PyJWT                             2.10.1\n",
      "pylint                            3.3.5\n",
      "pylint-venv                       3.0.3\n",
      "pyls-spyder                       0.4.0\n",
      "PyNaCl                            1.5.0\n",
      "pyobjc-core                       10.1\n",
      "pyobjc-framework-Cocoa            10.1\n",
      "pyobjc-framework-CoreServices     10.1\n",
      "pyobjc-framework-FSEvents         10.1\n",
      "pyodbc                            5.2.0\n",
      "pyOpenSSL                         25.0.0\n",
      "pyparsing                         3.2.0\n",
      "PyQt5                             5.15.10\n",
      "PyQt5_sip                         12.13.0\n",
      "PyQtWebEngine                     5.15.6\n",
      "PySocks                           1.7.1\n",
      "pytest                            8.3.4\n",
      "python-dateutil                   2.9.0.post0\n",
      "python-dotenv                     1.1.0\n",
      "python-json-logger                3.2.1\n",
      "python-lsp-black                  2.0.0\n",
      "python-lsp-jsonrpc                1.1.2\n",
      "python-lsp-server                 1.12.2\n",
      "python-slugify                    5.0.2\n",
      "pytoolconfig                      1.2.6\n",
      "pytz                              2024.1\n",
      "pyuca                             1.2\n",
      "pyviz_comms                       3.0.2\n",
      "PyWavelets                        1.8.0\n",
      "PyYAML                            6.0.2\n",
      "pyzmq                             26.2.0\n",
      "QDarkStyle                        3.2.3\n",
      "qstylizer                         0.2.2\n",
      "QtAwesome                         1.4.0\n",
      "qtconsole                         5.6.1\n",
      "QtPy                              2.4.1\n",
      "queuelib                          1.6.2\n",
      "readchar                          4.0.5\n",
      "referencing                       0.30.2\n",
      "regex                             2024.11.6\n",
      "requests                          2.32.3\n",
      "requests-file                     2.1.0\n",
      "requests-toolbelt                 1.0.0\n",
      "rfc3339_validator                 0.1.4\n",
      "rfc3986_validator                 0.1.1\n",
      "rich                              13.9.4\n",
      "roman-numerals-py                 3.1.0\n",
      "rope                              1.13.0\n",
      "rpds-py                           0.22.3\n",
      "Rtree                             1.0.1\n",
      "ruamel.yaml                       0.18.10\n",
      "ruamel.yaml.clib                  0.2.12\n",
      "ruamel_yaml_conda                 0.17.21\n",
      "s3fs                              2025.3.2\n",
      "scikit-image                      0.25.0\n",
      "scikit-learn                      1.6.1\n",
      "scipy                             1.15.3\n",
      "Scrapy                            2.12.0\n",
      "seaborn                           0.13.2\n",
      "semver                            3.0.2\n",
      "Send2Trash                        1.8.2\n",
      "sentry-sdk                        2.18.0\n",
      "service-identity                  24.2.0\n",
      "setuptools                        72.1.0\n",
      "shellingham                       1.5.0\n",
      "sip                               6.7.12\n",
      "six                               1.17.0\n",
      "sklearn-compat                    0.1.3\n",
      "smmap                             4.0.0\n",
      "sniffio                           1.3.0\n",
      "snowballstemmer                   2.2.0\n",
      "sortedcontainers                  2.4.0\n",
      "soupsieve                         2.5\n",
      "Sphinx                            8.2.3\n",
      "sphinxcontrib-applehelp           2.0.0\n",
      "sphinxcontrib-devhelp             2.0.0\n",
      "sphinxcontrib-htmlhelp            2.1.0\n",
      "sphinxcontrib-jsmath              1.0.1\n",
      "sphinxcontrib-qthelp              2.0.0\n",
      "sphinxcontrib-serializinghtml     2.0.0\n",
      "spyder                            6.0.7\n",
      "spyder-kernels                    3.0.5\n",
      "SQLAlchemy                        2.0.39\n",
      "stack-data                        0.2.0\n",
      "statsmodels                       0.14.4\n",
      "streamlit                         1.45.1\n",
      "superqt                           0.7.3\n",
      "sympy                             1.13.3\n",
      "tables                            3.10.2\n",
      "tabulate                          0.9.0\n",
      "tblib                             3.1.0\n",
      "tenacity                          9.0.0\n",
      "terminado                         0.17.1\n",
      "text-unidecode                    1.3\n",
      "textdistance                      4.2.1\n",
      "threadpoolctl                     3.5.0\n",
      "three-merge                       0.1.1\n",
      "tifffile                          2025.2.18\n",
      "tinycss2                          1.4.0\n",
      "tldextract                        5.1.2\n",
      "toml                              0.10.2\n",
      "tomli                             2.0.1\n",
      "tomlkit                           0.13.2\n",
      "toolz                             1.0.0\n",
      "tornado                           6.5.1\n",
      "tqdm                              4.67.1\n",
      "traitlets                         5.14.3\n",
      "truststore                        0.10.0\n",
      "Twisted                           24.11.0\n",
      "typer                             0.9.0\n",
      "typing_extensions                 4.12.2\n",
      "tzdata                            2025.2\n",
      "uc-micro-py                       1.0.1\n",
      "ujson                             5.10.0\n",
      "Unidecode                         1.3.8\n",
      "urllib3                           2.3.0\n",
      "w3lib                             2.1.2\n",
      "watchdog                          4.0.2\n",
      "wcwidth                           0.2.5\n",
      "webencodings                      0.5.1\n",
      "websocket-client                  1.8.0\n",
      "Werkzeug                          3.1.3\n",
      "whatthepatch                      1.0.2\n",
      "wheel                             0.45.1\n",
      "widgetsnbextension                4.0.13\n",
      "wrapt                             1.17.0\n",
      "wurlitzer                         3.0.2\n",
      "xarray                            2025.4.0\n",
      "xlwings                           0.32.1\n",
      "xyzservices                       2022.9.0\n",
      "yapf                              0.40.2\n",
      "yarl                              1.18.0\n",
      "zict                              3.0.0\n",
      "zipp                              3.21.0\n",
      "zope.interface                    7.1.1\n",
      "zstandard                         0.23.0\n",
      "Note: you may need to restart the kernel to use updated packages.\n"
     ]
    }
   ],
   "source": [
    "pip list"
   ]
  },
  {
   "cell_type": "code",
   "execution_count": 4,
   "id": "fbe494d8-2bc0-4c94-8f33-c1a8dbcd4b6c",
   "metadata": {},
   "outputs": [],
   "source": [
    "import pandas"
   ]
  },
  {
   "cell_type": "code",
   "execution_count": 5,
   "id": "3b7f208f-36f4-4ce1-8c80-c9c391e4fa8d",
   "metadata": {},
   "outputs": [
    {
     "ename": "AttributeError",
     "evalue": "module 'pandas' has no attribute '_version_'",
     "output_type": "error",
     "traceback": [
      "\u001b[0;31m---------------------------------------------------------------------------\u001b[0m",
      "\u001b[0;31mAttributeError\u001b[0m                            Traceback (most recent call last)",
      "Cell \u001b[0;32mIn[5], line 1\u001b[0m\n\u001b[0;32m----> 1\u001b[0m \u001b[38;5;28mprint\u001b[39m(pandas\u001b[38;5;241m.\u001b[39m_version_)\n",
      "\u001b[0;31mAttributeError\u001b[0m: module 'pandas' has no attribute '_version_'"
     ]
    }
   ],
   "source": [
    "print(pandas._version_)"
   ]
  },
  {
   "cell_type": "code",
   "execution_count": 6,
   "id": "ac4da00d-2284-430b-8cc2-15a4666b865f",
   "metadata": {},
   "outputs": [],
   "source": [
    "import pandas"
   ]
  },
  {
   "cell_type": "code",
   "execution_count": 7,
   "id": "b097a3b8-d2b1-4873-8827-9a026ae68d5f",
   "metadata": {},
   "outputs": [
    {
     "name": "stdout",
     "output_type": "stream",
     "text": [
      "2.2.3\n"
     ]
    }
   ],
   "source": [
    "print(pandas.__version__)"
   ]
  },
  {
   "cell_type": "code",
   "execution_count": 8,
   "id": "0de93528-3ab9-4966-9730-552b55f15f8a",
   "metadata": {},
   "outputs": [],
   "source": [
    "import pandas as pd"
   ]
  },
  {
   "cell_type": "code",
   "execution_count": 9,
   "id": "f03d372a-754b-40e9-974d-160aad8578c5",
   "metadata": {},
   "outputs": [
    {
     "data": {
      "text/plain": [
       "pandas.core.series.Series"
      ]
     },
     "execution_count": 9,
     "metadata": {},
     "output_type": "execute_result"
    }
   ],
   "source": [
    "pd.Series"
   ]
  },
  {
   "cell_type": "code",
   "execution_count": 10,
   "id": "c299db88-a480-40bc-ad2d-14b9bf932cbe",
   "metadata": {},
   "outputs": [
    {
     "name": "stdout",
     "output_type": "stream",
     "text": [
      "0    10\n",
      "1    20\n",
      "2    30\n",
      "3    40\n",
      "4    50\n",
      "dtype: int64\n"
     ]
    }
   ],
   "source": [
    "numbers = [10,20,30,40,50]\n",
    "series = pd.Series(numbers)\n",
    "print(series)"
   ]
  },
  {
   "cell_type": "code",
   "execution_count": 12,
   "id": "ca441a1c-1dc7-41ad-aa40-f6e131754ef9",
   "metadata": {},
   "outputs": [
    {
     "name": "stdout",
     "output_type": "stream",
     "text": [
      "0     apple\n",
      "1    banana\n",
      "2    cherry\n",
      "3    durian\n",
      "dtype: object\n"
     ]
    }
   ],
   "source": [
    "fruits = [\"apple\", \"banana\", \"cherry\", \"durian\"]\n",
    "series_str = pd.Series(fruits)\n",
    "print(series_str)"
   ]
  },
  {
   "cell_type": "code",
   "execution_count": 13,
   "id": "791f05e9-d218-4949-9388-4ea625bc5f9b",
   "metadata": {},
   "outputs": [
    {
     "name": "stdout",
     "output_type": "stream",
     "text": [
      "a     apple\n",
      "b    banana\n",
      "c    cherry\n",
      "d    durian\n",
      "dtype: object\n"
     ]
    }
   ],
   "source": [
    "fruits = [\"apple\", \"banana\", \"cherry\", \"durian\"]\n",
    "index_labels = [\"a\", \"b\", \"c\", \"d\"]\n",
    "series_str = pd.Series(fruits, index=index_labels)\n",
    "print(series_str)"
   ]
  },
  {
   "cell_type": "code",
   "execution_count": 14,
   "id": "989d109d-0fa4-47c2-bc9b-869f866be059",
   "metadata": {},
   "outputs": [
    {
     "name": "stdout",
     "output_type": "stream",
     "text": [
      "30\n"
     ]
    }
   ],
   "source": [
    "print(series[2])"
   ]
  },
  {
   "cell_type": "code",
   "execution_count": 15,
   "id": "85206d3c-501c-40e9-a8d2-5127335aac4f",
   "metadata": {},
   "outputs": [
    {
     "name": "stdout",
     "output_type": "stream",
     "text": [
      "cherry\n"
     ]
    }
   ],
   "source": [
    "print(series_str[\"c\"])"
   ]
  },
  {
   "cell_type": "code",
   "execution_count": 16,
   "id": "a9f2f41e-e607-44cd-a53f-133256c12147",
   "metadata": {},
   "outputs": [
    {
     "name": "stdout",
     "output_type": "stream",
     "text": [
      "      Name  Age      City\n",
      "0    Alice   25  New York\n",
      "1      Bob   30    London\n",
      "2  Charlie   35     Paris\n"
     ]
    }
   ],
   "source": [
    "data = {\n",
    "    \"Name\": [\"Alice\", \"Bob\", \"Charlie\"],\n",
    "    \"Age\": [25, 30, 35],\n",
    "    \"City\": [\"New York\", \"London\", \"Paris\"]\n",
    "}\n",
    "df = pd.DataFrame(data)\n",
    "print(df)"
   ]
  },
  {
   "cell_type": "code",
   "execution_count": 17,
   "id": "cf6f7e4d-cd35-4bad-864d-0445c2564c45",
   "metadata": {},
   "outputs": [
    {
     "name": "stdout",
     "output_type": "stream",
     "text": [
      "            Name  Age      City\n",
      "Person1    Alice   25  New York\n",
      "Person2      Bob   30    London\n",
      "Person3  Charlie   35     Paris\n"
     ]
    }
   ],
   "source": [
    "data = {\n",
    "    \"Name\": [\"Alice\", \"Bob\", \"Charlie\"],\n",
    "    \"Age\": [25, 30, 35],\n",
    "    \"City\": [\"New York\", \"London\", \"Paris\"]\n",
    "}\n",
    "df = pd.DataFrame(data, index=[\"Person1\", \"Person2\", \"Person3\"], columns=[\"Name\", \"Age\", \"City\"])\n",
    "print(df)"
   ]
  },
  {
   "cell_type": "code",
   "execution_count": 18,
   "id": "e20c1869-81a1-4207-b9f8-d8752c3c35f9",
   "metadata": {},
   "outputs": [
    {
     "name": "stdout",
     "output_type": "stream",
     "text": [
      "            Name  Age      City\n",
      "Person1    Alcie   25  New York\n",
      "Person2      Bob   30    London\n",
      "Person3  Charlie   35     Paris\n"
     ]
    }
   ],
   "source": [
    "data = [\n",
    "    [\"Alcie\", 25, \"New York\"],\n",
    "    [\"Bob\", 30, \"London\"],\n",
    "    [\"Charlie\", 35, \"Paris\"]\n",
    "]\n",
    "df = pd.DataFrame(data, index=[\"Person1\", \"Person2\", \"Person3\"], columns=[\"Name\", \"Age\", \"City\"])\n",
    "print(df)"
   ]
  },
  {
   "cell_type": "code",
   "execution_count": 19,
   "id": "68b342fa-c11c-49bf-ab35-97eaf164abd7",
   "metadata": {},
   "outputs": [
    {
     "name": "stdout",
     "output_type": "stream",
     "text": [
      "Person1      Alcie\n",
      "Person2        Bob\n",
      "Person3    Charlie\n",
      "Name: Name, dtype: object\n"
     ]
    }
   ],
   "source": [
    "name_column = df[\"Name\"]\n",
    "print(name_column)"
   ]
  },
  {
   "cell_type": "code",
   "execution_count": 21,
   "id": "fac68ce1-b9f2-44dd-82b0-4a9d8b5f3172",
   "metadata": {},
   "outputs": [
    {
     "name": "stdout",
     "output_type": "stream",
     "text": [
      "            Name  Age\n",
      "Person1    Alcie   25\n",
      "Person2      Bob   30\n",
      "Person3  Charlie   35\n"
     ]
    }
   ],
   "source": [
    "name_age_columns = df[[\"Name\", \"Age\"]]\n",
    "print(name_age_columns)"
   ]
  },
  {
   "cell_type": "code",
   "execution_count": 22,
   "id": "a08dc77c-bd27-4bfc-a947-26db958dfdfa",
   "metadata": {},
   "outputs": [
    {
     "name": "stdout",
     "output_type": "stream",
     "text": [
      "Name       Alcie\n",
      "Age           25\n",
      "City    New York\n",
      "Name: Person1, dtype: object\n"
     ]
    }
   ],
   "source": [
    "person1_row = df.loc[\"Person1\"]\n",
    "print(person1_row)"
   ]
  },
  {
   "cell_type": "code",
   "execution_count": 24,
   "id": "bfdd947a-9862-493f-add4-a0d14a0ada92",
   "metadata": {},
   "outputs": [
    {
     "name": "stdout",
     "output_type": "stream",
     "text": [
      "Name       Alcie\n",
      "Age           25\n",
      "City    New York\n",
      "Name: Person1, dtype: object\n"
     ]
    }
   ],
   "source": [
    "first_row = df.iloc[0]\n",
    "print(first_row)"
   ]
  },
  {
   "cell_type": "code",
   "execution_count": 25,
   "id": "6cf1a61e-a941-43f2-a45e-f9fd11a667f3",
   "metadata": {},
   "outputs": [
    {
     "name": "stdout",
     "output_type": "stream",
     "text": [
      "Name    Bob\n",
      "Age      30\n",
      "Name: Person2, dtype: object\n"
     ]
    }
   ],
   "source": [
    "person2_name_age = df.loc[\"Person2\", [\"Name\", \"Age\"]]\n",
    "print(person2_name_age)"
   ]
  },
  {
   "cell_type": "code",
   "execution_count": 26,
   "id": "1ea6406b-6f82-4c83-b619-d78301295fbe",
   "metadata": {},
   "outputs": [
    {
     "name": "stdout",
     "output_type": "stream",
     "text": [
      "Name       Bob\n",
      "City    London\n",
      "Name: Person2, dtype: object\n"
     ]
    }
   ],
   "source": [
    "secound_row_first_third_coulumns = df.iloc[1, [0,2]]\n",
    "print(secound_row_first_third_coulumns)"
   ]
  },
  {
   "cell_type": "code",
   "execution_count": 29,
   "id": "282a649e-f1ba-4ba5-a007-ae1393877549",
   "metadata": {},
   "outputs": [
    {
     "name": "stdout",
     "output_type": "stream",
     "text": [
      "a    10\n",
      "b    20\n",
      "c    30\n",
      "d    40\n",
      "e    50\n",
      "dtype: int64\n",
      "30\n"
     ]
    }
   ],
   "source": [
    "import pandas as pd\n",
    "data = [10, 20, 30, 40, 50]\n",
    "myindex = [\"a\", \"b\", \"c\", \"d\", \"e\"]\n",
    "\n",
    "my_series = pd.Series(data, index=myindex)\n",
    "print(my_series)\n",
    "print(my_series[\"c\"])"
   ]
  },
  {
   "cell_type": "code",
   "execution_count": 32,
   "id": "85499aeb-fc45-4bc1-92f7-bd8a249d9ff8",
   "metadata": {},
   "outputs": [
    {
     "name": "stdout",
     "output_type": "stream",
     "text": [
      "   Name  Age      City\n",
      "0  John   28  New York\n",
      "1  Jane   32    London\n",
      "2   Tom   45     Paris\n"
     ]
    },
    {
     "ename": "KeyError",
     "evalue": "'Name'",
     "output_type": "error",
     "traceback": [
      "\u001b[0;31m---------------------------------------------------------------------------\u001b[0m",
      "\u001b[0;31mKeyError\u001b[0m                                  Traceback (most recent call last)",
      "Cell \u001b[0;32mIn[32], line 10\u001b[0m\n\u001b[1;32m      8\u001b[0m df \u001b[38;5;241m=\u001b[39m pd\u001b[38;5;241m.\u001b[39mDataFrame(data)\n\u001b[1;32m      9\u001b[0m \u001b[38;5;28mprint\u001b[39m(df)\n\u001b[0;32m---> 10\u001b[0m \u001b[38;5;28mprint\u001b[39m(df\u001b[38;5;241m.\u001b[39mloc[\u001b[38;5;124m\"\u001b[39m\u001b[38;5;124mName\u001b[39m\u001b[38;5;124m\"\u001b[39m])\n\u001b[1;32m     11\u001b[0m \u001b[38;5;28mprint\u001b[39m(df\u001b[38;5;241m.\u001b[39miloc[\u001b[38;5;241m1\u001b[39m, [\u001b[38;5;124m\"\u001b[39m\u001b[38;5;124mCity\u001b[39m\u001b[38;5;124m\"\u001b[39m]])\n",
      "File \u001b[0;32m/opt/anaconda3/lib/python3.13/site-packages/pandas/core/indexing.py:1191\u001b[0m, in \u001b[0;36m_LocationIndexer.__getitem__\u001b[0;34m(self, key)\u001b[0m\n\u001b[1;32m   1189\u001b[0m maybe_callable \u001b[38;5;241m=\u001b[39m com\u001b[38;5;241m.\u001b[39mapply_if_callable(key, \u001b[38;5;28mself\u001b[39m\u001b[38;5;241m.\u001b[39mobj)\n\u001b[1;32m   1190\u001b[0m maybe_callable \u001b[38;5;241m=\u001b[39m \u001b[38;5;28mself\u001b[39m\u001b[38;5;241m.\u001b[39m_check_deprecated_callable_usage(key, maybe_callable)\n\u001b[0;32m-> 1191\u001b[0m \u001b[38;5;28;01mreturn\u001b[39;00m \u001b[38;5;28mself\u001b[39m\u001b[38;5;241m.\u001b[39m_getitem_axis(maybe_callable, axis\u001b[38;5;241m=\u001b[39maxis)\n",
      "File \u001b[0;32m/opt/anaconda3/lib/python3.13/site-packages/pandas/core/indexing.py:1431\u001b[0m, in \u001b[0;36m_LocIndexer._getitem_axis\u001b[0;34m(self, key, axis)\u001b[0m\n\u001b[1;32m   1429\u001b[0m \u001b[38;5;66;03m# fall thru to straight lookup\u001b[39;00m\n\u001b[1;32m   1430\u001b[0m \u001b[38;5;28mself\u001b[39m\u001b[38;5;241m.\u001b[39m_validate_key(key, axis)\n\u001b[0;32m-> 1431\u001b[0m \u001b[38;5;28;01mreturn\u001b[39;00m \u001b[38;5;28mself\u001b[39m\u001b[38;5;241m.\u001b[39m_get_label(key, axis\u001b[38;5;241m=\u001b[39maxis)\n",
      "File \u001b[0;32m/opt/anaconda3/lib/python3.13/site-packages/pandas/core/indexing.py:1381\u001b[0m, in \u001b[0;36m_LocIndexer._get_label\u001b[0;34m(self, label, axis)\u001b[0m\n\u001b[1;32m   1379\u001b[0m \u001b[38;5;28;01mdef\u001b[39;00m\u001b[38;5;250m \u001b[39m\u001b[38;5;21m_get_label\u001b[39m(\u001b[38;5;28mself\u001b[39m, label, axis: AxisInt):\n\u001b[1;32m   1380\u001b[0m     \u001b[38;5;66;03m# GH#5567 this will fail if the label is not present in the axis.\u001b[39;00m\n\u001b[0;32m-> 1381\u001b[0m     \u001b[38;5;28;01mreturn\u001b[39;00m \u001b[38;5;28mself\u001b[39m\u001b[38;5;241m.\u001b[39mobj\u001b[38;5;241m.\u001b[39mxs(label, axis\u001b[38;5;241m=\u001b[39maxis)\n",
      "File \u001b[0;32m/opt/anaconda3/lib/python3.13/site-packages/pandas/core/generic.py:4301\u001b[0m, in \u001b[0;36mNDFrame.xs\u001b[0;34m(self, key, axis, level, drop_level)\u001b[0m\n\u001b[1;32m   4299\u001b[0m             new_index \u001b[38;5;241m=\u001b[39m index[loc]\n\u001b[1;32m   4300\u001b[0m \u001b[38;5;28;01melse\u001b[39;00m:\n\u001b[0;32m-> 4301\u001b[0m     loc \u001b[38;5;241m=\u001b[39m index\u001b[38;5;241m.\u001b[39mget_loc(key)\n\u001b[1;32m   4303\u001b[0m     \u001b[38;5;28;01mif\u001b[39;00m \u001b[38;5;28misinstance\u001b[39m(loc, np\u001b[38;5;241m.\u001b[39mndarray):\n\u001b[1;32m   4304\u001b[0m         \u001b[38;5;28;01mif\u001b[39;00m loc\u001b[38;5;241m.\u001b[39mdtype \u001b[38;5;241m==\u001b[39m np\u001b[38;5;241m.\u001b[39mbool_:\n",
      "File \u001b[0;32m/opt/anaconda3/lib/python3.13/site-packages/pandas/core/indexes/range.py:417\u001b[0m, in \u001b[0;36mRangeIndex.get_loc\u001b[0;34m(self, key)\u001b[0m\n\u001b[1;32m    415\u001b[0m         \u001b[38;5;28;01mraise\u001b[39;00m \u001b[38;5;167;01mKeyError\u001b[39;00m(key) \u001b[38;5;28;01mfrom\u001b[39;00m\u001b[38;5;250m \u001b[39m\u001b[38;5;21;01merr\u001b[39;00m\n\u001b[1;32m    416\u001b[0m \u001b[38;5;28;01mif\u001b[39;00m \u001b[38;5;28misinstance\u001b[39m(key, Hashable):\n\u001b[0;32m--> 417\u001b[0m     \u001b[38;5;28;01mraise\u001b[39;00m \u001b[38;5;167;01mKeyError\u001b[39;00m(key)\n\u001b[1;32m    418\u001b[0m \u001b[38;5;28mself\u001b[39m\u001b[38;5;241m.\u001b[39m_check_indexing_error(key)\n\u001b[1;32m    419\u001b[0m \u001b[38;5;28;01mraise\u001b[39;00m \u001b[38;5;167;01mKeyError\u001b[39;00m(key)\n",
      "\u001b[0;31mKeyError\u001b[0m: 'Name'"
     ]
    }
   ],
   "source": [
    "import pandas as pd\n",
    "data = {\n",
    "    \"Name\": [\"John\", \"Jane\", \"Tom\"],\n",
    "    \"Age\": [28, 32, 45],\n",
    "    \"City\": [\"New York\", \"London\", \"Paris\"]\n",
    "}\n",
    "\n",
    "df = pd.DataFrame(data)\n",
    "print(df)\n",
    "print(df.loc[\"Name\"])\n",
    "print(df.iloc[1, [\"City\"]])"
   ]
  },
  {
   "cell_type": "code",
   "execution_count": null,
   "id": "2a98d19f-57ab-461c-8923-0b729a0660ed",
   "metadata": {},
   "outputs": [],
   "source": []
  }
 ],
 "metadata": {
  "kernelspec": {
   "display_name": "Python [conda env:base] *",
   "language": "python",
   "name": "conda-base-py"
  },
  "language_info": {
   "codemirror_mode": {
    "name": "ipython",
    "version": 3
   },
   "file_extension": ".py",
   "mimetype": "text/x-python",
   "name": "python",
   "nbconvert_exporter": "python",
   "pygments_lexer": "ipython3",
   "version": "3.13.5"
  }
 },
 "nbformat": 4,
 "nbformat_minor": 5
}
