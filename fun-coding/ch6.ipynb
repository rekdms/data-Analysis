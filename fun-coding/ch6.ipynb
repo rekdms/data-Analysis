{
 "cells": [
  {
   "cell_type": "code",
   "execution_count": 1,
   "id": "6f35ac24-c120-4cd1-b3a5-ed1bc46d4ebd",
   "metadata": {},
   "outputs": [],
   "source": [
    "import pandas as pd\n",
    "df = pd.read_csv('aug_train.csv')"
   ]
  },
  {
   "cell_type": "code",
   "execution_count": 2,
   "id": "e12031e7-44b5-4ede-8e57-61d4003662e4",
   "metadata": {},
   "outputs": [
    {
     "name": "stdout",
     "output_type": "stream",
     "text": [
      "=== 각 열의 결측치 개수 ===\n",
      "enrollee_id                  0\n",
      "city                         0\n",
      "city_development_index       0\n",
      "gender                    4508\n",
      "relevent_experience          0\n",
      "enrolled_university        386\n",
      "education_level            460\n",
      "major_discipline          2813\n",
      "experience                  65\n",
      "company_size              5938\n",
      "company_type              6140\n",
      "last_new_job               423\n",
      "training_hours               0\n",
      "target                       0\n",
      "dtype: int64\n"
     ]
    }
   ],
   "source": [
    "print(\"=== 각 열의 결측치 개수 ===\")\n",
    "print(df.isnull().sum())"
   ]
  },
  {
   "cell_type": "code",
   "execution_count": 3,
   "id": "370fc923-0c42-4512-b59c-edd201d38424",
   "metadata": {},
   "outputs": [
    {
     "name": "stdout",
     "output_type": "stream",
     "text": [
      "       enrollee_id   city  city_development_index  gender  \\\n",
      "0            False  False                   False   False   \n",
      "1            False  False                   False   False   \n",
      "2            False  False                   False    True   \n",
      "3            False  False                   False    True   \n",
      "4            False  False                   False   False   \n",
      "...            ...    ...                     ...     ...   \n",
      "19153        False  False                   False   False   \n",
      "19154        False  False                   False   False   \n",
      "19155        False  False                   False   False   \n",
      "19156        False  False                   False   False   \n",
      "19157        False  False                   False    True   \n",
      "\n",
      "       relevent_experience  enrolled_university  education_level  \\\n",
      "0                    False                False            False   \n",
      "1                    False                False            False   \n",
      "2                    False                False            False   \n",
      "3                    False                 True            False   \n",
      "4                    False                False            False   \n",
      "...                    ...                  ...              ...   \n",
      "19153                False                False            False   \n",
      "19154                False                False            False   \n",
      "19155                False                False            False   \n",
      "19156                False                False            False   \n",
      "19157                False                False            False   \n",
      "\n",
      "       major_discipline  experience  company_size  company_type  last_new_job  \\\n",
      "0                 False       False          True          True         False   \n",
      "1                 False       False         False         False         False   \n",
      "2                 False       False          True          True         False   \n",
      "3                 False       False          True         False         False   \n",
      "4                 False       False         False         False         False   \n",
      "...                 ...         ...           ...           ...           ...   \n",
      "19153             False       False          True          True         False   \n",
      "19154             False       False          True          True         False   \n",
      "19155             False       False         False         False         False   \n",
      "19156              True       False         False         False         False   \n",
      "19157              True       False          True          True         False   \n",
      "\n",
      "       training_hours  target  \n",
      "0               False   False  \n",
      "1               False   False  \n",
      "2               False   False  \n",
      "3               False   False  \n",
      "4               False   False  \n",
      "...               ...     ...  \n",
      "19153           False   False  \n",
      "19154           False   False  \n",
      "19155           False   False  \n",
      "19156           False   False  \n",
      "19157           False   False  \n",
      "\n",
      "[19158 rows x 14 columns]\n",
      "enrollee_id                  0\n",
      "city                         0\n",
      "city_development_index       0\n",
      "gender                    4508\n",
      "relevent_experience          0\n",
      "enrolled_university        386\n",
      "education_level            460\n",
      "major_discipline          2813\n",
      "experience                  65\n",
      "company_size              5938\n",
      "company_type              6140\n",
      "last_new_job               423\n",
      "training_hours               0\n",
      "target                       0\n",
      "dtype: int64\n"
     ]
    }
   ],
   "source": [
    "m_value = df.isnull()\n",
    "print(m_value)\n",
    "print(m_value.sum())"
   ]
  },
  {
   "cell_type": "code",
   "execution_count": 4,
   "id": "98f894f3-2bf8-40b9-9970-2cf683454939",
   "metadata": {},
   "outputs": [
    {
     "name": "stdout",
     "output_type": "stream",
     "text": [
      "성별 정보 결측치 수: 4508\n"
     ]
    }
   ],
   "source": [
    "missing_gender = df['gender'].isnull().sum()\n",
    "print(\"성별 정보 결측치 수:\" , missing_gender)"
   ]
  },
  {
   "cell_type": "code",
   "execution_count": 6,
   "id": "000788c7-34e3-46dd-be35-5214b28e7476",
   "metadata": {},
   "outputs": [
    {
     "name": "stdout",
     "output_type": "stream",
     "text": [
      "근무 경력 결측치 수: 65\n"
     ]
    }
   ],
   "source": [
    "missing_experience = df['experience'].isna().sum()\n",
    "print(\"근무 경력 결측치 수:\", missing_experience)"
   ]
  },
  {
   "cell_type": "code",
   "execution_count": 9,
   "id": "096b09c8-6aab-4423-ad75-81ccd9cfb208",
   "metadata": {},
   "outputs": [
    {
     "name": "stdout",
     "output_type": "stream",
     "text": [
      "성별과 교육 수준이 모두 결측치인 지원자 수: 201\n"
     ]
    }
   ],
   "source": [
    "both_missing = df[df['gender'].isnull() & df['education_level'].isnull()]\n",
    "print(\"성별과 교육 수준이 모두 결측치인 지원자 수:\", len(both_missing))"
   ]
  },
  {
   "cell_type": "code",
   "execution_count": 10,
   "id": "5a4f2e34-3021-46dd-9525-f5cddccdf777",
   "metadata": {},
   "outputs": [
    {
     "name": "stdout",
     "output_type": "stream",
     "text": [
      "원본 데이터프레임 크키: (19158, 14)\n",
      "결측치 제거 후 데이터프레임 크키: (8955, 14)\n"
     ]
    }
   ],
   "source": [
    "print(\"원본 데이터프레임 크키:\", df.shape)\n",
    "df_dropna = df.dropna()\n",
    "print(\"결측치 제거 후 데이터프레임 크키:\", df_dropna.shape)"
   ]
  },
  {
   "cell_type": "code",
   "execution_count": 12,
   "id": "4b761d69-7c9f-4d2c-bc07-51ab9e70653b",
   "metadata": {},
   "outputs": [
    {
     "name": "stdout",
     "output_type": "stream",
     "text": [
      "임계값 적용 후 데이터프레임 크기: (16327, 14)\n"
     ]
    }
   ],
   "source": [
    "df_thresh = df.dropna(thresh=12)\n",
    "print(\"임계값 적용 후 데이터프레임 크기:\", df_thresh.shape)"
   ]
  },
  {
   "cell_type": "code",
   "execution_count": 13,
   "id": "2b7344d9-dd93-42cb-a4d5-b007ce9d9e61",
   "metadata": {},
   "outputs": [
    {
     "name": "stdout",
     "output_type": "stream",
     "text": [
      "원본 데이터프레임의 행 개수: 19158\n",
      "모든 값이 결측치인 행 제거 후 행 개수: 19158\n"
     ]
    }
   ],
   "source": [
    "df_dropna_rows = df.dropna(axis=0, how='all')\n",
    "print(\"원본 데이터프레임의 행 개수:\", df.shape[0])\n",
    "print(\"모든 값이 결측치인 행 제거 후 행 개수:\", df_dropna_rows.shape[0])"
   ]
  },
  {
   "cell_type": "code",
   "execution_count": 14,
   "id": "49e6ed01-53b0-42f6-b044-7f27aa0b0dcf",
   "metadata": {},
   "outputs": [
    {
     "name": "stdout",
     "output_type": "stream",
     "text": [
      "원본 데이터프레임의 행 개수: 14\n",
      "모든 값이 결측치인 행 제거 후 행 개수: 14\n"
     ]
    }
   ],
   "source": [
    "df_dropna_columns = df.dropna(axis=1, how='all')\n",
    "print(\"원본 데이터프레임의 열 개수:\", df.shape[1])\n",
    "print(\"모든 값이 결측치인 열 제거 후 열 개수:\", df_dropna_rows.shape[1])"
   ]
  },
  {
   "cell_type": "code",
   "execution_count": 15,
   "id": "9b7b8f6b-120d-41de-8024-f941252848f9",
   "metadata": {},
   "outputs": [
    {
     "name": "stdout",
     "output_type": "stream",
     "text": [
      "원본 데이터프레임의 행 개수: 19158\n",
      "결측치가 있는 행 제거 후 행 개수: 8955\n",
      "제거된 행의 수: 10203\n"
     ]
    }
   ],
   "source": [
    "df_dropna_any = df.dropna(axis=0, how='any')\n",
    "print(\"원본 데이터프레임의 행 개수:\", df.shape[0])\n",
    "print(\"결측치가 있는 행 제거 후 행 개수:\", df_dropna_any.shape[0])\n",
    "print(\"제거된 행의 수:\", df.shape[0] - df_dropna_any.shape[0])"
   ]
  },
  {
   "cell_type": "code",
   "execution_count": 17,
   "id": "4a7b98bf-09a1-4aab-a81d-cba4a2d4dfd9",
   "metadata": {},
   "outputs": [
    {
     "name": "stdout",
     "output_type": "stream",
     "text": [
      "company_type 열의 결측치 비율: 32.05%\n",
      "열 제거 후 데이터프레임 크기:  (19158, 13)\n"
     ]
    }
   ],
   "source": [
    "missing_ratio = df['company_type'].isnull().sum() / len(df) * 100\n",
    "print(\"company_type 열의 결측치 비율: {:.2f}%\".format(missing_ratio))\n",
    "df_drop_company_type = df.drop(columns=['company_type'])\n",
    "print(\"열 제거 후 데이터프레임 크기: \", df_drop_company_type.shape)"
   ]
  },
  {
   "cell_type": "code",
   "execution_count": 19,
   "id": "1a135193-d3b2-4a7c-9f07-a6dff0e41386",
   "metadata": {},
   "outputs": [
    {
     "name": "stdout",
     "output_type": "stream",
     "text": [
      "원본 데이터프레임:\n",
      "     A    B\n",
      "0  1.0  NaN\n",
      "1  NaN  2.0\n",
      "2  3.0  NaN\n",
      "3  NaN  4.0\n",
      "4  5.0  NaN\n"
     ]
    }
   ],
   "source": [
    "df = pd.DataFrame({\n",
    "    'A': [1, None, 3, None, 5],\n",
    "    'B': [None, 2, None, 4, None]\n",
    "})\n",
    "print(\"원본 데이터프레임:\")\n",
    "print(df)"
   ]
  },
  {
   "cell_type": "code",
   "execution_count": 20,
   "id": "a8a8c3ce-96a4-491b-8108-012dc0f5afe5",
   "metadata": {},
   "outputs": [
    {
     "name": "stdout",
     "output_type": "stream",
     "text": [
      "결측치를 0으로 대체한 데이터프레임:\n",
      "     A    B\n",
      "0  1.0  0.0\n",
      "1  0.0  2.0\n",
      "2  3.0  0.0\n",
      "3  0.0  4.0\n",
      "4  5.0  0.0\n"
     ]
    }
   ],
   "source": [
    "df_filled = df.fillna(0)\n",
    "print(\"결측치를 0으로 대체한 데이터프레임:\")\n",
    "print(df_filled)"
   ]
  },
  {
   "cell_type": "code",
   "execution_count": 21,
   "id": "16029ab7-6249-4969-bd91-e49c6c564d55",
   "metadata": {},
   "outputs": [
    {
     "name": "stdout",
     "output_type": "stream",
     "text": [
      "열마다 다른 값으로 결측치를 대체한 데이터프레임:\n",
      "     A    B\n",
      "0  1.0  3.0\n",
      "1  3.0  2.0\n",
      "2  3.0  3.0\n",
      "3  3.0  4.0\n",
      "4  5.0  3.0\n"
     ]
    }
   ],
   "source": [
    "values = {'A': df['A'].mean(), 'B': df['B'].median()}\n",
    "df_filled_columns = df.fillna(value=values)\n",
    "print(\"열마다 다른 값으로 결측치를 대체한 데이터프레임:\")\n",
    "print(df_filled_columns)"
   ]
  },
  {
   "cell_type": "code",
   "execution_count": 22,
   "id": "b1eaf41b-efd3-453c-994a-6ed02284ff9b",
   "metadata": {},
   "outputs": [
    {
     "name": "stdout",
     "output_type": "stream",
     "text": [
      "대체 횟수를 1로 지정하고 열마다 다른 값으로 결측치를 대체한 데이터프레임:\n",
      "     A    B\n",
      "0  1.0  3.0\n",
      "1  3.0  2.0\n",
      "2  3.0  NaN\n",
      "3  NaN  4.0\n",
      "4  5.0  NaN\n"
     ]
    }
   ],
   "source": [
    "values = {'A': df['A'].mean(), 'B': df['B'].median()}\n",
    "df_filled_columns_limit = df.fillna(value=values, limit=1)\n",
    "print(\"대체 횟수를 1로 지정하고 열마다 다른 값으로 결측치를 대체한 데이터프레임:\")\n",
    "print(df_filled_columns_limit)"
   ]
  },
  {
   "cell_type": "code",
   "execution_count": 23,
   "id": "60beba4b-3e99-4fac-99c0-7c331dbdb7cd",
   "metadata": {},
   "outputs": [
    {
     "name": "stdout",
     "output_type": "stream",
     "text": [
      "원본 데이터프레임을 수정해 결측치를 0으로 대체한 결과:\n",
      "     A    B\n",
      "0  1.0  0.0\n",
      "1  0.0  2.0\n",
      "2  3.0  0.0\n",
      "3  0.0  4.0\n",
      "4  5.0  0.0\n"
     ]
    }
   ],
   "source": [
    "df.fillna(0, inplace=True)\n",
    "print(\"원본 데이터프레임을 수정해 결측치를 0으로 대체한 결과:\")\n",
    "print(df)"
   ]
  },
  {
   "cell_type": "code",
   "execution_count": 24,
   "id": "6c38e600-2818-4403-b74f-4ff71f832140",
   "metadata": {},
   "outputs": [
    {
     "name": "stdout",
     "output_type": "stream",
     "text": [
      "gender 열 결측치를 Not Specified로 대체한 데이터프레임:\n",
      "gender\n",
      "Male             13221\n",
      "Not Specified     4508\n",
      "Female            1238\n",
      "Other              191\n",
      "Name: count, dtype: int64\n"
     ]
    }
   ],
   "source": [
    "import pandas as pd\n",
    "df = pd.read_csv('aug_train.csv')\n",
    "df['gender'] = df['gender'].fillna('Not Specified')\n",
    "print(\"gender 열 결측치를 Not Specified로 대체한 데이터프레임:\")\n",
    "print(df['gender'].value_counts())"
   ]
  },
  {
   "cell_type": "code",
   "execution_count": 25,
   "id": "2b13dae5-2e88-449f-9f9e-ec63742ee751",
   "metadata": {},
   "outputs": [
    {
     "name": "stdout",
     "output_type": "stream",
     "text": [
      "education_level\n",
      "Graduate          11598\n",
      "Masters            4361\n",
      "High School        2017\n",
      "Unknown             460\n",
      "Phd                 414\n",
      "Primary School      308\n",
      "Name: count, dtype: int64\n"
     ]
    }
   ],
   "source": [
    "df['education_level'] = df['education_level'].fillna('Unknown')\n",
    "print(df['education_level'].value_counts())"
   ]
  },
  {
   "cell_type": "code",
   "execution_count": 26,
   "id": "8e5ec204-0ab2-4371-af0f-c9d287dfb123",
   "metadata": {},
   "outputs": [
    {
     "name": "stdout",
     "output_type": "stream",
     "text": [
      "experience 열의 결측치를 0으로 대체한 데이터프레임:\n",
      "experience\n",
      ">20    3286\n",
      "5      1430\n",
      "4      1403\n",
      "3      1354\n",
      "6      1216\n",
      "2      1127\n",
      "7      1028\n",
      "10      985\n",
      "9       980\n",
      "8       802\n",
      "15      686\n",
      "11      664\n",
      "14      586\n",
      "1       549\n",
      "<1      522\n",
      "16      508\n",
      "12      494\n",
      "13      399\n",
      "17      342\n",
      "19      304\n",
      "18      280\n",
      "20      148\n",
      "0        65\n",
      "Name: count, dtype: int64\n"
     ]
    }
   ],
   "source": [
    "df['experience'] = df['experience'].fillna(0)\n",
    "print(\"experience 열의 결측치를 0으로 대체한 데이터프레임:\")\n",
    "print(df['experience'].value_counts())"
   ]
  },
  {
   "cell_type": "code",
   "execution_count": null,
   "id": "b1412ba4-56e2-4084-a16c-b8fc63f301b0",
   "metadata": {},
   "outputs": [],
   "source": []
  }
 ],
 "metadata": {
  "kernelspec": {
   "display_name": "Python [conda env:base] *",
   "language": "python",
   "name": "conda-base-py"
  },
  "language_info": {
   "codemirror_mode": {
    "name": "ipython",
    "version": 3
   },
   "file_extension": ".py",
   "mimetype": "text/x-python",
   "name": "python",
   "nbconvert_exporter": "python",
   "pygments_lexer": "ipython3",
   "version": "3.13.5"
  }
 },
 "nbformat": 4,
 "nbformat_minor": 5
}
